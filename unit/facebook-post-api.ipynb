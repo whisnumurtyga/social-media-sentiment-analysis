{
 "cells": [
  {
   "cell_type": "code",
   "execution_count": 21,
   "metadata": {},
   "outputs": [],
   "source": [
    "import facebook_scraper as fs\n"
   ]
  },
  {
   "cell_type": "code",
   "execution_count": 17,
   "metadata": {},
   "outputs": [],
   "source": [
    "max_posts = 100"
   ]
  },
  {
   "cell_type": "code",
   "execution_count": 22,
   "metadata": {},
   "outputs": [],
   "source": [
    "gen = fs.get_posts(\n",
    "    hashtag='prabowogibran'\n",
    ")"
   ]
  },
  {
   "cell_type": "code",
   "execution_count": 26,
   "metadata": {},
   "outputs": [
    {
     "ename": "StopIteration",
     "evalue": "",
     "output_type": "error",
     "traceback": [
      "\u001b[1;31m---------------------------------------------------------------------------\u001b[0m",
      "\u001b[1;31mStopIteration\u001b[0m                             Traceback (most recent call last)",
      "\u001b[1;32mc:\\Users\\whisn\\Downloads\\Whisnumurty\\Kuliah\\Semester 5\\Sistem Temu Kembali Informasi\\Final Project\\unit\\facebook-post-api.ipynb Cell 4\u001b[0m line \u001b[0;36m2\n\u001b[0;32m     <a href='vscode-notebook-cell:/c%3A/Users/whisn/Downloads/Whisnumurty/Kuliah/Semester%205/Sistem%20Temu%20Kembali%20Informasi/Final%20Project/unit/facebook-post-api.ipynb#W4sZmlsZQ%3D%3D?line=15'>16</a>\u001b[0m gen \u001b[39m=\u001b[39m fs\u001b[39m.\u001b[39mget_posts(\n\u001b[0;32m     <a href='vscode-notebook-cell:/c%3A/Users/whisn/Downloads/Whisnumurty/Kuliah/Semester%205/Sistem%20Temu%20Kembali%20Informasi/Final%20Project/unit/facebook-post-api.ipynb#W4sZmlsZQ%3D%3D?line=16'>17</a>\u001b[0m     \u001b[39m# post_urls=[POST_ID]\u001b[39;00m\n\u001b[0;32m     <a href='vscode-notebook-cell:/c%3A/Users/whisn/Downloads/Whisnumurty/Kuliah/Semester%205/Sistem%20Temu%20Kembali%20Informasi/Final%20Project/unit/facebook-post-api.ipynb#W4sZmlsZQ%3D%3D?line=17'>18</a>\u001b[0m     hashtag\u001b[39m=\u001b[39m\u001b[39m'\u001b[39m\u001b[39mprabowogibran\u001b[39m\u001b[39m'\u001b[39m,\n\u001b[0;32m     <a href='vscode-notebook-cell:/c%3A/Users/whisn/Downloads/Whisnumurty/Kuliah/Semester%205/Sistem%20Temu%20Kembali%20Informasi/Final%20Project/unit/facebook-post-api.ipynb#W4sZmlsZQ%3D%3D?line=18'>19</a>\u001b[0m     options\u001b[39m=\u001b[39m{\u001b[39m\"\u001b[39m\u001b[39mcomments\u001b[39m\u001b[39m\"\u001b[39m: MAX_COMMENTS, \u001b[39m\"\u001b[39m\u001b[39mprogress\u001b[39m\u001b[39m\"\u001b[39m: \u001b[39mTrue\u001b[39;00m}\n\u001b[0;32m     <a href='vscode-notebook-cell:/c%3A/Users/whisn/Downloads/Whisnumurty/Kuliah/Semester%205/Sistem%20Temu%20Kembali%20Informasi/Final%20Project/unit/facebook-post-api.ipynb#W4sZmlsZQ%3D%3D?line=19'>20</a>\u001b[0m )\n\u001b[0;32m     <a href='vscode-notebook-cell:/c%3A/Users/whisn/Downloads/Whisnumurty/Kuliah/Semester%205/Sistem%20Temu%20Kembali%20Informasi/Final%20Project/unit/facebook-post-api.ipynb#W4sZmlsZQ%3D%3D?line=21'>22</a>\u001b[0m \u001b[39m# take 1st element of the generator which is the post we requested\u001b[39;00m\n\u001b[1;32m---> <a href='vscode-notebook-cell:/c%3A/Users/whisn/Downloads/Whisnumurty/Kuliah/Semester%205/Sistem%20Temu%20Kembali%20Informasi/Final%20Project/unit/facebook-post-api.ipynb#W4sZmlsZQ%3D%3D?line=22'>23</a>\u001b[0m post \u001b[39m=\u001b[39m \u001b[39mnext\u001b[39;49m(gen)\n\u001b[0;32m     <a href='vscode-notebook-cell:/c%3A/Users/whisn/Downloads/Whisnumurty/Kuliah/Semester%205/Sistem%20Temu%20Kembali%20Informasi/Final%20Project/unit/facebook-post-api.ipynb#W4sZmlsZQ%3D%3D?line=24'>25</a>\u001b[0m \u001b[39m# extract the comments part\u001b[39;00m\n\u001b[0;32m     <a href='vscode-notebook-cell:/c%3A/Users/whisn/Downloads/Whisnumurty/Kuliah/Semester%205/Sistem%20Temu%20Kembali%20Informasi/Final%20Project/unit/facebook-post-api.ipynb#W4sZmlsZQ%3D%3D?line=25'>26</a>\u001b[0m comments \u001b[39m=\u001b[39m post[\u001b[39m'\u001b[39m\u001b[39mcomments_full\u001b[39m\u001b[39m'\u001b[39m]\n",
      "\u001b[1;31mStopIteration\u001b[0m: "
     ]
    }
   ],
   "source": [
    "\"\"\"\n",
    "Download comments for a public Facebook post.\n",
    "\"\"\"\n",
    "\n",
    "import facebook_scraper as fs\n",
    "\n",
    "# get POST_ID from the URL of the post which can have the following structure:\n",
    "# https://www.facebook.com/USER/posts/POST_ID\n",
    "# https://www.facebook.com/groups/GROUP_ID/posts/POST_ID\n",
    "# POST_ID = \"pfbid02NsuAiBU9o1ouwBrw1vYAQ7khcVXvz8F8zMvkVat9UJ6uiwdgojgddQRLpXcVBqYbl\"\n",
    "\n",
    "# number of comments to download -- set this to True to download all comments\n",
    "MAX_COMMENTS = 100\n",
    "\n",
    "# get the post (this gives a generator)\n",
    "gen = fs.get_posts(\n",
    "    # post_urls=[POST_ID]\n",
    "    hashtag='prabowogibran',\n",
    "    options={\"comments\": MAX_COMMENTS, \"progress\": True}\n",
    ")\n",
    "\n",
    "# take 1st element of the generator which is the post we requested\n",
    "post = next(gen)\n",
    "\n",
    "# extract the comments part\n",
    "comments = post['comments_full']\n",
    "\n",
    "# process comments as you want...\n",
    "for comment in comments:\n",
    "\n",
    "    # e.g. ...print them\n",
    "    print(comment)\n",
    "\n",
    "    # e.g. ...get the replies for them\n",
    "    for reply in comment['replies']:\n",
    "        print(' ', reply)"
   ]
  },
  {
   "cell_type": "code",
   "execution_count": 27,
   "metadata": {},
   "outputs": [
    {
     "name": "stderr",
     "output_type": "stream",
     "text": [
      "c:\\Users\\whisn\\.conda\\envs\\stki\\lib\\site-packages\\IPython\\core\\interactiveshell.py:3550: UserWarning: A low page limit (<=2) might return no results, try increasing the limit\n",
      "  exec(code_obj, self.user_global_ns, self.user_ns)\n"
     ]
    }
   ],
   "source": [
    "for post in get_posts('nintendo', pages=1):\n",
    "    print(post['text'][:50])"
   ]
  }
 ],
 "metadata": {
  "kernelspec": {
   "display_name": "stki",
   "language": "python",
   "name": "python3"
  },
  "language_info": {
   "codemirror_mode": {
    "name": "ipython",
    "version": 3
   },
   "file_extension": ".py",
   "mimetype": "text/x-python",
   "name": "python",
   "nbconvert_exporter": "python",
   "pygments_lexer": "ipython3",
   "version": "3.9.18"
  }
 },
 "nbformat": 4,
 "nbformat_minor": 2
}
