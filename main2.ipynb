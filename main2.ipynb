{
 "cells": [
  {
   "cell_type": "markdown",
   "metadata": {},
   "source": [
    "## `Import Library what we need`"
   ]
  },
  {
   "cell_type": "code",
   "execution_count": 1,
   "metadata": {},
   "outputs": [
    {
     "name": "stderr",
     "output_type": "stream",
     "text": [
      "[nltk_data] Downloading package punkt to\n",
      "[nltk_data]     C:\\Users\\whisn\\AppData\\Roaming\\nltk_data...\n",
      "[nltk_data]   Package punkt is already up-to-date!\n",
      "[nltk_data] Downloading package averaged_perceptron_tagger to\n",
      "[nltk_data]     C:\\Users\\whisn\\AppData\\Roaming\\nltk_data...\n",
      "[nltk_data]   Package averaged_perceptron_tagger is already up-to-\n",
      "[nltk_data]       date!\n",
      "[nltk_data] Downloading package stopwords to\n",
      "[nltk_data]     C:\\Users\\whisn\\AppData\\Roaming\\nltk_data...\n",
      "[nltk_data]   Package stopwords is already up-to-date!\n"
     ]
    }
   ],
   "source": [
    "# BASED\n",
    "import pandas as pd\n",
    "import matplotlib.pyplot as plt\n",
    "import seaborn as sns \n",
    "import numpy as np\n",
    "import time\n",
    "from sklearn.model_selection import train_test_split\n",
    "from sklearn.metrics import confusion_matrix, classification_report, accuracy_score\n",
    "import itertools\n",
    "import pickle\n",
    "\n",
    "# KERAS\n",
    "import tensorflow\n",
    "from tensorflow.keras.preprocessing.text import Tokenizer\n",
    "from tensorflow.keras.preprocessing.sequence import pad_sequences\n",
    "from tensorflow.keras.models import Sequential\n",
    "from tensorflow.keras.layers import Activation, Dense, Dropout, Embedding, Flatten, Conv1D, MaxPooling1D, LSTM, GRU\n",
    "from tensorflow.keras import utils\n",
    "from tensorflow.keras.callbacks import ReduceLROnPlateau, EarlyStopping\n",
    "from tensorflow.keras.models import load_model\n",
    "from keras.models import load_model\n",
    "from keras.backend import clear_session\n",
    "\n",
    "\n",
    "# NLTK\n",
    "import nltk\n",
    "from nltk.corpus import stopwords\n",
    "from nltk.tokenize import word_tokenize, sent_tokenize\n",
    "\n",
    "nltk.download('punkt')\n",
    "nltk.download('averaged_perceptron_tagger')\n",
    "nltk.download('stopwords')\n",
    "\n",
    "# SASTRAWI\n",
    "from Sastrawi.Stemmer.StemmerFactory import StemmerFactory\n",
    "from Sastrawi.StopWordRemover.StopWordRemoverFactory import  StopWordRemoverFactory\n",
    "\n",
    "# WORD2VEC\n",
    "import gensim\n",
    "\n",
    "# WORD2VEC\n",
    "W2V_SIZE = 300\n",
    "W2V_WINDOW = 7\n",
    "W2V_EPOCH = 32\n",
    "W2V_MIN_COUNT = 10\n",
    "\n",
    "# KERAS\n",
    "SEQUENCE_LENGTH = 100\n",
    "EPOCHS = 50\n",
    "BATCH_SIZE = 1024"
   ]
  },
  {
   "cell_type": "code",
   "execution_count": 2,
   "metadata": {},
   "outputs": [],
   "source": [
    "# Stopwords\n",
    "nltk_stopwords = stopwords.words('indonesian')\n",
    "sastrawi_factory = StopWordRemoverFactory()\n",
    "\n",
    "# Stemming\n",
    "stem_factory = StemmerFactory()\n",
    "stemmer = stem_factory.create_stemmer()\n",
    "\n",
    "# Tokenizer\n",
    "tokenizer = Tokenizer()"
   ]
  },
  {
   "cell_type": "markdown",
   "metadata": {},
   "source": [
    "## `Function`"
   ]
  },
  {
   "cell_type": "code",
   "execution_count": 29,
   "metadata": {},
   "outputs": [],
   "source": [
    "# Tokenize\n",
    "def tokenize(text):\n",
    "    return text.split()\n",
    "\n",
    "\n",
    "# Stopwords \n",
    "def stopwords_text(tokens): \n",
    "    cleaned_tokens = []\n",
    "    for token in tokens : \n",
    "        if token not in sastrawi_stopwords: \n",
    "            cleaned_tokens.append(token)\n",
    "    return cleaned_tokens\n",
    "\n",
    "\n",
    "# Stemming\n",
    "def stem_words(tokens):\n",
    "  hasil = [stemmer.stem(token) for token in tokens]\n",
    "  return hasil\n",
    "\n",
    "\n",
    "# Untokenize\n",
    "def untokenize(texts):\n",
    "    text = \"\"\n",
    "    for i in texts:\n",
    "        text += f\"{i}\"\n",
    "        text += \" \"\n",
    "    return text.rstrip()\n",
    "\n",
    "\n",
    "# Encoding\n",
    "def manual_label_encoder(labels):\n",
    "    label_index = {'positif': 1, 'negatif': 0}  # Membuat kamus untuk mapping label\n",
    "    encoded_labels = [label_index[label] for label in labels]  # Encoding label\n",
    "    return encoded_labels, label_index\n",
    "\n",
    "\n",
    "def reshape_labels(encoded_labels):\n",
    "    reshaped_labels = [[label] for label in encoded_labels]  # Reshape array hasil encoding ke bentuk (jumlah_data, 1)\n",
    "    return reshaped_labels\n",
    "\n",
    "\n",
    "# Normalize label Text\n",
    "def normalize_label(df):\n",
    "    df['label'] = df['label'].str.strip().str.lower()\n",
    "    df['label'] = df['label'].replace('netral', 'negatif')\n",
    "    return df\n",
    "\n",
    "\n",
    "# Create 1D Array from 2D Array\n",
    "def merge_2d_array_to_1d(df_column):\n",
    "    merged = [word for sublist in df_column for word in sublist]\n",
    "    return merged\n",
    "\n",
    "\n",
    "# Create Word Freq\n",
    "def word_freq_func(data, label):\n",
    "    # Menghitung frekuensi kemunculan setiap kata dan kolom 'label'\n",
    "    word_freq = {}\n",
    "    for word, label in zip(data, label):\n",
    "        if word in word_freq:\n",
    "            if label == 'positif':\n",
    "                word_freq[word][0] += 1\n",
    "            else:\n",
    "                word_freq[word][1] += 1\n",
    "        else:\n",
    "            if label == 'positif':\n",
    "                word_freq[word] = [1, 0]\n",
    "            else:\n",
    "                word_freq[word] = [0, 1]\n",
    "    return word_freq\n",
    "\n",
    "\n",
    "# Tokenize Column\n",
    "def tokenize_column(dataframe, column_name):\n",
    "    tokenized_documents = [text.split() for text in dataframe[column_name]]\n",
    "    return tokenized_documents\n",
    "\n",
    "\n",
    "# Calculate Similarity\n",
    "def calculate_similarity(keyword, w2v_model):\n",
    "    similarities = []\n",
    "    # Melakukan iterasi pada setiap kata dalam model\n",
    "    for word in w2v_model.wv.index_to_key:\n",
    "        # Menangkap pengecualian jika kata tidak ada dalam model\n",
    "        try:\n",
    "            # Menghitung kemiripan antara kata dalam kosakata dengan kata kunci\n",
    "            similarity = w2v_model.wv.similarity(keyword, word)      \n",
    "            # Menambahkan ke list similarities\n",
    "            similarities.append((word, similarity))\n",
    "        except KeyError:\n",
    "            # Tangani jika kata tidak ditemukan dalam model\n",
    "            print(f\"Word '{word}' not in vocabulary.\")\n",
    "    # Buat DataFrame dari list similarities\n",
    "    df = pd.DataFrame(similarities, columns=['Keyword', 'Similarity'])\n",
    "    # Sorting DataFrame secara descending berdasarkan similarity\n",
    "    df = df.sort_values(by='Similarity', ascending=False)\n",
    "    return df\n",
    "\n",
    "\n",
    "# Get n Items from Dictionary\n",
    "def get_top_n_items(dictionary, n, seq):\n",
    "    # Mengambil n item teratas dari dictionary berdasarkan frekuensi kemunculan\n",
    "    top_n = dict(sorted(dictionary.items(), key=lambda item: item[1], reverse=seq)[:n])\n",
    "    return top_n\n",
    "\n",
    "# Create Embedding Matrix\n",
    "def create_embedding_matrix(vocab_size, tokenizer, w2v_model):\n",
    "    embedding_matrix = np.zeros((vocab_size, W2V_SIZE))\n",
    "\n",
    "    for word, i in tokenizer.word_index.items():\n",
    "        if word in w2v_model.wv:\n",
    "            embedding_matrix[i] = w2v_model.wv[word]\n",
    "\n",
    "    return embedding_matrix\n",
    "\n",
    "\n",
    "def manual_evaluate(model, x_test, y_test):\n",
    "    y_pred = model.predict(x_test)\n",
    "    y_pred_binary = (y_pred > 0.5).astype('int32')  # Konversi probabilitas menjadi nilai biner\n",
    "\n",
    "    accuracy = tensorflow.reduce_mean(tensorflow.cast(y_pred_binary == y_test, tensorflow.float32))  # Menghitung akurasi dari perbandingan boolean\n",
    "    return accuracy\n",
    "\n",
    "\n",
    "def display_confusion_heatmap(y_test, y_preds, model_names):\n",
    "    num_models = len(y_preds)\n",
    "    num_rows = num_models // 2 + num_models % 2  # Hitung jumlah baris berdasarkan jumlah model\n",
    "    plt.figure(figsize=(12, 8))  # Atur ukuran gambar secara keseluruhan\n",
    "    for i, y_pred in enumerate(y_preds):\n",
    "        # Hitung TP, TN, FP, FN\n",
    "        TP, TN, FP, FN = manual_heatmap(y_test, y_pred)\n",
    "\n",
    "        # Bentuk matrix confusion\n",
    "        confusion_matrix = [[TN, FP], [FN, TP]]\n",
    "\n",
    "        # label untuk heatmap\n",
    "        labels = [['TN', 'FP'], ['FN', 'TP']]\n",
    "\n",
    "        # Plot heatmap dalam subplot\n",
    "        plt.subplot(num_rows, 2, i + 1)\n",
    "        sns.heatmap(confusion_matrix, annot=False, fmt='d', cmap='Blues', xticklabels=['Negative', 'Positive'], yticklabels=['Negative', 'Positive'])\n",
    "\n",
    "        # Menambahkan label ke heatmap\n",
    "        for j in range(2):\n",
    "            for k in range(2):\n",
    "                plt.text(k + 0.5, j + 0.5, str(labels[j][k]) + \" = \" + str(confusion_matrix[j][k]), ha='center', va='center', color='black')\n",
    "\n",
    "        plt.title(f'Confusion Matrix - {model_names[i]}')\n",
    "        plt.xlabel('Predicted')\n",
    "        plt.ylabel('Actual')\n",
    "    \n",
    "    plt.tight_layout()  # Menata layout subplot agar rapi\n",
    "    plt.show()\n",
    "\n",
    "def manual_heatmap(y_test, y_pred):\n",
    "    # Menginisialisasi variabel untuk TP, TN, FP, FN\n",
    "    TP, TN, FP, FN = 0, 0, 0, 0\n",
    "    \n",
    "    # Menghitung TP, TN, FP, FN\n",
    "    for actual, pred in zip(y_test, y_pred):\n",
    "        if actual == \"positif\" and pred == \"positif\":\n",
    "            TP += 1\n",
    "        elif actual == \"negatif\" and pred == \"negatif\":\n",
    "            TN += 1\n",
    "        elif actual == \"negatif\" and pred == \"positif\":\n",
    "            FP += 1\n",
    "        elif actual == \"positif\" and pred == \"negatif\":\n",
    "            FN += 1\n",
    "    \n",
    "    return TP, TN, FP, FN\n",
    "\n",
    "\n",
    "def check_test_accuracy(y_pred, y_test):\n",
    "    # Menghitung jumlah prediksi yang benar (True)\n",
    "    correct_predictions = sum(1 for pred, actual in zip(y_pred, y_test) if pred == actual)\n",
    "\n",
    "    # Menghitung akurasi\n",
    "    total_predictions = len(y_pred)\n",
    "    accuracy = correct_predictions / total_predictions\n",
    "    return accuracy\n",
    "\n",
    "\n",
    "def create_lstm_model(embedding_layer):\n",
    "    model = Sequential()\n",
    "    model.add(embedding_layer)\n",
    "    model.add(Dropout(0.5))\n",
    "    model.add(LSTM(100, dropout=0.2, recurrent_dropout=0.2))\n",
    "    model.add(Dense(1, activation='sigmoid'))\n",
    "\n",
    "    return model"
   ]
  },
  {
   "cell_type": "code",
   "execution_count": 435,
   "metadata": {},
   "outputs": [],
   "source": [
    "class CustomLSTM(tensorflow.keras.layers.Layer):\n",
    "    def __init__(self, units, dropout, recurrent_dropout):\n",
    "        super(CustomLSTM, self).__init__()\n",
    "        self.units = units\n",
    "        self.dropout = dropout\n",
    "        self.recurrent_dropout = recurrent_dropout\n",
    "\n",
    "    def build(self, input_shape):\n",
    "        self.input_dim = input_shape[-1]\n",
    "        self.kernel = self.add_weight(\n",
    "            shape=(self.input_dim + self.units, 4 * self.units),\n",
    "            initializer='glorot_uniform',\n",
    "            name='kernel'\n",
    "        )\n",
    "        self.recurrent_kernel = self.add_weight(\n",
    "            shape=(self.units, 4 * self.units),\n",
    "            initializer='orthogonal',\n",
    "            name='recurrent_kernel'\n",
    "        )\n",
    "        self.bias = self.add_weight(\n",
    "            shape=(4 * self.units,),\n",
    "            initializer='zeros',\n",
    "            name='bias'\n",
    "        )\n",
    "        self.built = True\n",
    "\n",
    "    def call(self, inputs, states=None, training=None):\n",
    "        h_tm1 = states[0] if states else tensorflow.zeros((tensorflow.shape(inputs)[0], self.units))\n",
    "        c_tm1 = states[1] if states else tensorflow.zeros((tensorflow.shape(inputs)[0], self.units))\n",
    "\n",
    "        if training is None:\n",
    "            training = tensorflow.keras.backend.learning_phase()\n",
    "\n",
    "        if 0 < self.dropout < 1 and self.dropout is not None:\n",
    "            inputs = tensorflow.keras.layers.Dropout(self.dropout)(inputs, training=training)\n",
    "\n",
    "        concat_inputs = tensorflow.concat([inputs, h_tm1], axis=-1)\n",
    "        gate_inputs = tensorflow.matmul(concat_inputs, self.kernel) + self.bias\n",
    "\n",
    "        i, f, g, o = tensorflow.split(gate_inputs, 4, axis=-1)\n",
    "        i = tensorflow.sigmoid(i)\n",
    "        f = tensorflow.sigmoid(f)\n",
    "        g = tensorflow.tanh(g)\n",
    "        o = tensorflow.sigmoid(o)\n",
    "\n",
    "        c = f * c_tm1 + i * g\n",
    "\n",
    "        if 0 < self.recurrent_dropout < 1 and self.recurrent_dropout is not None:\n",
    "            c = tensorflow.keras.layers.Dropout(self.recurrent_dropout)(c, training=training)\n",
    "\n",
    "        h = o * tensorflow.tanh(c)\n",
    "\n",
    "        return h, [h, c]\n",
    "\n",
    "    def get_config(self):\n",
    "        config = super().get_config()\n",
    "        config.update({\n",
    "            'units': self.units,\n",
    "            'dropout': self.dropout,\n",
    "            'recurrent_dropout': self.recurrent_dropout\n",
    "        })\n",
    "        return config\n",
    "\n",
    "    @classmethod\n",
    "    def from_config(cls, config):\n",
    "        return cls(**config)\n"
   ]
  },
  {
   "cell_type": "markdown",
   "metadata": {},
   "source": [
    "### `Read Data`"
   ]
  },
  {
   "cell_type": "code",
   "execution_count": 9,
   "metadata": {},
   "outputs": [
    {
     "data": {
      "text/html": [
       "<div>\n",
       "<style scoped>\n",
       "    .dataframe tbody tr th:only-of-type {\n",
       "        vertical-align: middle;\n",
       "    }\n",
       "\n",
       "    .dataframe tbody tr th {\n",
       "        vertical-align: top;\n",
       "    }\n",
       "\n",
       "    .dataframe thead th {\n",
       "        text-align: right;\n",
       "    }\n",
       "</style>\n",
       "<table border=\"1\" class=\"dataframe\">\n",
       "  <thead>\n",
       "    <tr style=\"text-align: right;\">\n",
       "      <th></th>\n",
       "      <th>full_text</th>\n",
       "      <th>text_clean</th>\n",
       "      <th>label</th>\n",
       "    </tr>\n",
       "  </thead>\n",
       "  <tbody>\n",
       "    <tr>\n",
       "      <th>0</th>\n",
       "      <td>@PartaiSocmed Sumber = tiktok TKN Prabowo Gibr...</td>\n",
       "      <td>sumber tiktok tkn prabowo gibran</td>\n",
       "      <td>netral</td>\n",
       "    </tr>\n",
       "    <tr>\n",
       "      <th>1</th>\n",
       "      <td>Solidaritas positif Mantan Kepala Desa: Prabow...</td>\n",
       "      <td>solidaritas positif mantan kepala desa prabowo...</td>\n",
       "      <td>positif</td>\n",
       "    </tr>\n",
       "    <tr>\n",
       "      <th>2</th>\n",
       "      <td>Keputusan mantan Kepala Desa: Prabowo-Gibran a...</td>\n",
       "      <td>keputusan mantan kepala desa prabowogibran ada...</td>\n",
       "      <td>positif</td>\n",
       "    </tr>\n",
       "    <tr>\n",
       "      <th>3</th>\n",
       "      <td>Ahmad dhani kampanye PRABOWO GIBRAN 🫰🫰🫰🫰🫰🫰🫰 ht...</td>\n",
       "      <td>ahmad dhani kampanye prabowo gibran</td>\n",
       "      <td>positif</td>\n",
       "    </tr>\n",
       "    <tr>\n",
       "      <th>4</th>\n",
       "      <td>Pilihan optimis Mantan Kepala Desa: Prabowo-Gi...</td>\n",
       "      <td>pilihan optimis mantan kepala desa prabowogibr...</td>\n",
       "      <td>positif</td>\n",
       "    </tr>\n",
       "  </tbody>\n",
       "</table>\n",
       "</div>"
      ],
      "text/plain": [
       "                                           full_text  \\\n",
       "0  @PartaiSocmed Sumber = tiktok TKN Prabowo Gibr...   \n",
       "1  Solidaritas positif Mantan Kepala Desa: Prabow...   \n",
       "2  Keputusan mantan Kepala Desa: Prabowo-Gibran a...   \n",
       "3  Ahmad dhani kampanye PRABOWO GIBRAN 🫰🫰🫰🫰🫰🫰🫰 ht...   \n",
       "4  Pilihan optimis Mantan Kepala Desa: Prabowo-Gi...   \n",
       "\n",
       "                                          text_clean    label  \n",
       "0                   sumber tiktok tkn prabowo gibran   netral  \n",
       "1  solidaritas positif mantan kepala desa prabowo...  positif  \n",
       "2  keputusan mantan kepala desa prabowogibran ada...  positif  \n",
       "3                ahmad dhani kampanye prabowo gibran  positif  \n",
       "4  pilihan optimis mantan kepala desa prabowogibr...  positif  "
      ]
     },
     "execution_count": 9,
     "metadata": {},
     "output_type": "execute_result"
    }
   ],
   "source": [
    "df1 = pd.read_csv('./dataset/data-label.csv')\n",
    "df1 = df1.rename(columns={'label':'label'})\n",
    "copy_df1 = df1.copy()\n",
    "df1.head()"
   ]
  },
  {
   "cell_type": "code",
   "execution_count": 10,
   "metadata": {},
   "outputs": [
    {
     "data": {
      "text/html": [
       "<div>\n",
       "<style scoped>\n",
       "    .dataframe tbody tr th:only-of-type {\n",
       "        vertical-align: middle;\n",
       "    }\n",
       "\n",
       "    .dataframe tbody tr th {\n",
       "        vertical-align: top;\n",
       "    }\n",
       "\n",
       "    .dataframe thead th {\n",
       "        text-align: right;\n",
       "    }\n",
       "</style>\n",
       "<table border=\"1\" class=\"dataframe\">\n",
       "  <thead>\n",
       "    <tr style=\"text-align: right;\">\n",
       "      <th></th>\n",
       "      <th>full_text</th>\n",
       "      <th>text_clean</th>\n",
       "      <th>label</th>\n",
       "    </tr>\n",
       "  </thead>\n",
       "  <tbody>\n",
       "    <tr>\n",
       "      <th>0</th>\n",
       "      <td>Presiden ke-6 Republik Indonesia, Susilo Bamba...</td>\n",
       "      <td>presiden ke republik indonesia susilo bambang ...</td>\n",
       "      <td>positif</td>\n",
       "    </tr>\n",
       "    <tr>\n",
       "      <th>1</th>\n",
       "      <td>Hal tersebut diungkapkan SBY dalam sambutannya...</td>\n",
       "      <td>hal tersebut diungkapkan sby dalam sambutannya...</td>\n",
       "      <td>positif</td>\n",
       "    </tr>\n",
       "    <tr>\n",
       "      <th>2</th>\n",
       "      <td>Beliau adalah sahabat saya, beliau juga patrio...</td>\n",
       "      <td>beliau adalah sahabat saya beliau juga patriot...</td>\n",
       "      <td>positif</td>\n",
       "    </tr>\n",
       "    <tr>\n",
       "      <th>3</th>\n",
       "      <td>Sebagai mantan presiden yang telah memimpin In...</td>\n",
       "      <td>sebagai mantan presiden yang telah memimpin in...</td>\n",
       "      <td>positif</td>\n",
       "    </tr>\n",
       "    <tr>\n",
       "      <th>4</th>\n",
       "      <td>“Tangkapan di jagat maya saat ini Prabowo-Gibr...</td>\n",
       "      <td>tangkapan di jagat maya saat ini prabowogibran...</td>\n",
       "      <td>positif</td>\n",
       "    </tr>\n",
       "  </tbody>\n",
       "</table>\n",
       "</div>"
      ],
      "text/plain": [
       "                                           full_text  \\\n",
       "0  Presiden ke-6 Republik Indonesia, Susilo Bamba...   \n",
       "1  Hal tersebut diungkapkan SBY dalam sambutannya...   \n",
       "2  Beliau adalah sahabat saya, beliau juga patrio...   \n",
       "3  Sebagai mantan presiden yang telah memimpin In...   \n",
       "4  “Tangkapan di jagat maya saat ini Prabowo-Gibr...   \n",
       "\n",
       "                                          text_clean    label  \n",
       "0  presiden ke republik indonesia susilo bambang ...  positif  \n",
       "1  hal tersebut diungkapkan sby dalam sambutannya...  positif  \n",
       "2  beliau adalah sahabat saya beliau juga patriot...  positif  \n",
       "3  sebagai mantan presiden yang telah memimpin in...  positif  \n",
       "4  tangkapan di jagat maya saat ini prabowogibran...  positif  "
      ]
     },
     "execution_count": 10,
     "metadata": {},
     "output_type": "execute_result"
    }
   ],
   "source": [
    "df2 = pd.read_csv('./dataset/external-label.csv')\n",
    "copy_df2 = df2.copy()\n",
    "df2.head()"
   ]
  },
  {
   "cell_type": "code",
   "execution_count": 11,
   "metadata": {},
   "outputs": [
    {
     "data": {
      "text/html": [
       "<div>\n",
       "<style scoped>\n",
       "    .dataframe tbody tr th:only-of-type {\n",
       "        vertical-align: middle;\n",
       "    }\n",
       "\n",
       "    .dataframe tbody tr th {\n",
       "        vertical-align: top;\n",
       "    }\n",
       "\n",
       "    .dataframe thead th {\n",
       "        text-align: right;\n",
       "    }\n",
       "</style>\n",
       "<table border=\"1\" class=\"dataframe\">\n",
       "  <thead>\n",
       "    <tr style=\"text-align: right;\">\n",
       "      <th></th>\n",
       "      <th>full_text</th>\n",
       "      <th>text_clean</th>\n",
       "      <th>label</th>\n",
       "    </tr>\n",
       "  </thead>\n",
       "  <tbody>\n",
       "    <tr>\n",
       "      <th>0</th>\n",
       "      <td>@PartaiSocmed Sumber = tiktok TKN Prabowo Gibr...</td>\n",
       "      <td>sumber tiktok tkn prabowo gibran</td>\n",
       "      <td>netral</td>\n",
       "    </tr>\n",
       "    <tr>\n",
       "      <th>1</th>\n",
       "      <td>Solidaritas positif Mantan Kepala Desa: Prabow...</td>\n",
       "      <td>solidaritas positif mantan kepala desa prabowo...</td>\n",
       "      <td>positif</td>\n",
       "    </tr>\n",
       "    <tr>\n",
       "      <th>2</th>\n",
       "      <td>Keputusan mantan Kepala Desa: Prabowo-Gibran a...</td>\n",
       "      <td>keputusan mantan kepala desa prabowogibran ada...</td>\n",
       "      <td>positif</td>\n",
       "    </tr>\n",
       "    <tr>\n",
       "      <th>3</th>\n",
       "      <td>Ahmad dhani kampanye PRABOWO GIBRAN 🫰🫰🫰🫰🫰🫰🫰 ht...</td>\n",
       "      <td>ahmad dhani kampanye prabowo gibran</td>\n",
       "      <td>positif</td>\n",
       "    </tr>\n",
       "    <tr>\n",
       "      <th>4</th>\n",
       "      <td>Pilihan optimis Mantan Kepala Desa: Prabowo-Gi...</td>\n",
       "      <td>pilihan optimis mantan kepala desa prabowogibr...</td>\n",
       "      <td>positif</td>\n",
       "    </tr>\n",
       "  </tbody>\n",
       "</table>\n",
       "</div>"
      ],
      "text/plain": [
       "                                           full_text  \\\n",
       "0  @PartaiSocmed Sumber = tiktok TKN Prabowo Gibr...   \n",
       "1  Solidaritas positif Mantan Kepala Desa: Prabow...   \n",
       "2  Keputusan mantan Kepala Desa: Prabowo-Gibran a...   \n",
       "3  Ahmad dhani kampanye PRABOWO GIBRAN 🫰🫰🫰🫰🫰🫰🫰 ht...   \n",
       "4  Pilihan optimis Mantan Kepala Desa: Prabowo-Gi...   \n",
       "\n",
       "                                          text_clean    label  \n",
       "0                   sumber tiktok tkn prabowo gibran   netral  \n",
       "1  solidaritas positif mantan kepala desa prabowo...  positif  \n",
       "2  keputusan mantan kepala desa prabowogibran ada...  positif  \n",
       "3                ahmad dhani kampanye prabowo gibran  positif  \n",
       "4  pilihan optimis mantan kepala desa prabowogibr...  positif  "
      ]
     },
     "execution_count": 11,
     "metadata": {},
     "output_type": "execute_result"
    }
   ],
   "source": [
    "df = pd.concat([df1, df2])\n",
    "df.head()"
   ]
  },
  {
   "cell_type": "code",
   "execution_count": 12,
   "metadata": {},
   "outputs": [
    {
     "name": "stdout",
     "output_type": "stream",
     "text": [
      "<class 'pandas.core.frame.DataFrame'>\n",
      "Int64Index: 890 entries, 0 to 13\n",
      "Data columns (total 3 columns):\n",
      " #   Column      Non-Null Count  Dtype \n",
      "---  ------      --------------  ----- \n",
      " 0   full_text   890 non-null    object\n",
      " 1   text_clean  890 non-null    object\n",
      " 2   label       890 non-null    object\n",
      "dtypes: object(3)\n",
      "memory usage: 27.8+ KB\n"
     ]
    }
   ],
   "source": [
    "df = df.drop_duplicates()\n",
    "df.info()"
   ]
  },
  {
   "cell_type": "markdown",
   "metadata": {},
   "source": [
    "### `Tokenize`"
   ]
  },
  {
   "cell_type": "code",
   "execution_count": 13,
   "metadata": {},
   "outputs": [
    {
     "data": {
      "text/html": [
       "<div>\n",
       "<style scoped>\n",
       "    .dataframe tbody tr th:only-of-type {\n",
       "        vertical-align: middle;\n",
       "    }\n",
       "\n",
       "    .dataframe tbody tr th {\n",
       "        vertical-align: top;\n",
       "    }\n",
       "\n",
       "    .dataframe thead th {\n",
       "        text-align: right;\n",
       "    }\n",
       "</style>\n",
       "<table border=\"1\" class=\"dataframe\">\n",
       "  <thead>\n",
       "    <tr style=\"text-align: right;\">\n",
       "      <th></th>\n",
       "      <th>full_text</th>\n",
       "      <th>text_clean</th>\n",
       "      <th>label</th>\n",
       "      <th>token</th>\n",
       "    </tr>\n",
       "  </thead>\n",
       "  <tbody>\n",
       "    <tr>\n",
       "      <th>0</th>\n",
       "      <td>@PartaiSocmed Sumber = tiktok TKN Prabowo Gibr...</td>\n",
       "      <td>sumber tiktok tkn prabowo gibran</td>\n",
       "      <td>netral</td>\n",
       "      <td>[sumber, tiktok, tkn, prabowo, gibran]</td>\n",
       "    </tr>\n",
       "    <tr>\n",
       "      <th>1</th>\n",
       "      <td>Solidaritas positif Mantan Kepala Desa: Prabow...</td>\n",
       "      <td>solidaritas positif mantan kepala desa prabowo...</td>\n",
       "      <td>positif</td>\n",
       "      <td>[solidaritas, positif, mantan, kepala, desa, p...</td>\n",
       "    </tr>\n",
       "  </tbody>\n",
       "</table>\n",
       "</div>"
      ],
      "text/plain": [
       "                                           full_text  \\\n",
       "0  @PartaiSocmed Sumber = tiktok TKN Prabowo Gibr...   \n",
       "1  Solidaritas positif Mantan Kepala Desa: Prabow...   \n",
       "\n",
       "                                          text_clean    label  \\\n",
       "0                   sumber tiktok tkn prabowo gibran   netral   \n",
       "1  solidaritas positif mantan kepala desa prabowo...  positif   \n",
       "\n",
       "                                               token  \n",
       "0             [sumber, tiktok, tkn, prabowo, gibran]  \n",
       "1  [solidaritas, positif, mantan, kepala, desa, p...  "
      ]
     },
     "execution_count": 13,
     "metadata": {},
     "output_type": "execute_result"
    }
   ],
   "source": [
    "df['token'] = df['text_clean'].apply(tokenize)\n",
    "df.head(2)"
   ]
  },
  {
   "cell_type": "markdown",
   "metadata": {},
   "source": [
    "### `Stopwords`"
   ]
  },
  {
   "cell_type": "code",
   "execution_count": 15,
   "metadata": {},
   "outputs": [
    {
     "name": "stdout",
     "output_type": "stream",
     "text": [
      "['ada', 'adalah', 'adanya', 'adapun', 'agak']\n",
      "758\n"
     ]
    }
   ],
   "source": [
    "print(nltk_stopwords[:5])\n",
    "print(len(nltk_stopwords))"
   ]
  },
  {
   "cell_type": "code",
   "execution_count": 16,
   "metadata": {},
   "outputs": [
    {
     "name": "stdout",
     "output_type": "stream",
     "text": [
      "['yang', 'untuk', 'pada', 'ke', 'para']\n",
      "126\n"
     ]
    }
   ],
   "source": [
    "sastrawi_stopwords = sastrawi_factory.get_stop_words()\n",
    "print(sastrawi_stopwords[:5])\n",
    "print(len(sastrawi_stopwords))"
   ]
  },
  {
   "cell_type": "code",
   "execution_count": 17,
   "metadata": {},
   "outputs": [
    {
     "data": {
      "text/html": [
       "<div>\n",
       "<style scoped>\n",
       "    .dataframe tbody tr th:only-of-type {\n",
       "        vertical-align: middle;\n",
       "    }\n",
       "\n",
       "    .dataframe tbody tr th {\n",
       "        vertical-align: top;\n",
       "    }\n",
       "\n",
       "    .dataframe thead th {\n",
       "        text-align: right;\n",
       "    }\n",
       "</style>\n",
       "<table border=\"1\" class=\"dataframe\">\n",
       "  <thead>\n",
       "    <tr style=\"text-align: right;\">\n",
       "      <th></th>\n",
       "      <th>full_text</th>\n",
       "      <th>text_clean</th>\n",
       "      <th>label</th>\n",
       "      <th>token</th>\n",
       "      <th>stop</th>\n",
       "    </tr>\n",
       "  </thead>\n",
       "  <tbody>\n",
       "    <tr>\n",
       "      <th>0</th>\n",
       "      <td>@PartaiSocmed Sumber = tiktok TKN Prabowo Gibr...</td>\n",
       "      <td>sumber tiktok tkn prabowo gibran</td>\n",
       "      <td>netral</td>\n",
       "      <td>[sumber, tiktok, tkn, prabowo, gibran]</td>\n",
       "      <td>[sumber, tiktok, tkn, prabowo, gibran]</td>\n",
       "    </tr>\n",
       "    <tr>\n",
       "      <th>1</th>\n",
       "      <td>Solidaritas positif Mantan Kepala Desa: Prabow...</td>\n",
       "      <td>solidaritas positif mantan kepala desa prabowo...</td>\n",
       "      <td>positif</td>\n",
       "      <td>[solidaritas, positif, mantan, kepala, desa, p...</td>\n",
       "      <td>[solidaritas, positif, mantan, kepala, desa, p...</td>\n",
       "    </tr>\n",
       "  </tbody>\n",
       "</table>\n",
       "</div>"
      ],
      "text/plain": [
       "                                           full_text  \\\n",
       "0  @PartaiSocmed Sumber = tiktok TKN Prabowo Gibr...   \n",
       "1  Solidaritas positif Mantan Kepala Desa: Prabow...   \n",
       "\n",
       "                                          text_clean    label  \\\n",
       "0                   sumber tiktok tkn prabowo gibran   netral   \n",
       "1  solidaritas positif mantan kepala desa prabowo...  positif   \n",
       "\n",
       "                                               token  \\\n",
       "0             [sumber, tiktok, tkn, prabowo, gibran]   \n",
       "1  [solidaritas, positif, mantan, kepala, desa, p...   \n",
       "\n",
       "                                                stop  \n",
       "0             [sumber, tiktok, tkn, prabowo, gibran]  \n",
       "1  [solidaritas, positif, mantan, kepala, desa, p...  "
      ]
     },
     "execution_count": 17,
     "metadata": {},
     "output_type": "execute_result"
    }
   ],
   "source": [
    "df['stop'] = df['token'].apply(stopwords_text)\n",
    "df.head(2)"
   ]
  },
  {
   "cell_type": "markdown",
   "metadata": {},
   "source": [
    "### `Stemming`"
   ]
  },
  {
   "cell_type": "code",
   "execution_count": 18,
   "metadata": {},
   "outputs": [
    {
     "data": {
      "text/html": [
       "<div>\n",
       "<style scoped>\n",
       "    .dataframe tbody tr th:only-of-type {\n",
       "        vertical-align: middle;\n",
       "    }\n",
       "\n",
       "    .dataframe tbody tr th {\n",
       "        vertical-align: top;\n",
       "    }\n",
       "\n",
       "    .dataframe thead th {\n",
       "        text-align: right;\n",
       "    }\n",
       "</style>\n",
       "<table border=\"1\" class=\"dataframe\">\n",
       "  <thead>\n",
       "    <tr style=\"text-align: right;\">\n",
       "      <th></th>\n",
       "      <th>full_text</th>\n",
       "      <th>text_clean</th>\n",
       "      <th>label</th>\n",
       "      <th>token</th>\n",
       "      <th>stop</th>\n",
       "      <th>stemmed</th>\n",
       "    </tr>\n",
       "  </thead>\n",
       "  <tbody>\n",
       "    <tr>\n",
       "      <th>0</th>\n",
       "      <td>@PartaiSocmed Sumber = tiktok TKN Prabowo Gibr...</td>\n",
       "      <td>sumber tiktok tkn prabowo gibran</td>\n",
       "      <td>netral</td>\n",
       "      <td>[sumber, tiktok, tkn, prabowo, gibran]</td>\n",
       "      <td>[sumber, tiktok, tkn, prabowo, gibran]</td>\n",
       "      <td>[sumber, tiktok, tkn, prabowo, gibran]</td>\n",
       "    </tr>\n",
       "    <tr>\n",
       "      <th>1</th>\n",
       "      <td>Solidaritas positif Mantan Kepala Desa: Prabow...</td>\n",
       "      <td>solidaritas positif mantan kepala desa prabowo...</td>\n",
       "      <td>positif</td>\n",
       "      <td>[solidaritas, positif, mantan, kepala, desa, p...</td>\n",
       "      <td>[solidaritas, positif, mantan, kepala, desa, p...</td>\n",
       "      <td>[solidaritas, positif, mantan, kepala, desa, p...</td>\n",
       "    </tr>\n",
       "  </tbody>\n",
       "</table>\n",
       "</div>"
      ],
      "text/plain": [
       "                                           full_text  \\\n",
       "0  @PartaiSocmed Sumber = tiktok TKN Prabowo Gibr...   \n",
       "1  Solidaritas positif Mantan Kepala Desa: Prabow...   \n",
       "\n",
       "                                          text_clean    label  \\\n",
       "0                   sumber tiktok tkn prabowo gibran   netral   \n",
       "1  solidaritas positif mantan kepala desa prabowo...  positif   \n",
       "\n",
       "                                               token  \\\n",
       "0             [sumber, tiktok, tkn, prabowo, gibran]   \n",
       "1  [solidaritas, positif, mantan, kepala, desa, p...   \n",
       "\n",
       "                                                stop  \\\n",
       "0             [sumber, tiktok, tkn, prabowo, gibran]   \n",
       "1  [solidaritas, positif, mantan, kepala, desa, p...   \n",
       "\n",
       "                                             stemmed  \n",
       "0             [sumber, tiktok, tkn, prabowo, gibran]  \n",
       "1  [solidaritas, positif, mantan, kepala, desa, p...  "
      ]
     },
     "execution_count": 18,
     "metadata": {},
     "output_type": "execute_result"
    }
   ],
   "source": [
    "df['stemmed'] = df['stop'].apply(stem_words)\n",
    "df.head(2)"
   ]
  },
  {
   "cell_type": "code",
   "execution_count": 22,
   "metadata": {},
   "outputs": [
    {
     "data": {
      "text/html": [
       "<div>\n",
       "<style scoped>\n",
       "    .dataframe tbody tr th:only-of-type {\n",
       "        vertical-align: middle;\n",
       "    }\n",
       "\n",
       "    .dataframe tbody tr th {\n",
       "        vertical-align: top;\n",
       "    }\n",
       "\n",
       "    .dataframe thead th {\n",
       "        text-align: right;\n",
       "    }\n",
       "</style>\n",
       "<table border=\"1\" class=\"dataframe\">\n",
       "  <thead>\n",
       "    <tr style=\"text-align: right;\">\n",
       "      <th></th>\n",
       "      <th>full_text</th>\n",
       "      <th>text_clean</th>\n",
       "      <th>token</th>\n",
       "      <th>stop</th>\n",
       "      <th>stemmed</th>\n",
       "      <th>label</th>\n",
       "    </tr>\n",
       "  </thead>\n",
       "  <tbody>\n",
       "    <tr>\n",
       "      <th>0</th>\n",
       "      <td>@PartaiSocmed Sumber = tiktok TKN Prabowo Gibr...</td>\n",
       "      <td>sumber tiktok tkn prabowo gibran</td>\n",
       "      <td>[sumber, tiktok, tkn, prabowo, gibran]</td>\n",
       "      <td>[sumber, tiktok, tkn, prabowo, gibran]</td>\n",
       "      <td>[sumber, tiktok, tkn, prabowo, gibran]</td>\n",
       "      <td>netral</td>\n",
       "    </tr>\n",
       "    <tr>\n",
       "      <th>1</th>\n",
       "      <td>Solidaritas positif Mantan Kepala Desa: Prabow...</td>\n",
       "      <td>solidaritas positif mantan kepala desa prabowo...</td>\n",
       "      <td>[solidaritas, positif, mantan, kepala, desa, p...</td>\n",
       "      <td>[solidaritas, positif, mantan, kepala, desa, p...</td>\n",
       "      <td>[solidaritas, positif, mantan, kepala, desa, p...</td>\n",
       "      <td>positif</td>\n",
       "    </tr>\n",
       "  </tbody>\n",
       "</table>\n",
       "</div>"
      ],
      "text/plain": [
       "                                           full_text  \\\n",
       "0  @PartaiSocmed Sumber = tiktok TKN Prabowo Gibr...   \n",
       "1  Solidaritas positif Mantan Kepala Desa: Prabow...   \n",
       "\n",
       "                                          text_clean  \\\n",
       "0                   sumber tiktok tkn prabowo gibran   \n",
       "1  solidaritas positif mantan kepala desa prabowo...   \n",
       "\n",
       "                                               token  \\\n",
       "0             [sumber, tiktok, tkn, prabowo, gibran]   \n",
       "1  [solidaritas, positif, mantan, kepala, desa, p...   \n",
       "\n",
       "                                                stop  \\\n",
       "0             [sumber, tiktok, tkn, prabowo, gibran]   \n",
       "1  [solidaritas, positif, mantan, kepala, desa, p...   \n",
       "\n",
       "                                             stemmed    label  \n",
       "0             [sumber, tiktok, tkn, prabowo, gibran]   netral  \n",
       "1  [solidaritas, positif, mantan, kepala, desa, p...  positif  "
      ]
     },
     "execution_count": 22,
     "metadata": {},
     "output_type": "execute_result"
    }
   ],
   "source": [
    "df = df[['full_text', 'text_clean', 'token', 'stop', 'stemmed', 'label']]\n",
    "df.head(2)"
   ]
  },
  {
   "cell_type": "markdown",
   "metadata": {},
   "source": [
    "### `Exploratory Data Analysis`"
   ]
  },
  {
   "cell_type": "code",
   "execution_count": 30,
   "metadata": {},
   "outputs": [
    {
     "data": {
      "text/plain": [
       "negatif    509\n",
       "positif    380\n",
       "netral       1\n",
       "Name: label, dtype: int64"
      ]
     },
     "execution_count": 30,
     "metadata": {},
     "output_type": "execute_result"
    }
   ],
   "source": [
    "df['label'].value_counts()"
   ]
  },
  {
   "cell_type": "code",
   "execution_count": 31,
   "metadata": {},
   "outputs": [
    {
     "name": "stdout",
     "output_type": "stream",
     "text": [
      "negatif    510\n",
      "positif    380\n",
      "Name: label, dtype: int64\n"
     ]
    }
   ],
   "source": [
    "df = normalize_label(df)\n",
    "print(df['label'].value_counts())"
   ]
  },
  {
   "cell_type": "code",
   "execution_count": 32,
   "metadata": {},
   "outputs": [
    {
     "data": {
      "image/png": "[encoded data removed]",
      "text/plain": [
       "<Figure size 600x400 with 1 Axes>"
      ]
     },
     "metadata": {},
     "output_type": "display_data"
    }
   ],
   "source": [
    "counts = df['label'].value_counts()\n",
    "plt.figure(figsize=(6, 4))  # Mengatur ukuran plot\n",
    "\n",
    "sns.barplot(x=counts.index, y=counts.values, palette='viridis')\n",
    "\n",
    "plt.title('Jumlah label')\n",
    "plt.xlabel('label')\n",
    "plt.ylabel('Jumlah')\n",
    "\n",
    "plt.show()"
   ]
  },
  {
   "cell_type": "code",
   "execution_count": 33,
   "metadata": {},
   "outputs": [
    {
     "data": {
      "text/plain": [
       "['sumber', 'tiktok', 'tkn', 'prabowo', 'gibran']"
      ]
     },
     "execution_count": 33,
     "metadata": {},
     "output_type": "execute_result"
    }
   ],
   "source": [
    "# Menggabungkan semua list menjadi satu list tunggal\n",
    "merged_stemming = merge_2d_array_to_1d(df['stemmed'])\n",
    "merged_stemming[:5]"
   ]
  },
  {
   "cell_type": "code",
   "execution_count": 34,
   "metadata": {},
   "outputs": [
    {
     "name": "stdout",
     "output_type": "stream",
     "text": [
      "{'sumber': [0, 1], 'tiktok': [1, 0], 'tkn': [1, 0], 'prabowo': [20, 20], 'gibran': [17, 23], 'solidaritas': [1, 1], 'positif': [8, 3], 'mantan': [12, 15], 'kepala': [3, 4], 'desa': [7, 5], 'prabowogibran': [23, 19], 'langkah': [1, 0], 'maju': [1, 0], 'putus': [1, 1], 'jalan': [1, 0], 'ubah': [8, 7], 'ingin': [0, 2], 'ahmad': [0, 1], 'dhani': [1, 0], 'kampanye': [1, 0], 'pilih': [1, 5], 'optimis': [0, 1], 'pimpin': [8, 13], 'iring': [1, 1], 'suara': [2, 5], 'bulat': [0, 2], 'ratus': [4, 3], 'kades': [6, 9], 'bangun': [2, 2], 'nyata': [4, 2], 'cipta': [3, 1], 'harmoni': [0, 1], 'dukung': [7, 14], 'pilpres': [2, 3], 'satu': [1, 4], 'lebih': [5, 2], 'baik': [2, 3], 'sama': [1, 3], 'komitmen': [1, 1], 'percaya': [1, 0], 'narasi': [1, 0], 'penuh': [1, 1], 'solusi': [1, 0], 'semangat': [2, 2], 'segar': [1, 0], 'kotakabupaten': [1, 2], 'cirebon': [7, 5], 'buat': [1, 1], 'atmosfer': [1, 0], 'katalisator': [1, 0], 'mentang': [1, 0], 'jadi': [1, 2], 'caprescawapres': [0, 1], 'terus': [1, 1], 'sering': [1, 2], 'nyebut': [0, 1], 'pagi': [0, 1], 'pasti': [0, 1], 'bijak': [1, 1], 'tetap': [1, 1], 'pihak': [1, 1], 'nilainilai': [0, 1], 'manusia': [0, 2], 'purnakuwu': [9, 9], 'dukungpragibs': [12, 6], 'optimalisasi': [1, 0], 'program': [1, 0], 'jokowi': [1, 0], 'lanjut': [1, 1], 'garda': [0, 1], 'depan': [0, 1], 'juang': [1, 1], 'hak': [0, 1], 'asasi': [1, 0], 'indonesia': [1, 1], 'lupa': [3, 1], 'rakyat': [10, 18], 'jawa': [7, 15], 'tengah': [6, 16], 'punya': [0, 1], 'mata': [0, 3], 'telinga': [0, 1], 'lihat': [0, 2], 'dengar': [0, 2], 'benar': [0, 2], 'jangan': [4, 1], 'tunjuk': [1, 1], 'sulap': [0, 1], 'mana': [0, 3], 'segala': [0, 1], 'alas': [0, 1], 'jelas': [0, 1], 'aniescak': [1, 0], 'imin': [0, 1], 'kritik': [0, 1], 'ikn': [1, 0], 'ganjarmahfud': [0, 1], 'sepakat': [0, 1], 'solid': [1, 0], 'sejahtera': [1, 0], 'kontribusi': [1, 0], 'penting': [1, 0], 'menang': [2, 1], 'tingkat': [0, 2], 'lokal': [1, 2], 'akan': [1, 0], 'harga': [2, 1], 'jujur': [3, 3], 'sekadar': [1, 1], 'janji': [2, 1], 'kosong': [1, 1], 'fokus': [1, 3], 'visi': [1, 0], 'cerita': [1, 1], 'karang': [1, 1], 'ganjar': [4, 7], 'mahfud': [6, 5], 'harap': [1, 3], 'pengaruh': [1, 1], 'drama': [2, 3], 'politik': [4, 7], 'pemuda': [1, 0], 'asal': [0, 1], 'kota': [0, 1], 'malang': [0, 1], 'rilis': [0, 1], 'lagu': [0, 2], 'pasang': [0, 3], 'subianto': [0, 1], 'simak': [1, 0], 'utuh': [1, 1], 'warga': [2, 2], 'wadas': [2, 4], 'terlalu': [1, 0], 'mudah': [0, 4], 'pikat': [0, 1], 'trik': [1, 2], 'biar': [1, 0], 'dongeng': [1, 0], 'rusak': [1, 1], 'citra': [1, 1], 'moral': [1, 0], 'berani': [2, 1], 'hadap': [1, 0], 'tantang': [0, 1], 'inspirasi': [1, 0], 'masyarakat': [1, 0], 'surabaya': [1, 0], 'hidup': [0, 1], 'seharihari': [0, 1], 'bohong': [1, 5], 'kait': [1, 0], 'gambar': [1, 0], 'ketidakjujuran': [0, 1], 'dapat': [1, 0], 'kualitas': [2, 0], 'rendah': [1, 0], 'mau': [1, 0], 'main': [1, 2], 'belimbing': [1, 0], 'sayur': [1, 0], 'jual': [1, 1], 'obat': [1, 0], 'palsu': [2, 1], 'cuma': [1, 0], 'bikin': [0, 1], 'gebrak': [1, 0], 'iklan': [0, 1], 'nol': [0, 1], 'prestasi': [0, 1], 'tak': [1, 4], 'sinar': [0, 1], 'capai': [0, 2], 'jaya': [0, 1], 'tinggi': [0, 1], 'bukan': [1, 4], 'tuju': [0, 1], 'aku': [0, 1], 'jaga': [1, 1], 'aman': [2, 2], 'utama': [0, 4], 'ajar': [0, 3], 'panggung': [0, 2], 'sandiwara': [1, 1], 'tipu': [1, 3], 'pondasi': [0, 1], 'kokoh': [0, 1], 'keliru': [1, 1], 'ira': [1, 1], 'cerdas': [0, 4], 'lampau': [0, 1], 'klaim': [1, 3], 'milik': [1, 1], 'track': [0, 1], 'record': [0, 1], 'kalian': [1, 1], 'tulus': [0, 3], 'cermin': [0, 1], 'butuh': [0, 1], 'ajang': [0, 1], 'kerja': [2, 0], 'alir': [0, 1], 'jamin': [1, 1], 'handal': [0, 1], 'yakin': [1, 1], 'bangkit': [0, 1], 'mantabbb': [1, 0], 'gassss': [1, 0], 'putar': [0, 1], 'manipulasi': [1, 0], 'bawa': [0, 3], 'raih': [0, 1], 'sejati': [0, 1], 'tegas': [4, 0], 'terombangambing': [0, 1], 'tahu': [2, 2], 'ukur': [0, 1], 'berapa': [1, 1], 'muncul': [0, 1], 'media': [0, 1], 'seolaholah': [0, 1], 'catur': [0, 1], 'curang': [0, 1], 'ratu': [0, 1], 'sungguh': [0, 1], 'coba': [0, 1], 'dasar': [0, 2], 'libat': [0, 1], 'deklarasi': [0, 1], 'atas': [1, 0], 'luar': [2, 0], 'biasa': [1, 1], 'bang': [0, 1], 'btw': [0, 1], 'mungkin': [0, 2], 'mahir': [0, 1], 'bongkar': [0, 1], 'rayu': [0, 1], 'tanggung': [0, 1], 'jawab': [0, 1], 'signifikan': [0, 1], 'pancar': [0, 1], 'anggap': [0, 2], 'skenario': [0, 1], 'sah': [0, 1], 'perlu': [0, 1], 'sadar': [0, 1], 'jauh': [1, 0], 'bukti': [1, 1], 'peduli': [0, 2], 'lurah': [2, 2], 'ragu': [1, 0], 'pangkat': [0, 1], 'elemen': [1, 0], 'imbang': [0, 1], 'sempurna': [0, 1], 'letak': [0, 1], 'pesona': [0, 1], 'karisma': [0, 1], 'cari': [1, 1], 'integritas': [0, 1], 'ilusi': [0, 1], 'manfaat': [1, 0], 'nama': [1, 0], 'hati': [2, 1], 'daulat': [1, 0], 'ekonomi': [1, 0], 'landas': [0, 1], 'bagaimana': [1, 0], 'tampak': [0, 1], 'kecoh': [1, 0], 'rekayasa': [1, 1], 'bau': [1, 0], 'resmi': [1, 0], 'kpu': [1, 0], 'nomor': [1, 0], 'urut': [1, 0], 'partai': [0, 1], 'demokrat': [0, 1], 'jember': [1, 0], 'siap': [1, 0], 'all': [0, 1], 'out': [0, 1], 'beri': [0, 1], 'tawar': [1, 0], 'wujud': [1, 0], 'strategi': [1, 0], 'hebat': [1, 0], 'akting': [1, 0], 'siapa': [0, 1], 'pantas': [1, 0], 'unggul': [1, 0], 'wibawa': [0, 1], 'selalu': [1, 0], 'cara': [0, 1]}\n"
     ]
    }
   ],
   "source": [
    "word_freq = word_freq_func(merged_stemming, df['label'])\n",
    "print(word_freq)"
   ]
  },
  {
   "cell_type": "code",
   "execution_count": 35,
   "metadata": {},
   "outputs": [
    {
     "data": {
      "text/html": [
       "<div>\n",
       "<style scoped>\n",
       "    .dataframe tbody tr th:only-of-type {\n",
       "        vertical-align: middle;\n",
       "    }\n",
       "\n",
       "    .dataframe tbody tr th {\n",
       "        vertical-align: top;\n",
       "    }\n",
       "\n",
       "    .dataframe thead th {\n",
       "        text-align: right;\n",
       "    }\n",
       "</style>\n",
       "<table border=\"1\" class=\"dataframe\">\n",
       "  <thead>\n",
       "    <tr style=\"text-align: right;\">\n",
       "      <th></th>\n",
       "      <th>Kata</th>\n",
       "      <th>Jumlah_Positif</th>\n",
       "      <th>Jumlah_Negatif</th>\n",
       "    </tr>\n",
       "  </thead>\n",
       "  <tbody>\n",
       "    <tr>\n",
       "      <th>0</th>\n",
       "      <td>sumber</td>\n",
       "      <td>0</td>\n",
       "      <td>1</td>\n",
       "    </tr>\n",
       "    <tr>\n",
       "      <th>1</th>\n",
       "      <td>tiktok</td>\n",
       "      <td>1</td>\n",
       "      <td>0</td>\n",
       "    </tr>\n",
       "    <tr>\n",
       "      <th>2</th>\n",
       "      <td>tkn</td>\n",
       "      <td>1</td>\n",
       "      <td>0</td>\n",
       "    </tr>\n",
       "    <tr>\n",
       "      <th>3</th>\n",
       "      <td>prabowo</td>\n",
       "      <td>20</td>\n",
       "      <td>20</td>\n",
       "    </tr>\n",
       "    <tr>\n",
       "      <th>4</th>\n",
       "      <td>gibran</td>\n",
       "      <td>17</td>\n",
       "      <td>23</td>\n",
       "    </tr>\n",
       "  </tbody>\n",
       "</table>\n",
       "</div>"
      ],
      "text/plain": [
       "      Kata  Jumlah_Positif  Jumlah_Negatif\n",
       "0   sumber               0               1\n",
       "1   tiktok               1               0\n",
       "2      tkn               1               0\n",
       "3  prabowo              20              20\n",
       "4   gibran              17              23"
      ]
     },
     "execution_count": 35,
     "metadata": {},
     "output_type": "execute_result"
    }
   ],
   "source": [
    "# Membuat DataFrame dari hasil perhitungan frekuensi kata dan kolom 'label'\n",
    "df_word_freq = pd.DataFrame(word_freq.items(), columns=['Kata', 'Jumlah'])\n",
    "df_word_freq[['Jumlah_Positif', 'Jumlah_Negatif']] = pd.DataFrame(df_word_freq['Jumlah'].tolist(), index=df_word_freq.index)\n",
    "df_word_freq.drop('Jumlah', axis=1, inplace=True)\n",
    "df_word_freq.head()"
   ]
  },
  {
   "cell_type": "code",
   "execution_count": 36,
   "metadata": {},
   "outputs": [
    {
     "data": {
      "image/png": "[encoded data removed]",
      "text/plain": [
       "<Figure size 1200x500 with 2 Axes>"
      ]
     },
     "metadata": {},
     "output_type": "display_data"
    }
   ],
   "source": [
    "# Mengambil 10 kata teratas untuk masing-masing label\n",
    "top_positif = df_word_freq.nlargest(10, 'Jumlah_Positif')\n",
    "top_negatif = df_word_freq.nlargest(10, 'Jumlah_Negatif')\n",
    "\n",
    "# Plot bar chart untuk 10 kata teratas masing-masing label\n",
    "plt.figure(figsize=(12, 5))\n",
    "\n",
    "plt.subplot(1, 2, 1)\n",
    "plt.bar(top_positif['Kata'], top_positif['Jumlah_Positif'], color='skyblue')\n",
    "plt.title('10 Kata Teratas (label: Positif)')\n",
    "plt.xticks(rotation=45)\n",
    "plt.xlabel('Kata')\n",
    "plt.ylabel('Jumlah')\n",
    "plt.tight_layout()\n",
    "\n",
    "plt.subplot(1, 2, 2)\n",
    "plt.bar(top_negatif['Kata'], top_negatif['Jumlah_Negatif'], color='salmon')\n",
    "plt.title('10 Kata Teratas (label: Negatif)')\n",
    "plt.xticks(rotation=45)\n",
    "plt.xlabel('Kata')\n",
    "plt.ylabel('Jumlah')\n",
    "plt.tight_layout()\n",
    "\n",
    "plt.show()"
   ]
  },
  {
   "cell_type": "markdown",
   "metadata": {},
   "source": [
    "### `WORD2VEC MODEL`"
   ]
  },
  {
   "cell_type": "code",
   "execution_count": 37,
   "metadata": {},
   "outputs": [
    {
     "data": {
      "text/html": [
       "<div>\n",
       "<style scoped>\n",
       "    .dataframe tbody tr th:only-of-type {\n",
       "        vertical-align: middle;\n",
       "    }\n",
       "\n",
       "    .dataframe tbody tr th {\n",
       "        vertical-align: top;\n",
       "    }\n",
       "\n",
       "    .dataframe thead th {\n",
       "        text-align: right;\n",
       "    }\n",
       "</style>\n",
       "<table border=\"1\" class=\"dataframe\">\n",
       "  <thead>\n",
       "    <tr style=\"text-align: right;\">\n",
       "      <th></th>\n",
       "      <th>full_text</th>\n",
       "      <th>text_clean</th>\n",
       "      <th>token</th>\n",
       "      <th>stop</th>\n",
       "      <th>stemmed</th>\n",
       "      <th>label</th>\n",
       "    </tr>\n",
       "  </thead>\n",
       "  <tbody>\n",
       "    <tr>\n",
       "      <th>0</th>\n",
       "      <td>@PartaiSocmed Sumber = tiktok TKN Prabowo Gibr...</td>\n",
       "      <td>sumber tiktok tkn prabowo gibran</td>\n",
       "      <td>[sumber, tiktok, tkn, prabowo, gibran]</td>\n",
       "      <td>[sumber, tiktok, tkn, prabowo, gibran]</td>\n",
       "      <td>[sumber, tiktok, tkn, prabowo, gibran]</td>\n",
       "      <td>negatif</td>\n",
       "    </tr>\n",
       "    <tr>\n",
       "      <th>1</th>\n",
       "      <td>Solidaritas positif Mantan Kepala Desa: Prabow...</td>\n",
       "      <td>solidaritas positif mantan kepala desa prabowo...</td>\n",
       "      <td>[solidaritas, positif, mantan, kepala, desa, p...</td>\n",
       "      <td>[solidaritas, positif, mantan, kepala, desa, p...</td>\n",
       "      <td>[solidaritas, positif, mantan, kepala, desa, p...</td>\n",
       "      <td>positif</td>\n",
       "    </tr>\n",
       "  </tbody>\n",
       "</table>\n",
       "</div>"
      ],
      "text/plain": [
       "                                           full_text  \\\n",
       "0  @PartaiSocmed Sumber = tiktok TKN Prabowo Gibr...   \n",
       "1  Solidaritas positif Mantan Kepala Desa: Prabow...   \n",
       "\n",
       "                                          text_clean  \\\n",
       "0                   sumber tiktok tkn prabowo gibran   \n",
       "1  solidaritas positif mantan kepala desa prabowo...   \n",
       "\n",
       "                                               token  \\\n",
       "0             [sumber, tiktok, tkn, prabowo, gibran]   \n",
       "1  [solidaritas, positif, mantan, kepala, desa, p...   \n",
       "\n",
       "                                                stop  \\\n",
       "0             [sumber, tiktok, tkn, prabowo, gibran]   \n",
       "1  [solidaritas, positif, mantan, kepala, desa, p...   \n",
       "\n",
       "                                             stemmed    label  \n",
       "0             [sumber, tiktok, tkn, prabowo, gibran]  negatif  \n",
       "1  [solidaritas, positif, mantan, kepala, desa, p...  positif  "
      ]
     },
     "execution_count": 37,
     "metadata": {},
     "output_type": "execute_result"
    }
   ],
   "source": [
    "df.head(2)"
   ]
  },
  {
   "cell_type": "code",
   "execution_count": 38,
   "metadata": {},
   "outputs": [
    {
     "data": {
      "text/html": [
       "<div>\n",
       "<style scoped>\n",
       "    .dataframe tbody tr th:only-of-type {\n",
       "        vertical-align: middle;\n",
       "    }\n",
       "\n",
       "    .dataframe tbody tr th {\n",
       "        vertical-align: top;\n",
       "    }\n",
       "\n",
       "    .dataframe thead th {\n",
       "        text-align: right;\n",
       "    }\n",
       "</style>\n",
       "<table border=\"1\" class=\"dataframe\">\n",
       "  <thead>\n",
       "    <tr style=\"text-align: right;\">\n",
       "      <th></th>\n",
       "      <th>full_text</th>\n",
       "      <th>text_clean</th>\n",
       "      <th>token</th>\n",
       "      <th>stop</th>\n",
       "      <th>stemmed</th>\n",
       "      <th>untokenize_clean</th>\n",
       "      <th>label</th>\n",
       "    </tr>\n",
       "  </thead>\n",
       "  <tbody>\n",
       "    <tr>\n",
       "      <th>0</th>\n",
       "      <td>@PartaiSocmed Sumber = tiktok TKN Prabowo Gibr...</td>\n",
       "      <td>sumber tiktok tkn prabowo gibran</td>\n",
       "      <td>[sumber, tiktok, tkn, prabowo, gibran]</td>\n",
       "      <td>[sumber, tiktok, tkn, prabowo, gibran]</td>\n",
       "      <td>[sumber, tiktok, tkn, prabowo, gibran]</td>\n",
       "      <td>sumber tiktok tkn prabowo gibran</td>\n",
       "      <td>negatif</td>\n",
       "    </tr>\n",
       "    <tr>\n",
       "      <th>1</th>\n",
       "      <td>Solidaritas positif Mantan Kepala Desa: Prabow...</td>\n",
       "      <td>solidaritas positif mantan kepala desa prabowo...</td>\n",
       "      <td>[solidaritas, positif, mantan, kepala, desa, p...</td>\n",
       "      <td>[solidaritas, positif, mantan, kepala, desa, p...</td>\n",
       "      <td>[solidaritas, positif, mantan, kepala, desa, p...</td>\n",
       "      <td>solidaritas positif mantan kepala desa prabowo...</td>\n",
       "      <td>positif</td>\n",
       "    </tr>\n",
       "  </tbody>\n",
       "</table>\n",
       "</div>"
      ],
      "text/plain": [
       "                                           full_text  \\\n",
       "0  @PartaiSocmed Sumber = tiktok TKN Prabowo Gibr...   \n",
       "1  Solidaritas positif Mantan Kepala Desa: Prabow...   \n",
       "\n",
       "                                          text_clean  \\\n",
       "0                   sumber tiktok tkn prabowo gibran   \n",
       "1  solidaritas positif mantan kepala desa prabowo...   \n",
       "\n",
       "                                               token  \\\n",
       "0             [sumber, tiktok, tkn, prabowo, gibran]   \n",
       "1  [solidaritas, positif, mantan, kepala, desa, p...   \n",
       "\n",
       "                                                stop  \\\n",
       "0             [sumber, tiktok, tkn, prabowo, gibran]   \n",
       "1  [solidaritas, positif, mantan, kepala, desa, p...   \n",
       "\n",
       "                                             stemmed  \\\n",
       "0             [sumber, tiktok, tkn, prabowo, gibran]   \n",
       "1  [solidaritas, positif, mantan, kepala, desa, p...   \n",
       "\n",
       "                                    untokenize_clean    label  \n",
       "0                   sumber tiktok tkn prabowo gibran  negatif  \n",
       "1  solidaritas positif mantan kepala desa prabowo...  positif  "
      ]
     },
     "execution_count": 38,
     "metadata": {},
     "output_type": "execute_result"
    }
   ],
   "source": [
    "df['untokenize_clean'] = df['stemmed'].apply(untokenize)\n",
    "df = df[['full_text', 'text_clean', 'token', 'stop', 'stemmed','untokenize_clean', 'label']]\n",
    "df.head(2)"
   ]
  },
  {
   "cell_type": "code",
   "execution_count": 39,
   "metadata": {},
   "outputs": [
    {
     "name": "stdout",
     "output_type": "stream",
     "text": [
      "Train size: 623\n",
      "Test size: 267\n"
     ]
    }
   ],
   "source": [
    "df_train, df_test = train_test_split(df, test_size=0.3, random_state=42)\n",
    "print(\"Train size:\", len(df_train))\n",
    "print(\"Test size:\", len(df_test))"
   ]
  },
  {
   "cell_type": "code",
   "execution_count": 40,
   "metadata": {},
   "outputs": [
    {
     "data": {
      "text/html": [
       "<div>\n",
       "<style scoped>\n",
       "    .dataframe tbody tr th:only-of-type {\n",
       "        vertical-align: middle;\n",
       "    }\n",
       "\n",
       "    .dataframe tbody tr th {\n",
       "        vertical-align: top;\n",
       "    }\n",
       "\n",
       "    .dataframe thead th {\n",
       "        text-align: right;\n",
       "    }\n",
       "</style>\n",
       "<table border=\"1\" class=\"dataframe\">\n",
       "  <thead>\n",
       "    <tr style=\"text-align: right;\">\n",
       "      <th></th>\n",
       "      <th>full_text</th>\n",
       "      <th>text_clean</th>\n",
       "      <th>token</th>\n",
       "      <th>stop</th>\n",
       "      <th>stemmed</th>\n",
       "      <th>untokenize_clean</th>\n",
       "      <th>label</th>\n",
       "    </tr>\n",
       "  </thead>\n",
       "  <tbody>\n",
       "    <tr>\n",
       "      <th>490</th>\n",
       "      <td>Masyarakat Jatim melihat Ganjar sebagai pemimp...</td>\n",
       "      <td>masyarakat jatim melihat ganjar sebagai pemimp...</td>\n",
       "      <td>[masyarakat, jatim, melihat, ganjar, sebagai, ...</td>\n",
       "      <td>[masyarakat, jatim, melihat, ganjar, pemimpin,...</td>\n",
       "      <td>[masyarakat, jatim, lihat, ganjar, pimpin, leb...</td>\n",
       "      <td>masyarakat jatim lihat ganjar pimpin lebih mil...</td>\n",
       "      <td>negatif</td>\n",
       "    </tr>\n",
       "    <tr>\n",
       "      <th>297</th>\n",
       "      <td>@ilhamram_dani Mantap banget! Gas terus dukung...</td>\n",
       "      <td>mantap banget gas terus dukung prabowogibran p...</td>\n",
       "      <td>[mantap, banget, gas, terus, dukung, prabowogi...</td>\n",
       "      <td>[mantap, banget, gas, terus, dukung, prabowogi...</td>\n",
       "      <td>[mantap, banget, gas, terus, dukung, prabowogi...</td>\n",
       "      <td>mantap banget gas terus dukung prabowogibran b...</td>\n",
       "      <td>positif</td>\n",
       "    </tr>\n",
       "  </tbody>\n",
       "</table>\n",
       "</div>"
      ],
      "text/plain": [
       "                                             full_text  \\\n",
       "490  Masyarakat Jatim melihat Ganjar sebagai pemimp...   \n",
       "297  @ilhamram_dani Mantap banget! Gas terus dukung...   \n",
       "\n",
       "                                            text_clean  \\\n",
       "490  masyarakat jatim melihat ganjar sebagai pemimp...   \n",
       "297  mantap banget gas terus dukung prabowogibran p...   \n",
       "\n",
       "                                                 token  \\\n",
       "490  [masyarakat, jatim, melihat, ganjar, sebagai, ...   \n",
       "297  [mantap, banget, gas, terus, dukung, prabowogi...   \n",
       "\n",
       "                                                  stop  \\\n",
       "490  [masyarakat, jatim, melihat, ganjar, pemimpin,...   \n",
       "297  [mantap, banget, gas, terus, dukung, prabowogi...   \n",
       "\n",
       "                                               stemmed  \\\n",
       "490  [masyarakat, jatim, lihat, ganjar, pimpin, leb...   \n",
       "297  [mantap, banget, gas, terus, dukung, prabowogi...   \n",
       "\n",
       "                                      untokenize_clean    label  \n",
       "490  masyarakat jatim lihat ganjar pimpin lebih mil...  negatif  \n",
       "297  mantap banget gas terus dukung prabowogibran b...  positif  "
      ]
     },
     "execution_count": 40,
     "metadata": {},
     "output_type": "execute_result"
    }
   ],
   "source": [
    "df_train.head(2)"
   ]
  },
  {
   "cell_type": "code",
   "execution_count": 41,
   "metadata": {},
   "outputs": [
    {
     "data": {
      "image/png": "[encoded data removed]",
      "text/plain": [
       "<Figure size 1000x500 with 2 Axes>"
      ]
     },
     "metadata": {},
     "output_type": "display_data"
    }
   ],
   "source": [
    "# Menghitung jumlah label untuk setiap nilai unik dalam kolom 'label' pada df_train dan df_test\n",
    "train_label_counts = df_train.groupby('label').size()\n",
    "test_label_counts = df_test.groupby('label').size()\n",
    "\n",
    "# Data train dan test\n",
    "data = [train_label_counts, test_label_counts]\n",
    "titles = ['Jumlah label pada df_train', 'Jumlah label pada df_test']\n",
    "colors = ['skyblue', 'salmon']\n",
    "\n",
    "# Menyiapkan subplots dalam satu canvas\n",
    "fig, ax = plt.subplots(nrows=1, ncols=2, figsize=(10, 5))\n",
    "\n",
    "for i, (label, counts) in enumerate(zip(['df_train', 'df_test'], data)):\n",
    "    bars = ax[i].bar(counts.index, counts, color=colors[i])\n",
    "    ax[i].set_xlabel('label')\n",
    "    ax[i].set_ylabel('Jumlah')\n",
    "    ax[i].set_title(titles[i])\n",
    "    \n",
    "    # Menambahkan label pada setiap bar\n",
    "    for bar in bars:\n",
    "        yval = bar.get_height()\n",
    "        ax[i].text(bar.get_x() + bar.get_width()/2, yval, round(yval, 2), ha='center', va='bottom')\n",
    "\n",
    "plt.tight_layout()\n",
    "plt.show()"
   ]
  },
  {
   "cell_type": "code",
   "execution_count": 42,
   "metadata": {},
   "outputs": [
    {
     "data": {
      "text/html": [
       "<div>\n",
       "<style scoped>\n",
       "    .dataframe tbody tr th:only-of-type {\n",
       "        vertical-align: middle;\n",
       "    }\n",
       "\n",
       "    .dataframe tbody tr th {\n",
       "        vertical-align: top;\n",
       "    }\n",
       "\n",
       "    .dataframe thead th {\n",
       "        text-align: right;\n",
       "    }\n",
       "</style>\n",
       "<table border=\"1\" class=\"dataframe\">\n",
       "  <thead>\n",
       "    <tr style=\"text-align: right;\">\n",
       "      <th></th>\n",
       "      <th>full_text</th>\n",
       "      <th>text_clean</th>\n",
       "      <th>token</th>\n",
       "      <th>stop</th>\n",
       "      <th>stemmed</th>\n",
       "      <th>untokenize_clean</th>\n",
       "      <th>label</th>\n",
       "    </tr>\n",
       "  </thead>\n",
       "  <tbody>\n",
       "    <tr>\n",
       "      <th>490</th>\n",
       "      <td>Masyarakat Jatim melihat Ganjar sebagai pemimp...</td>\n",
       "      <td>masyarakat jatim melihat ganjar sebagai pemimp...</td>\n",
       "      <td>[masyarakat, jatim, melihat, ganjar, sebagai, ...</td>\n",
       "      <td>[masyarakat, jatim, melihat, ganjar, pemimpin,...</td>\n",
       "      <td>[masyarakat, jatim, lihat, ganjar, pimpin, leb...</td>\n",
       "      <td>masyarakat jatim lihat ganjar pimpin lebih mil...</td>\n",
       "      <td>negatif</td>\n",
       "    </tr>\n",
       "    <tr>\n",
       "      <th>297</th>\n",
       "      <td>@ilhamram_dani Mantap banget! Gas terus dukung...</td>\n",
       "      <td>mantap banget gas terus dukung prabowogibran p...</td>\n",
       "      <td>[mantap, banget, gas, terus, dukung, prabowogi...</td>\n",
       "      <td>[mantap, banget, gas, terus, dukung, prabowogi...</td>\n",
       "      <td>[mantap, banget, gas, terus, dukung, prabowogi...</td>\n",
       "      <td>mantap banget gas terus dukung prabowogibran b...</td>\n",
       "      <td>positif</td>\n",
       "    </tr>\n",
       "  </tbody>\n",
       "</table>\n",
       "</div>"
      ],
      "text/plain": [
       "                                             full_text  \\\n",
       "490  Masyarakat Jatim melihat Ganjar sebagai pemimp...   \n",
       "297  @ilhamram_dani Mantap banget! Gas terus dukung...   \n",
       "\n",
       "                                            text_clean  \\\n",
       "490  masyarakat jatim melihat ganjar sebagai pemimp...   \n",
       "297  mantap banget gas terus dukung prabowogibran p...   \n",
       "\n",
       "                                                 token  \\\n",
       "490  [masyarakat, jatim, melihat, ganjar, sebagai, ...   \n",
       "297  [mantap, banget, gas, terus, dukung, prabowogi...   \n",
       "\n",
       "                                                  stop  \\\n",
       "490  [masyarakat, jatim, melihat, ganjar, pemimpin,...   \n",
       "297  [mantap, banget, gas, terus, dukung, prabowogi...   \n",
       "\n",
       "                                               stemmed  \\\n",
       "490  [masyarakat, jatim, lihat, ganjar, pimpin, leb...   \n",
       "297  [mantap, banget, gas, terus, dukung, prabowogi...   \n",
       "\n",
       "                                      untokenize_clean    label  \n",
       "490  masyarakat jatim lihat ganjar pimpin lebih mil...  negatif  \n",
       "297  mantap banget gas terus dukung prabowogibran b...  positif  "
      ]
     },
     "execution_count": 42,
     "metadata": {},
     "output_type": "execute_result"
    }
   ],
   "source": [
    "df_train.head(2)"
   ]
  },
  {
   "cell_type": "code",
   "execution_count": 43,
   "metadata": {},
   "outputs": [
    {
     "name": "stdout",
     "output_type": "stream",
     "text": [
      "623\n"
     ]
    },
    {
     "data": {
      "text/plain": [
       "[['masyarakat',\n",
       "  'jatim',\n",
       "  'lihat',\n",
       "  'ganjar',\n",
       "  'pimpin',\n",
       "  'lebih',\n",
       "  'milik',\n",
       "  'empati',\n",
       "  'prabowo',\n",
       "  'anggap',\n",
       "  'kurang',\n",
       "  'peka',\n",
       "  'butuh',\n",
       "  'sosial'],\n",
       " ['mantap',\n",
       "  'banget',\n",
       "  'gas',\n",
       "  'terus',\n",
       "  'dukung',\n",
       "  'prabowogibran',\n",
       "  'bikin',\n",
       "  'ubah',\n",
       "  'bagus',\n",
       "  'buat',\n",
       "  'indo',\n",
       "  'purnakuwu',\n",
       "  'dukungpragibs']]"
      ]
     },
     "execution_count": 43,
     "metadata": {},
     "output_type": "execute_result"
    }
   ],
   "source": [
    "documents = tokenize_column(df_train, 'untokenize_clean')\n",
    "print(len(documents))\n",
    "documents[:2]"
   ]
  },
  {
   "cell_type": "code",
   "execution_count": 44,
   "metadata": {},
   "outputs": [],
   "source": [
    "# Inisialisasi model Word2Vec dengan parameter:\n",
    "# - vector_size: Menentukan jumlah dimensi vektor untuk merepresentasikan kata-kata dalam model Word2Vec.\n",
    "# - window: Parameter yang menentukan jendela konteks kata dalam teks yang akan dilihat oleh model saat melatih vektor kata.\n",
    "# - min_count: Menentukan jumlah minimum kemunculan kata yang diperlukan agar kata tersebut diikutsertakan dalam pembangunan vektor kata.\n",
    "# - workers: Menentukan jumlah thread atau pekerja yang akan digunakan saat melatih model.\n",
    "\n",
    "w2v_model = gensim.models.Word2Vec(\n",
    "                                    vector_size=W2V_SIZE, \n",
    "                                    window=W2V_WINDOW, \n",
    "                                    min_count=W2V_MIN_COUNT, \n",
    "                                    workers=8\n",
    "                                   )\n",
    "\n",
    "w2v_model.build_vocab(documents)"
   ]
  },
  {
   "cell_type": "code",
   "execution_count": 45,
   "metadata": {},
   "outputs": [
    {
     "name": "stdout",
     "output_type": "stream",
     "text": [
      "Vocab size: 172\n"
     ]
    }
   ],
   "source": [
    "words = w2v_model.wv.index_to_key  # Mendapatkan daftar kata-kata dari model Word2Vec\n",
    "vocab_size = len(words)  # Menghitung ukuran vocabulary\n",
    "print(\"Vocab size:\", vocab_size)"
   ]
  },
  {
   "cell_type": "code",
   "execution_count": 46,
   "metadata": {},
   "outputs": [
    {
     "name": "stdout",
     "output_type": "stream",
     "text": [
      "['prabowo', 'ganjar', 'dukung']\n"
     ]
    }
   ],
   "source": [
    "print(words[:3])"
   ]
  },
  {
   "cell_type": "code",
   "execution_count": 47,
   "metadata": {},
   "outputs": [
    {
     "data": {
      "text/plain": [
       "(90825, 278496)"
      ]
     },
     "execution_count": 47,
     "metadata": {},
     "output_type": "execute_result"
    }
   ],
   "source": [
    "w2v_model.train(documents, total_examples=len(documents), epochs=W2V_EPOCH)"
   ]
  },
  {
   "cell_type": "code",
   "execution_count": 48,
   "metadata": {},
   "outputs": [
    {
     "data": {
      "text/plain": [
       "[('yg', 0.9950690269470215),\n",
       " ('tanya', 0.9950131177902222),\n",
       " ('ham', 0.9944869875907898),\n",
       " ('langgar', 0.9942892789840698),\n",
       " ('gemoy', 0.9941503405570984),\n",
       " ('mau', 0.9941268563270569),\n",
       " ('orang', 0.9933271408081055),\n",
       " ('sih', 0.9928268194198608),\n",
       " ('pak', 0.9927417039871216),\n",
       " ('kasus', 0.992508590221405)]"
      ]
     },
     "execution_count": 48,
     "metadata": {},
     "output_type": "execute_result"
    }
   ],
   "source": [
    "similar_words = w2v_model.wv.most_similar('prabowo')\n",
    "similar_words"
   ]
  },
  {
   "cell_type": "code",
   "execution_count": 49,
   "metadata": {},
   "outputs": [
    {
     "name": "stdout",
     "output_type": "stream",
     "text": [
      "    Keyword  Similarity\n",
      "0   prabowo    1.000000\n",
      "18       yg    0.995069\n",
      "          Keyword  Similarity\n",
      "8   dukungpragibs    0.152652\n",
      "51           raya    0.148417\n"
     ]
    }
   ],
   "source": [
    "# Contoh penggunaan fungsi\n",
    "keyword = 'prabowo'  # Ganti dengan kata kunci Anda\n",
    "# Ganti 'w2v_model' dengan model Word2Vec yang Anda miliki\n",
    "result_df = calculate_similarity(keyword, w2v_model)\n",
    "print(result_df.head(2))\n",
    "print(result_df.tail(2))"
   ]
  },
  {
   "cell_type": "markdown",
   "metadata": {},
   "source": [
    "### `Model Preparation`"
   ]
  },
  {
   "cell_type": "code",
   "execution_count": 50,
   "metadata": {},
   "outputs": [
    {
     "data": {
      "text/html": [
       "<div>\n",
       "<style scoped>\n",
       "    .dataframe tbody tr th:only-of-type {\n",
       "        vertical-align: middle;\n",
       "    }\n",
       "\n",
       "    .dataframe tbody tr th {\n",
       "        vertical-align: top;\n",
       "    }\n",
       "\n",
       "    .dataframe thead th {\n",
       "        text-align: right;\n",
       "    }\n",
       "</style>\n",
       "<table border=\"1\" class=\"dataframe\">\n",
       "  <thead>\n",
       "    <tr style=\"text-align: right;\">\n",
       "      <th></th>\n",
       "      <th>full_text</th>\n",
       "      <th>text_clean</th>\n",
       "      <th>token</th>\n",
       "      <th>stop</th>\n",
       "      <th>stemmed</th>\n",
       "      <th>untokenize_clean</th>\n",
       "      <th>label</th>\n",
       "    </tr>\n",
       "  </thead>\n",
       "  <tbody>\n",
       "    <tr>\n",
       "      <th>490</th>\n",
       "      <td>Masyarakat Jatim melihat Ganjar sebagai pemimp...</td>\n",
       "      <td>masyarakat jatim melihat ganjar sebagai pemimp...</td>\n",
       "      <td>[masyarakat, jatim, melihat, ganjar, sebagai, ...</td>\n",
       "      <td>[masyarakat, jatim, melihat, ganjar, pemimpin,...</td>\n",
       "      <td>[masyarakat, jatim, lihat, ganjar, pimpin, leb...</td>\n",
       "      <td>masyarakat jatim lihat ganjar pimpin lebih mil...</td>\n",
       "      <td>negatif</td>\n",
       "    </tr>\n",
       "    <tr>\n",
       "      <th>297</th>\n",
       "      <td>@ilhamram_dani Mantap banget! Gas terus dukung...</td>\n",
       "      <td>mantap banget gas terus dukung prabowogibran p...</td>\n",
       "      <td>[mantap, banget, gas, terus, dukung, prabowogi...</td>\n",
       "      <td>[mantap, banget, gas, terus, dukung, prabowogi...</td>\n",
       "      <td>[mantap, banget, gas, terus, dukung, prabowogi...</td>\n",
       "      <td>mantap banget gas terus dukung prabowogibran b...</td>\n",
       "      <td>positif</td>\n",
       "    </tr>\n",
       "  </tbody>\n",
       "</table>\n",
       "</div>"
      ],
      "text/plain": [
       "                                             full_text  \\\n",
       "490  Masyarakat Jatim melihat Ganjar sebagai pemimp...   \n",
       "297  @ilhamram_dani Mantap banget! Gas terus dukung...   \n",
       "\n",
       "                                            text_clean  \\\n",
       "490  masyarakat jatim melihat ganjar sebagai pemimp...   \n",
       "297  mantap banget gas terus dukung prabowogibran p...   \n",
       "\n",
       "                                                 token  \\\n",
       "490  [masyarakat, jatim, melihat, ganjar, sebagai, ...   \n",
       "297  [mantap, banget, gas, terus, dukung, prabowogi...   \n",
       "\n",
       "                                                  stop  \\\n",
       "490  [masyarakat, jatim, melihat, ganjar, pemimpin,...   \n",
       "297  [mantap, banget, gas, terus, dukung, prabowogi...   \n",
       "\n",
       "                                               stemmed  \\\n",
       "490  [masyarakat, jatim, lihat, ganjar, pimpin, leb...   \n",
       "297  [mantap, banget, gas, terus, dukung, prabowogi...   \n",
       "\n",
       "                                      untokenize_clean    label  \n",
       "490  masyarakat jatim lihat ganjar pimpin lebih mil...  negatif  \n",
       "297  mantap banget gas terus dukung prabowogibran b...  positif  "
      ]
     },
     "execution_count": 50,
     "metadata": {},
     "output_type": "execute_result"
    }
   ],
   "source": [
    "df_train.head(2)"
   ]
  },
  {
   "cell_type": "code",
   "execution_count": 51,
   "metadata": {},
   "outputs": [
    {
     "name": "stdout",
     "output_type": "stream",
     "text": [
      "{'prabowo': 1, 'ganjar': 2, 'dukung': 3, 'gibran': 4, 'prabowogibran': 5}\n"
     ]
    }
   ],
   "source": [
    "tokenizer.fit_on_texts(df_train['untokenize_clean'])\n",
    "print(get_top_n_items(tokenizer.word_index, 5, False))"
   ]
  },
  {
   "cell_type": "code",
   "execution_count": 52,
   "metadata": {},
   "outputs": [
    {
     "name": "stdout",
     "output_type": "stream",
     "text": [
      "Total words 1836\n"
     ]
    }
   ],
   "source": [
    "vocab_size = len(tokenizer.word_index) + 1\n",
    "print(\"Total words\", vocab_size)"
   ]
  },
  {
   "cell_type": "code",
   "execution_count": 53,
   "metadata": {},
   "outputs": [
    {
     "name": "stdout",
     "output_type": "stream",
     "text": [
      "Wall time: 26.4 ms\n"
     ]
    }
   ],
   "source": [
    "%%time\n",
    "x_train = pad_sequences(tokenizer.texts_to_sequences(df_train.untokenize_clean), maxlen=SEQUENCE_LENGTH)\n",
    "x_test = pad_sequences(tokenizer.texts_to_sequences(df_test.untokenize_clean), maxlen=SEQUENCE_LENGTH)"
   ]
  },
  {
   "cell_type": "code",
   "execution_count": 54,
   "metadata": {},
   "outputs": [
    {
     "data": {
      "text/plain": [
       "array([[  0,   0,   0,   0,   0,   0,   0,   0,   0,   0,   0,   0,   0,\n",
       "          0,   0,   0,   0,   0,   0,   0,   0,   0,   0,   0,   0,   0,\n",
       "          0,   0,   0,   0,   0,   0,   0,   0,   0,   0,   0,   0,   0,\n",
       "          0,   0,   0,   0,   0,   0,   0,   0,   0,   0,   0,   0,   0,\n",
       "          0,   0,   0,   0,   0,   0,   0,   0,   0,   0,   0,   0,   0,\n",
       "          0,   0,   0,   0,   0,   0,   0,   0,   0,   0,   0,   0,   0,\n",
       "          0,   0,   0,   0,   0,   0,   0,   0,  44, 268,  90,   2,   6,\n",
       "         14,  68, 561,   1, 143, 173, 832,  93, 340],\n",
       "       [  0,   0,   0,   0,   0,   0,   0,   0,   0,   0,   0,   0,   0,\n",
       "          0,   0,   0,   0,   0,   0,   0,   0,   0,   0,   0,   0,   0,\n",
       "          0,   0,   0,   0,   0,   0,   0,   0,   0,   0,   0,   0,   0,\n",
       "          0,   0,   0,   0,   0,   0,   0,   0,   0,   0,   0,   0,   0,\n",
       "          0,   0,   0,   0,   0,   0,   0,   0,   0,   0,   0,   0,   0,\n",
       "          0,   0,   0,   0,   0,   0,   0,   0,   0,   0,   0,   0,   0,\n",
       "          0,   0,   0,   0,   0,   0,   0,   0,   0, 144,  77, 833,  51,\n",
       "          3,   5,  25,  15, 188,  16, 562,   8,   9]])"
      ]
     },
     "execution_count": 54,
     "metadata": {},
     "output_type": "execute_result"
    }
   ],
   "source": [
    "x_train[:2]"
   ]
  },
  {
   "cell_type": "code",
   "execution_count": 55,
   "metadata": {},
   "outputs": [
    {
     "data": {
      "text/plain": [
       "array([[   0,    0,    0,    0,    0,    0,    0,    0,    0,    0,    0,\n",
       "           0,    0,    0,    0,    0,    0,    0,    0,    0,    0,    0,\n",
       "           0,    0,    0,    0,    0,    0,    0,    0,    0,    0,    0,\n",
       "           0,    0,    0,    0,    0,    0,    0,    0,    0,    0,    0,\n",
       "           0,    0,    0,    0,    0,    0,    0,    0,    0,    0,    0,\n",
       "           0,    0,    0,    0,    0,    0,    0,    0,    0,    0,    0,\n",
       "           0,    0,    0,    0,    0,    0,    0,    0,    0,    0,    0,\n",
       "           0,    0,    0,    0,    0,    0,    0,    0,    0,    0,    0,\n",
       "           0,    0,    0,    0,    3,    5,  303,  562,  161,   40,    8,\n",
       "           9],\n",
       "       [   0,    0,    0,    0,    0,    0,    0,    0,    0,    0,    0,\n",
       "           0,    0,    0,    0,    0,    0,    0,    0,    0,    0,    0,\n",
       "           0,    0,    0,    0,    0,    0,    0,    0,    0,    0,    0,\n",
       "           0,    0,    0,    0,    0,    0,    0,    0,    0,    0,    0,\n",
       "           0,    0,    0,    0,    0,    0,    0,    0,    0,    0,    0,\n",
       "           0,    0,    0,    0,    0,    0,    0,    0,    0,    0,    0,\n",
       "           0,    0,    0,    0,    0,    0,    0,    0,    0,    0,    0,\n",
       "           0,    0,    0,    0,    0,    0,    0,    0,    0,    0,    0,\n",
       "           0,    0,   31,    1, 1069,   31,   86,  283,  560,  464, 1450,\n",
       "        1516]])"
      ]
     },
     "execution_count": 55,
     "metadata": {},
     "output_type": "execute_result"
    }
   ],
   "source": [
    "x_test[:2]"
   ]
  },
  {
   "cell_type": "markdown",
   "metadata": {},
   "source": [
    "### `Encoding`"
   ]
  },
  {
   "cell_type": "code",
   "execution_count": 56,
   "metadata": {},
   "outputs": [
    {
     "data": {
      "text/plain": [
       "['negatif', 'positif', 'positif']"
      ]
     },
     "execution_count": 56,
     "metadata": {},
     "output_type": "execute_result"
    }
   ],
   "source": [
    "# Data target dari dataframe\n",
    "target_train = df_train['label'].tolist()\n",
    "target_test = df_test['label'].tolist()\n",
    "target_train[:3]\n"
   ]
  },
  {
   "cell_type": "code",
   "execution_count": 57,
   "metadata": {},
   "outputs": [
    {
     "data": {
      "text/plain": [
       "[0, 1, 1]"
      ]
     },
     "execution_count": 57,
     "metadata": {},
     "output_type": "execute_result"
    }
   ],
   "source": [
    "# Encoding label secara manual\n",
    "y_train_encoded, label_index = manual_label_encoder(target_train)\n",
    "y_test_encoded = [label_index[label] for label in target_test]  # Menggunakan mapping yang sama untuk data test\n",
    "y_train_encoded[:3]"
   ]
  },
  {
   "cell_type": "code",
   "execution_count": 58,
   "metadata": {},
   "outputs": [
    {
     "name": "stdout",
     "output_type": "stream",
     "text": [
      "{'positif': 1, 'negatif': 0}\n"
     ]
    }
   ],
   "source": [
    "print(label_index)"
   ]
  },
  {
   "cell_type": "code",
   "execution_count": 59,
   "metadata": {},
   "outputs": [
    {
     "name": "stdout",
     "output_type": "stream",
     "text": [
      "[[0], [1], [1]]\n",
      "[[1], [1], [0]]\n"
     ]
    }
   ],
   "source": [
    "# Reshape array hasil encoding\n",
    "y_train = reshape_labels(y_train_encoded)\n",
    "y_test = reshape_labels(y_test_encoded)\n",
    "print(y_train[:3])\n",
    "print(y_test[:3])"
   ]
  },
  {
   "cell_type": "code",
   "execution_count": 60,
   "metadata": {},
   "outputs": [
    {
     "data": {
      "text/plain": [
       "array([0, 1])"
      ]
     },
     "execution_count": 60,
     "metadata": {},
     "output_type": "execute_result"
    }
   ],
   "source": [
    "np.unique(y_train)"
   ]
  },
  {
   "cell_type": "markdown",
   "metadata": {},
   "source": [
    "### `Embedding Layer`"
   ]
  },
  {
   "cell_type": "code",
   "execution_count": 61,
   "metadata": {},
   "outputs": [
    {
     "data": {
      "text/plain": [
       "array([[ 0.        ,  0.        ,  0.        , ...,  0.        ,\n",
       "         0.        ,  0.        ],\n",
       "       [-0.02195735,  0.22872123, -0.01282266, ..., -0.23189959,\n",
       "         0.07183694,  0.01863291],\n",
       "       [-0.01808246,  0.26894858, -0.16719586, ..., -0.18175149,\n",
       "        -0.04857431, -0.05663119],\n",
       "       ...,\n",
       "       [ 0.        ,  0.        ,  0.        , ...,  0.        ,\n",
       "         0.        ,  0.        ],\n",
       "       [ 0.        ,  0.        ,  0.        , ...,  0.        ,\n",
       "         0.        ,  0.        ],\n",
       "       [ 0.        ,  0.        ,  0.        , ...,  0.        ,\n",
       "         0.        ,  0.        ]])"
      ]
     },
     "execution_count": 61,
     "metadata": {},
     "output_type": "execute_result"
    }
   ],
   "source": [
    "embedding_matrix = create_embedding_matrix(vocab_size, tokenizer, w2v_model)\n",
    "embedding_matrix"
   ]
  },
  {
   "cell_type": "markdown",
   "metadata": {},
   "source": [
    "### `Build Model`"
   ]
  },
  {
   "cell_type": "code",
   "execution_count": 62,
   "metadata": {},
   "outputs": [],
   "source": [
    "# Membersihkan session Keras sebelum membuat model baru\n",
    "clear_session()"
   ]
  },
  {
   "cell_type": "code",
   "execution_count": 63,
   "metadata": {},
   "outputs": [],
   "source": [
    "embedding_layer = Embedding(vocab_size, W2V_SIZE, weights=[embedding_matrix], input_length=SEQUENCE_LENGTH, trainable=False)"
   ]
  },
  {
   "cell_type": "code",
   "execution_count": 64,
   "metadata": {},
   "outputs": [
    {
     "name": "stdout",
     "output_type": "stream",
     "text": [
      "Model: \"sequential\"\n",
      "_________________________________________________________________\n",
      " Layer (type)                Output Shape              Param #   \n",
      "=================================================================\n",
      " embedding (Embedding)       (None, 100, 300)          550800    \n",
      "                                                                 \n",
      " dropout (Dropout)           (None, 100, 300)          0         \n",
      "                                                                 \n",
      " lstm (LSTM)                 (None, 100)               160400    \n",
      "                                                                 \n",
      " dense (Dense)               (None, 1)                 101       \n",
      "                                                                 \n",
      "=================================================================\n",
      "Total params: 711,301\n",
      "Trainable params: 160,501\n",
      "Non-trainable params: 550,800\n",
      "_________________________________________________________________\n"
     ]
    }
   ],
   "source": [
    "lstm_model = Sequential()\n",
    "lstm_model.add(embedding_layer)\n",
    "lstm_model.add(Dropout(0.5))\n",
    "lstm_model.add(LSTM(100, dropout=0.2, recurrent_dropout=0.2))\n",
    "lstm_model.add(Dense(1, activation='sigmoid'))\n",
    "\n",
    "lstm_model.summary()"
   ]
  },
  {
   "cell_type": "code",
   "execution_count": 65,
   "metadata": {},
   "outputs": [],
   "source": [
    "lstm_model.compile(loss='binary_crossentropy',\n",
    "              optimizer=\"adam\",\n",
    "              metrics=['accuracy'])"
   ]
  },
  {
   "cell_type": "code",
   "execution_count": 66,
   "metadata": {},
   "outputs": [
    {
     "ename": "NameError",
     "evalue": "name 'CustomLSTM' is not defined",
     "output_type": "error",
     "traceback": [
      "\u001b[1;31m---------------------------------------------------------------------------\u001b[0m",
      "\u001b[1;31mNameError\u001b[0m                                 Traceback (most recent call last)",
      "\u001b[1;32m~\\AppData\\Local\\Temp\\ipykernel_22340\\981928960.py\u001b[0m in \u001b[0;36m<module>\u001b[1;34m\u001b[0m\n\u001b[0;32m      2\u001b[0m \u001b[0mlstm_custom_model\u001b[0m\u001b[1;33m.\u001b[0m\u001b[0madd\u001b[0m\u001b[1;33m(\u001b[0m\u001b[0membedding_layer\u001b[0m\u001b[1;33m)\u001b[0m\u001b[1;33m\u001b[0m\u001b[1;33m\u001b[0m\u001b[0m\n\u001b[0;32m      3\u001b[0m \u001b[0mlstm_custom_model\u001b[0m\u001b[1;33m.\u001b[0m\u001b[0madd\u001b[0m\u001b[1;33m(\u001b[0m\u001b[0mDropout\u001b[0m\u001b[1;33m(\u001b[0m\u001b[1;36m0.5\u001b[0m\u001b[1;33m)\u001b[0m\u001b[1;33m)\u001b[0m\u001b[1;33m\u001b[0m\u001b[1;33m\u001b[0m\u001b[0m\n\u001b[1;32m----> 4\u001b[1;33m \u001b[0mlstm_custom_model\u001b[0m\u001b[1;33m.\u001b[0m\u001b[0madd\u001b[0m\u001b[1;33m(\u001b[0m\u001b[0mCustomLSTM\u001b[0m\u001b[1;33m(\u001b[0m\u001b[0munits\u001b[0m\u001b[1;33m=\u001b[0m\u001b[1;36m100\u001b[0m\u001b[1;33m,\u001b[0m \u001b[0mdropout\u001b[0m\u001b[1;33m=\u001b[0m\u001b[1;36m0.2\u001b[0m\u001b[1;33m,\u001b[0m \u001b[0mrecurrent_dropout\u001b[0m\u001b[1;33m=\u001b[0m\u001b[1;36m0.2\u001b[0m\u001b[1;33m)\u001b[0m\u001b[1;33m)\u001b[0m\u001b[1;33m\u001b[0m\u001b[1;33m\u001b[0m\u001b[0m\n\u001b[0m\u001b[0;32m      5\u001b[0m \u001b[0mlstm_custom_model\u001b[0m\u001b[1;33m.\u001b[0m\u001b[0madd\u001b[0m\u001b[1;33m(\u001b[0m\u001b[0mDense\u001b[0m\u001b[1;33m(\u001b[0m\u001b[1;36m1\u001b[0m\u001b[1;33m,\u001b[0m \u001b[0mactivation\u001b[0m\u001b[1;33m=\u001b[0m\u001b[1;34m'sigmoid'\u001b[0m\u001b[1;33m)\u001b[0m\u001b[1;33m)\u001b[0m\u001b[1;33m\u001b[0m\u001b[1;33m\u001b[0m\u001b[0m\n\u001b[0;32m      6\u001b[0m \u001b[1;33m\u001b[0m\u001b[0m\n",
      "\u001b[1;31mNameError\u001b[0m: name 'CustomLSTM' is not defined"
     ]
    }
   ],
   "source": [
    "lstm_custom_model = Sequential()\n",
    "lstm_custom_model.add(embedding_layer)\n",
    "lstm_custom_model.add(Dropout(0.5))\n",
    "lstm_custom_model.add(CustomLSTM(units=100, dropout=0.2, recurrent_dropout=0.2))\n",
    "lstm_custom_model.add(Dense(1, activation='sigmoid'))\n",
    "\n",
    "lstm_custom_model.summary()"
   ]
  },
  {
   "cell_type": "code",
   "execution_count": 67,
   "metadata": {},
   "outputs": [
    {
     "name": "stdout",
     "output_type": "stream",
     "text": [
      "Model: \"sequential_2\"\n",
      "_________________________________________________________________\n",
      " Layer (type)                Output Shape              Param #   \n",
      "=================================================================\n",
      " embedding (Embedding)       (None, 100, 300)          550800    \n",
      "                                                                 \n",
      " dropout_2 (Dropout)         (None, 100, 300)          0         \n",
      "                                                                 \n",
      " gru (GRU)                   (None, 100)               120600    \n",
      "                                                                 \n",
      " dense_1 (Dense)             (None, 1)                 101       \n",
      "                                                                 \n",
      "=================================================================\n",
      "Total params: 671,501\n",
      "Trainable params: 120,701\n",
      "Non-trainable params: 550,800\n",
      "_________________________________________________________________\n"
     ]
    }
   ],
   "source": [
    "gru_model = Sequential()\n",
    "gru_model.add(embedding_layer)\n",
    "gru_model.add(Dropout(0.5))\n",
    "gru_model.add(GRU(units=100, dropout=0.2, recurrent_dropout=0.2))\n",
    "gru_model.add(Dense(1, activation='sigmoid'))\n",
    "\n",
    "gru_model.summary()"
   ]
  },
  {
   "cell_type": "code",
   "execution_count": 68,
   "metadata": {},
   "outputs": [],
   "source": [
    "gru_model.compile(loss='binary_crossentropy',\n",
    "              optimizer=\"adam\",\n",
    "              metrics=['accuracy'])"
   ]
  },
  {
   "cell_type": "code",
   "execution_count": 105,
   "metadata": {},
   "outputs": [],
   "source": [
    "models = []\n",
    "model_names = ['LSTM', 'GRU']\n",
    "models.append(lstm_model)\n",
    "models.append(gru_model)"
   ]
  },
  {
   "cell_type": "markdown",
   "metadata": {},
   "source": [
    "### `Train`"
   ]
  },
  {
   "cell_type": "code",
   "execution_count": 106,
   "metadata": {},
   "outputs": [
    {
     "data": {
      "text/plain": [
       "array([[  0,   0,   0,   0,   0,   0,   0,   0,   0,   0,   0,   0,   0,\n",
       "          0,   0,   0,   0,   0,   0,   0,   0,   0,   0,   0,   0,   0,\n",
       "          0,   0,   0,   0,   0,   0,   0,   0,   0,   0,   0,   0,   0,\n",
       "          0,   0,   0,   0,   0,   0,   0,   0,   0,   0,   0,   0,   0,\n",
       "          0,   0,   0,   0,   0,   0,   0,   0,   0,   0,   0,   0,   0,\n",
       "          0,   0,   0,   0,   0,   0,   0,   0,   0,   0,   0,   0,   0,\n",
       "          0,   0,   0,   0,   0,   0,   0,   0,  44, 268,  90,   2,   6,\n",
       "         14,  68, 561,   1, 143, 173, 832,  93, 340]])"
      ]
     },
     "execution_count": 106,
     "metadata": {},
     "output_type": "execute_result"
    }
   ],
   "source": [
    "x_train[:1]"
   ]
  },
  {
   "cell_type": "code",
   "execution_count": 107,
   "metadata": {},
   "outputs": [],
   "source": [
    "# Ubah x_train dan y_train menjadi tensor\n",
    "x_train_tensor = tensorflow.convert_to_tensor(x_train)\n",
    "y_train_tensor = tensorflow.convert_to_tensor(y_train)\n",
    "x_test_tensor = tensorflow.convert_to_tensor(x_test)\n",
    "y_test_tensor = tensorflow.convert_to_tensor(y_test)"
   ]
  },
  {
   "cell_type": "code",
   "execution_count": 108,
   "metadata": {},
   "outputs": [
    {
     "data": {
      "text/plain": [
       "<tf.Tensor: shape=(1, 100), dtype=int32, numpy=\n",
       "array([[  0,   0,   0,   0,   0,   0,   0,   0,   0,   0,   0,   0,   0,\n",
       "          0,   0,   0,   0,   0,   0,   0,   0,   0,   0,   0,   0,   0,\n",
       "          0,   0,   0,   0,   0,   0,   0,   0,   0,   0,   0,   0,   0,\n",
       "          0,   0,   0,   0,   0,   0,   0,   0,   0,   0,   0,   0,   0,\n",
       "          0,   0,   0,   0,   0,   0,   0,   0,   0,   0,   0,   0,   0,\n",
       "          0,   0,   0,   0,   0,   0,   0,   0,   0,   0,   0,   0,   0,\n",
       "          0,   0,   0,   0,   0,   0,   0,   0,  44, 268,  90,   2,   6,\n",
       "         14,  68, 561,   1, 143, 173, 832,  93, 340]])>"
      ]
     },
     "execution_count": 108,
     "metadata": {},
     "output_type": "execute_result"
    }
   ],
   "source": [
    "x_train_tensor[:1]"
   ]
  },
  {
   "cell_type": "code",
   "execution_count": 109,
   "metadata": {},
   "outputs": [],
   "source": [
    "callbacks = [ ReduceLROnPlateau(monitor='val_loss', patience=5, cooldown=0),\n",
    "              EarlyStopping(monitor='val_accuracy', min_delta=1e-4, patience=5)]"
   ]
  },
  {
   "cell_type": "code",
   "execution_count": 110,
   "metadata": {},
   "outputs": [
    {
     "name": "stdout",
     "output_type": "stream",
     "text": [
      "Epoch 1/50\n"
     ]
    },
    {
     "name": "stdout",
     "output_type": "stream",
     "text": [
      "1/1 [==============================] - 2s 2s/step - loss: 0.3524 - accuracy: 0.8589 - val_loss: 0.3262 - val_accuracy: 0.8730 - lr: 0.0010\n",
      "Epoch 2/50\n",
      "1/1 [==============================] - 2s 2s/step - loss: 0.3308 - accuracy: 0.8554 - val_loss: 0.3163 - val_accuracy: 0.8730 - lr: 0.0010\n",
      "Epoch 3/50\n",
      "1/1 [==============================] - 2s 2s/step - loss: 0.3239 - accuracy: 0.8571 - val_loss: 0.3145 - val_accuracy: 0.8730 - lr: 0.0010\n",
      "Epoch 4/50\n",
      "1/1 [==============================] - 2s 2s/step - loss: 0.3193 - accuracy: 0.8607 - val_loss: 0.3147 - val_accuracy: 0.8730 - lr: 0.0010\n",
      "Epoch 5/50\n",
      "1/1 [==============================] - 2s 2s/step - loss: 0.3240 - accuracy: 0.8589 - val_loss: 0.3134 - val_accuracy: 0.8889 - lr: 0.0010\n",
      "Epoch 6/50\n",
      "1/1 [==============================] - 2s 2s/step - loss: 0.3196 - accuracy: 0.8589 - val_loss: 0.3121 - val_accuracy: 0.8889 - lr: 0.0010\n",
      "Epoch 7/50\n",
      "1/1 [==============================] - 2s 2s/step - loss: 0.3139 - accuracy: 0.8536 - val_loss: 0.3144 - val_accuracy: 0.8571 - lr: 0.0010\n",
      "Epoch 8/50\n",
      "1/1 [==============================] - 2s 2s/step - loss: 0.3111 - accuracy: 0.8554 - val_loss: 0.3219 - val_accuracy: 0.8571 - lr: 0.0010\n",
      "Epoch 9/50\n",
      "1/1 [==============================] - 2s 2s/step - loss: 0.3116 - accuracy: 0.8464 - val_loss: 0.3328 - val_accuracy: 0.8254 - lr: 0.0010\n",
      "Epoch 10/50\n",
      "1/1 [==============================] - 2s 2s/step - loss: 0.3158 - accuracy: 0.8518 - val_loss: 0.3413 - val_accuracy: 0.8254 - lr: 0.0010\n",
      "Epoch 1/50\n",
      "1/1 [==============================] - 2s 2s/step - loss: 0.4453 - accuracy: 0.8393 - val_loss: 0.4200 - val_accuracy: 0.8730 - lr: 0.0010\n",
      "Epoch 2/50\n",
      "1/1 [==============================] - 2s 2s/step - loss: 0.4134 - accuracy: 0.8375 - val_loss: 0.3979 - val_accuracy: 0.8730 - lr: 0.0010\n",
      "Epoch 3/50\n",
      "1/1 [==============================] - 2s 2s/step - loss: 0.3970 - accuracy: 0.8321 - val_loss: 0.3798 - val_accuracy: 0.8730 - lr: 0.0010\n",
      "Epoch 4/50\n",
      "1/1 [==============================] - 2s 2s/step - loss: 0.3740 - accuracy: 0.8446 - val_loss: 0.3657 - val_accuracy: 0.8730 - lr: 0.0010\n",
      "Epoch 5/50\n",
      "1/1 [==============================] - 2s 2s/step - loss: 0.3636 - accuracy: 0.8411 - val_loss: 0.3557 - val_accuracy: 0.8730 - lr: 0.0010\n",
      "Epoch 6/50\n",
      "1/1 [==============================] - 2s 2s/step - loss: 0.3494 - accuracy: 0.8411 - val_loss: 0.3496 - val_accuracy: 0.8730 - lr: 0.0010\n"
     ]
    }
   ],
   "source": [
    "histories = []  # Untuk menyimpan riwayat pelatihan setiap model\n",
    "\n",
    "for model in models:\n",
    "    history = model.fit(x_train_tensor, y_train_tensor,\n",
    "                        batch_size=BATCH_SIZE,\n",
    "                        epochs=EPOCHS,\n",
    "                        validation_split=0.1,\n",
    "                        verbose=1,\n",
    "                        callbacks=callbacks)\n",
    "    histories.append(history)\n"
   ]
  },
  {
   "cell_type": "code",
   "execution_count": 111,
   "metadata": {},
   "outputs": [
    {
     "name": "stdout",
     "output_type": "stream",
     "text": [
      "model LSTM: 0.8517857193946838\n",
      "model GRU: 0.8410714268684387\n"
     ]
    }
   ],
   "source": [
    "# Menampilkan akurasi terakhir dari setiap model\n",
    "for idx, history in enumerate(histories):\n",
    "    last_accuracy = history.history['accuracy'][-1]  # Untuk mendapatkan akurasi terakhir\n",
    "    print(f\"model {model_names[idx]}: {last_accuracy}\")"
   ]
  },
  {
   "cell_type": "code",
   "execution_count": 130,
   "metadata": {},
   "outputs": [],
   "source": [
    "lstm_model.save('lstm-external.h5')\n",
    "gru_model.save('gru-external.h5')"
   ]
  },
  {
   "cell_type": "markdown",
   "metadata": {},
   "source": [
    "### `Evaluate`"
   ]
  },
  {
   "cell_type": "code",
   "execution_count": 113,
   "metadata": {},
   "outputs": [
    {
     "name": "stdout",
     "output_type": "stream",
     "text": [
      "9/9 [==============================] - 0s 38ms/step\n",
      "Model LSTM - Accuracy: 0.8352059721946716\n",
      "9/9 [==============================] - 0s 37ms/step\n",
      "Model GRU - Accuracy: 0.8202247023582458\n"
     ]
    }
   ],
   "source": [
    "for i, model in enumerate(models): \n",
    "    # print(i)\n",
    "    accuracy = manual_evaluate(model, x_test_tensor, y_test_tensor)\n",
    "    print(f\"Model {model_names[i]} - Accuracy: {accuracy}\")"
   ]
  },
  {
   "cell_type": "code",
   "execution_count": 114,
   "metadata": {},
   "outputs": [
    {
     "data": {
      "text/plain": [
       "<tf.Tensor: shape=(267, 1), dtype=int32, numpy=\n",
       "array([[1],\n",
       "       [1],\n",
       "       [0],\n",
       "       [0],\n",
       "       [1],\n",
       "       [0],\n",
       "       [0],\n",
       "       [0],\n",
       "       [1],\n",
       "       [0],\n",
       "       [0],\n",
       "       [0],\n",
       "       [0],\n",
       "       [0],\n",
       "       [1],\n",
       "       [1],\n",
       "       [0],\n",
       "       [1],\n",
       "       [1],\n",
       "       [1],\n",
       "       [0],\n",
       "       [0],\n",
       "       [0],\n",
       "       [1],\n",
       "       [0],\n",
       "       [0],\n",
       "       [1],\n",
       "       [1],\n",
       "       [0],\n",
       "       [0],\n",
       "       [1],\n",
       "       [0],\n",
       "       [0],\n",
       "       [1],\n",
       "       [0],\n",
       "       [1],\n",
       "       [0],\n",
       "       [0],\n",
       "       [1],\n",
       "       [1],\n",
       "       [0],\n",
       "       [0],\n",
       "       [0],\n",
       "       [0],\n",
       "       [0],\n",
       "       [0],\n",
       "       [1],\n",
       "       [1],\n",
       "       [0],\n",
       "       [0],\n",
       "       [0],\n",
       "       [1],\n",
       "       [0],\n",
       "       [1],\n",
       "       [0],\n",
       "       [0],\n",
       "       [0],\n",
       "       [1],\n",
       "       [1],\n",
       "       [0],\n",
       "       [1],\n",
       "       [0],\n",
       "       [0],\n",
       "       [1],\n",
       "       [0],\n",
       "       [1],\n",
       "       [0],\n",
       "       [0],\n",
       "       [1],\n",
       "       [0],\n",
       "       [1],\n",
       "       [0],\n",
       "       [1],\n",
       "       [1],\n",
       "       [1],\n",
       "       [0],\n",
       "       [0],\n",
       "       [0],\n",
       "       [0],\n",
       "       [1],\n",
       "       [0],\n",
       "       [1],\n",
       "       [0],\n",
       "       [0],\n",
       "       [0],\n",
       "       [1],\n",
       "       [0],\n",
       "       [1],\n",
       "       [1],\n",
       "       [1],\n",
       "       [1],\n",
       "       [0],\n",
       "       [1],\n",
       "       [1],\n",
       "       [0],\n",
       "       [1],\n",
       "       [0],\n",
       "       [0],\n",
       "       [1],\n",
       "       [1],\n",
       "       [0],\n",
       "       [0],\n",
       "       [0],\n",
       "       [1],\n",
       "       [1],\n",
       "       [0],\n",
       "       [1],\n",
       "       [1],\n",
       "       [1],\n",
       "       [0],\n",
       "       [0],\n",
       "       [1],\n",
       "       [0],\n",
       "       [0],\n",
       "       [1],\n",
       "       [0],\n",
       "       [1],\n",
       "       [0],\n",
       "       [1],\n",
       "       [0],\n",
       "       [0],\n",
       "       [0],\n",
       "       [0],\n",
       "       [1],\n",
       "       [0],\n",
       "       [1],\n",
       "       [0],\n",
       "       [0],\n",
       "       [0],\n",
       "       [0],\n",
       "       [0],\n",
       "       [1],\n",
       "       [0],\n",
       "       [1],\n",
       "       [1],\n",
       "       [1],\n",
       "       [1],\n",
       "       [0],\n",
       "       [1],\n",
       "       [0],\n",
       "       [1],\n",
       "       [0],\n",
       "       [0],\n",
       "       [0],\n",
       "       [1],\n",
       "       [1],\n",
       "       [0],\n",
       "       [1],\n",
       "       [0],\n",
       "       [1],\n",
       "       [1],\n",
       "       [0],\n",
       "       [1],\n",
       "       [1],\n",
       "       [0],\n",
       "       [0],\n",
       "       [0],\n",
       "       [1],\n",
       "       [0],\n",
       "       [0],\n",
       "       [1],\n",
       "       [0],\n",
       "       [0],\n",
       "       [1],\n",
       "       [0],\n",
       "       [1],\n",
       "       [0],\n",
       "       [1],\n",
       "       [0],\n",
       "       [1],\n",
       "       [1],\n",
       "       [0],\n",
       "       [1],\n",
       "       [0],\n",
       "       [1],\n",
       "       [0],\n",
       "       [1],\n",
       "       [1],\n",
       "       [1],\n",
       "       [1],\n",
       "       [0],\n",
       "       [1],\n",
       "       [0],\n",
       "       [1],\n",
       "       [1],\n",
       "       [0],\n",
       "       [0],\n",
       "       [0],\n",
       "       [0],\n",
       "       [1],\n",
       "       [1],\n",
       "       [0],\n",
       "       [1],\n",
       "       [0],\n",
       "       [0],\n",
       "       [1],\n",
       "       [1],\n",
       "       [1],\n",
       "       [1],\n",
       "       [0],\n",
       "       [0],\n",
       "       [0],\n",
       "       [1],\n",
       "       [1],\n",
       "       [0],\n",
       "       [1],\n",
       "       [0],\n",
       "       [0],\n",
       "       [1],\n",
       "       [1],\n",
       "       [1],\n",
       "       [1],\n",
       "       [1],\n",
       "       [1],\n",
       "       [1],\n",
       "       [1],\n",
       "       [1],\n",
       "       [0],\n",
       "       [0],\n",
       "       [1],\n",
       "       [0],\n",
       "       [0],\n",
       "       [0],\n",
       "       [0],\n",
       "       [0],\n",
       "       [1],\n",
       "       [0],\n",
       "       [1],\n",
       "       [1],\n",
       "       [0],\n",
       "       [0],\n",
       "       [0],\n",
       "       [0],\n",
       "       [1],\n",
       "       [0],\n",
       "       [1],\n",
       "       [0],\n",
       "       [1],\n",
       "       [0],\n",
       "       [0],\n",
       "       [0],\n",
       "       [0],\n",
       "       [0],\n",
       "       [0],\n",
       "       [0],\n",
       "       [0],\n",
       "       [0],\n",
       "       [1],\n",
       "       [1],\n",
       "       [0],\n",
       "       [1],\n",
       "       [0],\n",
       "       [0],\n",
       "       [0],\n",
       "       [1],\n",
       "       [0],\n",
       "       [0],\n",
       "       [1],\n",
       "       [1],\n",
       "       [0],\n",
       "       [0],\n",
       "       [0],\n",
       "       [0],\n",
       "       [0],\n",
       "       [0],\n",
       "       [0],\n",
       "       [0]])>"
      ]
     },
     "execution_count": 114,
     "metadata": {},
     "output_type": "execute_result"
    }
   ],
   "source": [
    "y_test_tensor"
   ]
  },
  {
   "cell_type": "code",
   "execution_count": 115,
   "metadata": {},
   "outputs": [
    {
     "data": {
      "image/png": "[encoded data removed]",
      "text/plain": [
       "<Figure size 1200x800 with 4 Axes>"
      ]
     },
     "metadata": {},
     "output_type": "display_data"
    }
   ],
   "source": [
    "num_models = len(models)\n",
    "\n",
    "plt.figure(figsize=(12, 4*num_models))\n",
    "\n",
    "for i, history in enumerate(histories):\n",
    "    plt.subplot(num_models, 2, 2*i+1)\n",
    "    plt.plot(history.history['accuracy'], 'b', label='Training accuracy')\n",
    "    plt.plot(history.history['val_accuracy'], 'r', label='Validation accuracy')\n",
    "    plt.title(f'Model {model_names[i]} Training and validation accuracy')\n",
    "    plt.xlabel('Epochs')\n",
    "    plt.ylabel('Accuracy')\n",
    "    plt.legend()\n",
    "\n",
    "    plt.subplot(num_models, 2, 2*i+2)\n",
    "    plt.plot(history.history['loss'], 'b', label='Training loss')\n",
    "    plt.plot(history.history['val_loss'], 'r', label='Validation loss')\n",
    "    plt.title(f'Model {model_names[i]} Training and validation loss')\n",
    "    plt.xlabel('Epochs')\n",
    "    plt.ylabel('Loss')\n",
    "    plt.legend()\n",
    "\n",
    "plt.tight_layout()\n",
    "plt.show()\n"
   ]
  },
  {
   "cell_type": "markdown",
   "metadata": {},
   "source": [
    "### `Assign old Models`"
   ]
  },
  {
   "cell_type": "code",
   "execution_count": 116,
   "metadata": {},
   "outputs": [],
   "source": [
    "# old_model = load_model('model.h5')\n",
    "# models.append(old_model)\n",
    "# model_names.append('Old Model')"
   ]
  },
  {
   "cell_type": "markdown",
   "metadata": {},
   "source": [
    "### `Predict`"
   ]
  },
  {
   "cell_type": "code",
   "execution_count": 117,
   "metadata": {},
   "outputs": [],
   "source": [
    "# SENTIMENT\n",
    "POSITIVE = \"Positif\"\n",
    "NEGATIVE = \"Negatif\""
   ]
  },
  {
   "cell_type": "code",
   "execution_count": 118,
   "metadata": {},
   "outputs": [],
   "source": [
    "def decode_sentiment(score):\n",
    "    return NEGATIVE if score <= 0.4 else POSITIVE\n",
    "\n",
    "def predict(text):\n",
    "    for i, model in enumerate(models):\n",
    "        x_test = pad_sequences(tokenizer.texts_to_sequences([text]), maxlen=SEQUENCE_LENGTH)\n",
    "        score = model.predict([x_test])[0][0]\n",
    "        label = decode_sentiment(score)\n",
    "    \n",
    "        print(f\"{model_names[i]}\\nSentiment: {label}\\nScore: {score}\")"
   ]
  },
  {
   "cell_type": "code",
   "execution_count": 131,
   "metadata": {},
   "outputs": [],
   "source": [
    "predicts_pos = ['Dukung Pragibs', 'Dukung Prabowo', 'SBY']\n",
    "predicts_neg = ['Prabowo tidak seperti Ganjar', 'Prabowo Blunder', 'HAM']"
   ]
  },
  {
   "cell_type": "code",
   "execution_count": 132,
   "metadata": {},
   "outputs": [
    {
     "name": "stdout",
     "output_type": "stream",
     "text": [
      "==> Text: Dukung Pragibs\n",
      "1/1 [==============================] - 0s 41ms/step\n",
      "LSTM\n",
      "Sentiment: Positif\n",
      "Score: 0.7324881553649902\n",
      "1/1 [==============================] - 0s 33ms/step\n",
      "GRU\n",
      "Sentiment: Positif\n",
      "Score: 0.6662770509719849\n",
      "\n",
      "==> Text: Dukung Prabowo\n",
      "1/1 [==============================] - 0s 48ms/step\n",
      "LSTM\n",
      "Sentiment: Positif\n",
      "Score: 0.6101225018501282\n",
      "1/1 [==============================] - 0s 35ms/step\n",
      "GRU\n",
      "Sentiment: Negatif\n",
      "Score: 0.3453702926635742\n",
      "\n",
      "==> Text: SBY\n",
      "1/1 [==============================] - 0s 38ms/step\n",
      "LSTM\n",
      "Sentiment: Positif\n",
      "Score: 0.4897293448448181\n",
      "1/1 [==============================] - 0s 35ms/step\n",
      "GRU\n",
      "Sentiment: Positif\n",
      "Score: 0.4213307201862335\n",
      "\n"
     ]
    }
   ],
   "source": [
    "for i in predicts_pos:\n",
    "    print(f\"==> Text: {i}\")\n",
    "    predict(i)\n",
    "    print(\"\")"
   ]
  },
  {
   "cell_type": "code",
   "execution_count": 133,
   "metadata": {},
   "outputs": [
    {
     "name": "stdout",
     "output_type": "stream",
     "text": [
      "==> Text: Prabowo tidak seperti Ganjar\n",
      "1/1 [==============================] - 0s 41ms/step\n",
      "LSTM\n",
      "Sentiment: Negatif\n",
      "Score: 0.20109432935714722\n",
      "1/1 [==============================] - 0s 34ms/step\n",
      "GRU\n",
      "Sentiment: Negatif\n",
      "Score: 0.10077167302370071\n",
      "\n",
      "==> Text: Prabowo Blunder\n",
      "1/1 [==============================] - 0s 39ms/step\n",
      "LSTM\n",
      "Sentiment: Negatif\n",
      "Score: 0.16486303508281708\n",
      "1/1 [==============================] - 0s 41ms/step\n",
      "GRU\n",
      "Sentiment: Negatif\n",
      "Score: 0.06816049665212631\n",
      "\n",
      "==> Text: HAM\n",
      "1/1 [==============================] - 0s 45ms/step\n",
      "LSTM\n",
      "Sentiment: Negatif\n",
      "Score: 0.3715466558933258\n",
      "1/1 [==============================] - 0s 52ms/step\n",
      "GRU\n",
      "Sentiment: Negatif\n",
      "Score: 0.2223086953163147\n",
      "\n"
     ]
    }
   ],
   "source": [
    "for i in predicts_neg:\n",
    "    print(f\"==> Text: {i}\")\n",
    "    predict(i)\n",
    "    print(\"\")"
   ]
  },
  {
   "cell_type": "markdown",
   "metadata": {},
   "source": [
    "### `Confusion Matrix`"
   ]
  },
  {
   "cell_type": "code",
   "execution_count": 122,
   "metadata": {},
   "outputs": [
    {
     "data": {
      "text/plain": [
       "<tf.Tensor: shape=(267, 100), dtype=int32, numpy=\n",
       "array([[   0,    0,    0, ...,   40,    8,    9],\n",
       "       [   0,    0,    0, ...,  464, 1450, 1516],\n",
       "       [   0,    0,    0, ...,  633,  393,   20],\n",
       "       ...,\n",
       "       [   0,    0,    0, ...,    3,    5, 1022],\n",
       "       [   0,    0,    0, ..., 1615, 1120,   58],\n",
       "       [   0,    0,    0, ...,   34,   37,  174]])>"
      ]
     },
     "execution_count": 122,
     "metadata": {},
     "output_type": "execute_result"
    }
   ],
   "source": [
    "x_test_tensor"
   ]
  },
  {
   "cell_type": "code",
   "execution_count": 123,
   "metadata": {},
   "outputs": [
    {
     "name": "stdout",
     "output_type": "stream",
     "text": [
      "7/9 [======================>.......] - ETA: 0s"
     ]
    },
    {
     "name": "stdout",
     "output_type": "stream",
     "text": [
      "9/9 [==============================] - 0s 42ms/step\n",
      "267\n",
      "9/9 [==============================] - 0s 29ms/step\n",
      "267\n"
     ]
    }
   ],
   "source": [
    "y_preds = []\n",
    "for i in models:\n",
    "    y_pred = i.predict(x_test_tensor)\n",
    "    binary_predictions = [\"positif\" if prob > 0.4 else \"negatif\" for prob in y_pred]\n",
    "    y_preds.append(binary_predictions)\n",
    "    print(len(y_pred))"
   ]
  },
  {
   "cell_type": "code",
   "execution_count": 124,
   "metadata": {},
   "outputs": [
    {
     "data": {
      "text/plain": [
       "['positif', 'positif', 'negatif']"
      ]
     },
     "execution_count": 124,
     "metadata": {},
     "output_type": "execute_result"
    }
   ],
   "source": [
    "y_test = list(df_test.label)\n",
    "y_test[:3]"
   ]
  },
  {
   "cell_type": "code",
   "execution_count": 125,
   "metadata": {},
   "outputs": [
    {
     "data": {
      "image/png": "[encoded data removed]",
      "text/plain": [
       "<Figure size 1200x800 with 4 Axes>"
      ]
     },
     "metadata": {},
     "output_type": "display_data"
    }
   ],
   "source": [
    "display_confusion_heatmap(y_test, y_preds, model_names)"
   ]
  },
  {
   "cell_type": "markdown",
   "metadata": {},
   "source": [
    "### `Test Accuracy`"
   ]
  },
  {
   "cell_type": "code",
   "execution_count": 126,
   "metadata": {},
   "outputs": [
    {
     "name": "stdout",
     "output_type": "stream",
     "text": [
      "Model: LSTM - Test accuracy: 0.8239700374531835\n",
      "Model: GRU - Test accuracy: 0.8277153558052435\n"
     ]
    }
   ],
   "source": [
    "for i, y_pred in enumerate(y_preds):\n",
    "    acc = check_test_accuracy(y_pred, y_test)\n",
    "    print(f\"Model: {model_names[i]} - Test accuracy: {acc}\")"
   ]
  },
  {
   "cell_type": "markdown",
   "metadata": {},
   "source": [
    "### `Save Model`"
   ]
  },
  {
   "cell_type": "code",
   "execution_count": 127,
   "metadata": {},
   "outputs": [],
   "source": [
    "# # EXPORT\n",
    "# KERAS_MODEL = \"model.h5\"\n",
    "# WORD2VEC_MODEL = \"model.w2v\"\n",
    "# TOKENIZER_MODEL = \"tokenizer.pkl\"\n",
    "# ENCODER_MODEL = \"encoder.pkl\""
   ]
  },
  {
   "cell_type": "code",
   "execution_count": 128,
   "metadata": {},
   "outputs": [],
   "source": [
    "# import pickle"
   ]
  },
  {
   "cell_type": "code",
   "execution_count": 129,
   "metadata": {},
   "outputs": [],
   "source": [
    "# model.save(KERAS_MODEL)\n",
    "# w2v_model.save(WORD2VEC_MODEL)\n",
    "# pickle.dump(tokenizer, open(TOKENIZER_MODEL, \"wb\"), protocol=0)"
   ]
  }
 ],
 "metadata": {
  "kernelspec": {
   "display_name": "stki",
   "language": "python",
   "name": "python3"
  },
  "language_info": {
   "codemirror_mode": {
    "name": "ipython",
    "version": 3
   },
   "file_extension": ".py",
   "mimetype": "text/x-python",
   "name": "python",
   "nbconvert_exporter": "python",
   "pygments_lexer": "ipython3",
   "version": "3.7.16"
  }
 },
 "nbformat": 4,
 "nbformat_minor": 2
}
