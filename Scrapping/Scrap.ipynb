{
 "cells": [
  {
   "cell_type": "code",
   "execution_count": null,
   "metadata": {},
   "outputs": [],
   "source": [
    "!pip install pandas\n",
    "!curl -sL https://deb.nodesource.com/setup_18.x | sudo -E bash -\n",
    "!sudo apt-get install -y nodejs"
   ]
  },
  {
   "cell_type": "code",
   "execution_count": null,
   "metadata": {},
   "outputs": [],
   "source": [
    "# Crawl Data\n",
    "filename = '9.csv'  # hasil dari scraping\n",
    "\n",
    "key = 'prabowo subianto'\n",
    "faves = 0\n",
    "geocode = '-7.876035124021745,112.66118033350129,70km'\n",
    "since = '2023-6-1'\n",
    "until = '2023-12-13'\n",
    "\n",
    "search_keyword = f'{key} min_faves:{faves} geocode:{geocode} since:{since} until:{until}'\n",
    "\n",
    "limit = 80\n",
    "\n",
    "!npx --yes tweet-harvest@latest -o \"{filename}\" -s \"{search_keyword}\" -l {limit} --token \"\"\n"
   ]
  }
 ],
 "metadata": {
  "language_info": {
   "name": "python"
  }
 },
 "nbformat": 4,
 "nbformat_minor": 2
}
