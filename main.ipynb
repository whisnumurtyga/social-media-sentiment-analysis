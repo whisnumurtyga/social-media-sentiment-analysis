{
 "cells": [
  {
   "cell_type": "markdown",
   "metadata": {},
   "source": [
    "## `Import Library what we need`"
   ]
  },
  {
   "cell_type": "code",
   "execution_count": 553,
   "metadata": {},
   "outputs": [
    {
     "name": "stderr",
     "output_type": "stream",
     "text": [
      "[nltk_data] Downloading package punkt to\n",
      "[nltk_data]     C:\\Users\\whisn\\AppData\\Roaming\\nltk_data...\n",
      "[nltk_data]   Package punkt is already up-to-date!\n",
      "[nltk_data] Downloading package averaged_perceptron_tagger to\n",
      "[nltk_data]     C:\\Users\\whisn\\AppData\\Roaming\\nltk_data...\n",
      "[nltk_data]   Package averaged_perceptron_tagger is already up-to-\n",
      "[nltk_data]       date!\n",
      "[nltk_data] Downloading package stopwords to\n",
      "[nltk_data]     C:\\Users\\whisn\\AppData\\Roaming\\nltk_data...\n",
      "[nltk_data]   Package stopwords is already up-to-date!\n"
     ]
    }
   ],
   "source": [
    "# BASED\n",
    "import pandas as pd\n",
    "import matplotlib.pyplot as plt\n",
    "import seaborn as sns \n",
    "import numpy as np\n",
    "import time\n",
    "from sklearn.model_selection import train_test_split\n",
    "from sklearn.metrics import confusion_matrix, classification_report, accuracy_score\n",
    "import itertools\n",
    "import pickle\n",
    "\n",
    "# KERAS\n",
    "import tensorflow\n",
    "from tensorflow.keras.preprocessing.text import Tokenizer\n",
    "from tensorflow.keras.preprocessing.sequence import pad_sequences\n",
    "from tensorflow.keras.models import Sequential\n",
    "from tensorflow.keras.layers import Activation, Dense, Dropout, Embedding, Flatten, Conv1D, MaxPooling1D, LSTM, GRU\n",
    "from tensorflow.keras import utils\n",
    "from tensorflow.keras.callbacks import ReduceLROnPlateau, EarlyStopping\n",
    "from tensorflow.keras.models import load_model\n",
    "from keras.models import load_model\n",
    "from keras.backend import clear_session\n",
    "\n",
    "\n",
    "# NLTK\n",
    "import nltk\n",
    "from nltk.corpus import stopwords\n",
    "from nltk.tokenize import word_tokenize, sent_tokenize\n",
    "\n",
    "nltk.download('punkt')\n",
    "nltk.download('averaged_perceptron_tagger')\n",
    "nltk.download('stopwords')\n",
    "\n",
    "# SASTRAWI\n",
    "from Sastrawi.Stemmer.StemmerFactory import StemmerFactory\n",
    "from Sastrawi.StopWordRemover.StopWordRemoverFactory import  StopWordRemoverFactory\n",
    "\n",
    "# WORD2VEC\n",
    "import gensim\n",
    "\n",
    "# WORD2VEC\n",
    "W2V_SIZE = 300\n",
    "W2V_WINDOW = 7\n",
    "W2V_EPOCH = 32\n",
    "W2V_MIN_COUNT = 10\n",
    "\n",
    "# KERAS\n",
    "SEQUENCE_LENGTH = 100\n",
    "EPOCHS = 50\n",
    "BATCH_SIZE = 1024"
   ]
  },
  {
   "cell_type": "code",
   "execution_count": 433,
   "metadata": {},
   "outputs": [],
   "source": [
    "# Stopwords\n",
    "nltk_stopwords = stopwords.words('indonesian')\n",
    "sastrawi_factory = StopWordRemoverFactory()\n",
    "\n",
    "# Stemming\n",
    "stem_factory = StemmerFactory()\n",
    "stemmer = stem_factory.create_stemmer()\n",
    "\n",
    "# Tokenizer\n",
    "tokenizer = Tokenizer()"
   ]
  },
  {
   "cell_type": "markdown",
   "metadata": {},
   "source": [
    "## `Function`"
   ]
  },
  {
   "cell_type": "code",
   "execution_count": 602,
   "metadata": {},
   "outputs": [],
   "source": [
    "# Tokenize\n",
    "def tokenize(text):\n",
    "    return text.split()\n",
    "\n",
    "\n",
    "# Stopwords \n",
    "def stopwords_text(tokens): \n",
    "    cleaned_tokens = []\n",
    "    for token in tokens : \n",
    "        if token not in sastrawi_stopwords: \n",
    "            cleaned_tokens.append(token)\n",
    "    return cleaned_tokens\n",
    "\n",
    "\n",
    "# Stemming\n",
    "def stem_words(tokens):\n",
    "  hasil = [stemmer.stem(token) for token in tokens]\n",
    "  return hasil\n",
    "\n",
    "\n",
    "# Untokenize\n",
    "def untokenize(texts):\n",
    "    text = \"\"\n",
    "    for i in texts:\n",
    "        text += f\"{i}\"\n",
    "        text += \" \"\n",
    "    return text.rstrip()\n",
    "\n",
    "\n",
    "# Encoding\n",
    "def manual_label_encoder(labels):\n",
    "    unique_labels = list(set(labels))  # Mendapatkan label unik\n",
    "    label_index = {label: index for index, label in enumerate(unique_labels)}  # Membuat kamus untuk mapping label ke bilangan bulat\n",
    "    encoded_labels = [label_index[label] for label in labels]  # Encoding label menjadi bilangan bulat\n",
    "    return encoded_labels, label_index\n",
    "\n",
    "def reshape_labels(encoded_labels):\n",
    "    reshaped_labels = [[label] for label in encoded_labels]  # Reshape array hasil encoding ke bentuk (jumlah_data, 1)\n",
    "    return reshaped_labels\n",
    "\n",
    "\n",
    "# Normalize Label Text\n",
    "def normalize_label(df):\n",
    "    df['Label'] = df['Label'].str.strip().str.lower()\n",
    "    df['Label'] = df['Label'].replace('netral', 'negatif')\n",
    "    return df\n",
    "\n",
    "\n",
    "# Create 1D Array from 2D Array\n",
    "def merge_2d_array_to_1d(df_column):\n",
    "    merged = [word for sublist in df_column for word in sublist]\n",
    "    return merged\n",
    "\n",
    "\n",
    "# Create Word Freq\n",
    "def word_freq_func(data, label):\n",
    "    # Menghitung frekuensi kemunculan setiap kata dan kolom 'Label'\n",
    "    word_freq = {}\n",
    "    for word, label in zip(data, label):\n",
    "        if word in word_freq:\n",
    "            if label == 'positif':\n",
    "                word_freq[word][0] += 1\n",
    "            else:\n",
    "                word_freq[word][1] += 1\n",
    "        else:\n",
    "            if label == 'positif':\n",
    "                word_freq[word] = [1, 0]\n",
    "            else:\n",
    "                word_freq[word] = [0, 1]\n",
    "    return word_freq\n",
    "\n",
    "\n",
    "# Tokenize Column\n",
    "def tokenize_column(dataframe, column_name):\n",
    "    tokenized_documents = [text.split() for text in dataframe[column_name]]\n",
    "    return tokenized_documents\n",
    "\n",
    "\n",
    "# Calculate Similarity\n",
    "def calculate_similarity(keyword, w2v_model):\n",
    "    similarities = []\n",
    "    # Melakukan iterasi pada setiap kata dalam model\n",
    "    for word in w2v_model.wv.index_to_key:\n",
    "        # Menangkap pengecualian jika kata tidak ada dalam model\n",
    "        try:\n",
    "            # Menghitung kemiripan antara kata dalam kosakata dengan kata kunci\n",
    "            similarity = w2v_model.wv.similarity(keyword, word)      \n",
    "            # Menambahkan ke list similarities\n",
    "            similarities.append((word, similarity))\n",
    "        except KeyError:\n",
    "            # Tangani jika kata tidak ditemukan dalam model\n",
    "            print(f\"Word '{word}' not in vocabulary.\")\n",
    "    # Buat DataFrame dari list similarities\n",
    "    df = pd.DataFrame(similarities, columns=['Keyword', 'Similarity'])\n",
    "    # Sorting DataFrame secara descending berdasarkan similarity\n",
    "    df = df.sort_values(by='Similarity', ascending=False)\n",
    "    return df\n",
    "\n",
    "\n",
    "# Get n Items from Dictionary\n",
    "def get_top_n_items(dictionary, n, seq):\n",
    "    # Mengambil n item teratas dari dictionary berdasarkan frekuensi kemunculan\n",
    "    top_n = dict(sorted(dictionary.items(), key=lambda item: item[1], reverse=seq)[:n])\n",
    "    return top_n\n",
    "\n",
    "# Create Embedding Matrix\n",
    "def create_embedding_matrix(vocab_size, tokenizer, w2v_model):\n",
    "    embedding_matrix = np.zeros((vocab_size, W2V_SIZE))\n",
    "\n",
    "    for word, i in tokenizer.word_index.items():\n",
    "        if word in w2v_model.wv:\n",
    "            embedding_matrix[i] = w2v_model.wv[word]\n",
    "\n",
    "    return embedding_matrix\n",
    "\n",
    "\n",
    "def manual_evaluate(model, x_test, y_test):\n",
    "    y_pred = model.predict(x_test)\n",
    "    y_pred_binary = (y_pred > 0.5).astype('int32')  # Konversi probabilitas menjadi nilai biner\n",
    "\n",
    "    accuracy = tensorflow.reduce_mean(tensorflow.cast(y_pred_binary == y_test, tensorflow.float32))  # Menghitung akurasi dari perbandingan boolean\n",
    "    return accuracy\n",
    "\n",
    "\n",
    "def display_confusion_heatmap(y_test, y_preds, model_names):\n",
    "    num_models = len(y_preds)\n",
    "    num_rows = num_models // 2 + num_models % 2  # Hitung jumlah baris berdasarkan jumlah model\n",
    "    plt.figure(figsize=(12, 8))  # Atur ukuran gambar secara keseluruhan\n",
    "    for i, y_pred in enumerate(y_preds):\n",
    "        # Hitung TP, TN, FP, FN\n",
    "        TP, TN, FP, FN = manual_heatmap(y_test, y_pred)\n",
    "\n",
    "        # Bentuk matrix confusion\n",
    "        confusion_matrix = [[TN, FP], [FN, TP]]\n",
    "\n",
    "        # Label untuk heatmap\n",
    "        labels = [['TN', 'FP'], ['FN', 'TP']]\n",
    "\n",
    "        # Plot heatmap dalam subplot\n",
    "        plt.subplot(num_rows, 2, i + 1)\n",
    "        sns.heatmap(confusion_matrix, annot=False, fmt='d', cmap='Blues', xticklabels=['Negative', 'Positive'], yticklabels=['Negative', 'Positive'])\n",
    "\n",
    "        # Menambahkan label ke heatmap\n",
    "        for j in range(2):\n",
    "            for k in range(2):\n",
    "                plt.text(k + 0.5, j + 0.5, str(labels[j][k]) + \" = \" + str(confusion_matrix[j][k]), ha='center', va='center', color='black')\n",
    "\n",
    "        plt.title(f'Confusion Matrix - {model_names[i]}')\n",
    "        plt.xlabel('Predicted')\n",
    "        plt.ylabel('Actual')\n",
    "    \n",
    "    plt.tight_layout()  # Menata layout subplot agar rapi\n",
    "    plt.show()\n",
    "\n",
    "def manual_heatmap(y_test, y_pred):\n",
    "    # Menginisialisasi variabel untuk TP, TN, FP, FN\n",
    "    TP, TN, FP, FN = 0, 0, 0, 0\n",
    "    \n",
    "    # Menghitung TP, TN, FP, FN\n",
    "    for actual, pred in zip(y_test, y_pred):\n",
    "        if actual == \"positif\" and pred == \"positif\":\n",
    "            TP += 1\n",
    "        elif actual == \"negatif\" and pred == \"negatif\":\n",
    "            TN += 1\n",
    "        elif actual == \"negatif\" and pred == \"positif\":\n",
    "            FP += 1\n",
    "        elif actual == \"positif\" and pred == \"negatif\":\n",
    "            FN += 1\n",
    "    \n",
    "    return TP, TN, FP, FN\n",
    "\n",
    "\n",
    "def check_test_accuracy(y_pred, y_test):\n",
    "    # Menghitung jumlah prediksi yang benar (True)\n",
    "    correct_predictions = sum(1 for pred, actual in zip(y_pred, y_test) if pred == actual)\n",
    "\n",
    "    # Menghitung akurasi\n",
    "    total_predictions = len(y_pred)\n",
    "    accuracy = correct_predictions / total_predictions\n",
    "    return accuracy\n",
    "\n",
    "\n",
    "def create_lstm_model(embedding_layer):\n",
    "    model = Sequential()\n",
    "    model.add(embedding_layer)\n",
    "    model.add(Dropout(0.5))\n",
    "    model.add(LSTM(100, dropout=0.2, recurrent_dropout=0.2))\n",
    "    model.add(Dense(1, activation='sigmoid'))\n",
    "\n",
    "    return model"
   ]
  },
  {
   "cell_type": "code",
   "execution_count": 435,
   "metadata": {},
   "outputs": [],
   "source": [
    "class CustomLSTM(tensorflow.keras.layers.Layer):\n",
    "    def __init__(self, units, dropout, recurrent_dropout):\n",
    "        super(CustomLSTM, self).__init__()\n",
    "        self.units = units\n",
    "        self.dropout = dropout\n",
    "        self.recurrent_dropout = recurrent_dropout\n",
    "\n",
    "    def build(self, input_shape):\n",
    "        self.input_dim = input_shape[-1]\n",
    "        self.kernel = self.add_weight(\n",
    "            shape=(self.input_dim + self.units, 4 * self.units),\n",
    "            initializer='glorot_uniform',\n",
    "            name='kernel'\n",
    "        )\n",
    "        self.recurrent_kernel = self.add_weight(\n",
    "            shape=(self.units, 4 * self.units),\n",
    "            initializer='orthogonal',\n",
    "            name='recurrent_kernel'\n",
    "        )\n",
    "        self.bias = self.add_weight(\n",
    "            shape=(4 * self.units,),\n",
    "            initializer='zeros',\n",
    "            name='bias'\n",
    "        )\n",
    "        self.built = True\n",
    "\n",
    "    def call(self, inputs, states=None, training=None):\n",
    "        h_tm1 = states[0] if states else tensorflow.zeros((tensorflow.shape(inputs)[0], self.units))\n",
    "        c_tm1 = states[1] if states else tensorflow.zeros((tensorflow.shape(inputs)[0], self.units))\n",
    "\n",
    "        if training is None:\n",
    "            training = tensorflow.keras.backend.learning_phase()\n",
    "\n",
    "        if 0 < self.dropout < 1 and self.dropout is not None:\n",
    "            inputs = tensorflow.keras.layers.Dropout(self.dropout)(inputs, training=training)\n",
    "\n",
    "        concat_inputs = tensorflow.concat([inputs, h_tm1], axis=-1)\n",
    "        gate_inputs = tensorflow.matmul(concat_inputs, self.kernel) + self.bias\n",
    "\n",
    "        i, f, g, o = tensorflow.split(gate_inputs, 4, axis=-1)\n",
    "        i = tensorflow.sigmoid(i)\n",
    "        f = tensorflow.sigmoid(f)\n",
    "        g = tensorflow.tanh(g)\n",
    "        o = tensorflow.sigmoid(o)\n",
    "\n",
    "        c = f * c_tm1 + i * g\n",
    "\n",
    "        if 0 < self.recurrent_dropout < 1 and self.recurrent_dropout is not None:\n",
    "            c = tensorflow.keras.layers.Dropout(self.recurrent_dropout)(c, training=training)\n",
    "\n",
    "        h = o * tensorflow.tanh(c)\n",
    "\n",
    "        return h, [h, c]\n",
    "\n",
    "    def get_config(self):\n",
    "        config = super().get_config()\n",
    "        config.update({\n",
    "            'units': self.units,\n",
    "            'dropout': self.dropout,\n",
    "            'recurrent_dropout': self.recurrent_dropout\n",
    "        })\n",
    "        return config\n",
    "\n",
    "    @classmethod\n",
    "    def from_config(cls, config):\n",
    "        return cls(**config)\n"
   ]
  },
  {
   "cell_type": "markdown",
   "metadata": {},
   "source": [
    "### `Read Data`"
   ]
  },
  {
   "cell_type": "code",
   "execution_count": 436,
   "metadata": {},
   "outputs": [
    {
     "data": {
      "text/html": [
       "<div>\n",
       "<style scoped>\n",
       "    .dataframe tbody tr th:only-of-type {\n",
       "        vertical-align: middle;\n",
       "    }\n",
       "\n",
       "    .dataframe tbody tr th {\n",
       "        vertical-align: top;\n",
       "    }\n",
       "\n",
       "    .dataframe thead th {\n",
       "        text-align: right;\n",
       "    }\n",
       "</style>\n",
       "<table border=\"1\" class=\"dataframe\">\n",
       "  <thead>\n",
       "    <tr style=\"text-align: right;\">\n",
       "      <th></th>\n",
       "      <th>full_text</th>\n",
       "      <th>text_clean</th>\n",
       "      <th>Label</th>\n",
       "    </tr>\n",
       "  </thead>\n",
       "  <tbody>\n",
       "    <tr>\n",
       "      <th>0</th>\n",
       "      <td>@PartaiSocmed Sumber = tiktok TKN Prabowo Gibr...</td>\n",
       "      <td>sumber tiktok tkn prabowo gibran</td>\n",
       "      <td>netral</td>\n",
       "    </tr>\n",
       "    <tr>\n",
       "      <th>1</th>\n",
       "      <td>Solidaritas positif Mantan Kepala Desa: Prabow...</td>\n",
       "      <td>solidaritas positif mantan kepala desa prabowo...</td>\n",
       "      <td>positif</td>\n",
       "    </tr>\n",
       "    <tr>\n",
       "      <th>2</th>\n",
       "      <td>Keputusan mantan Kepala Desa: Prabowo-Gibran a...</td>\n",
       "      <td>keputusan mantan kepala desa prabowogibran ada...</td>\n",
       "      <td>positif</td>\n",
       "    </tr>\n",
       "    <tr>\n",
       "      <th>3</th>\n",
       "      <td>Ahmad dhani kampanye PRABOWO GIBRAN 🫰🫰🫰🫰🫰🫰🫰 ht...</td>\n",
       "      <td>ahmad dhani kampanye prabowo gibran</td>\n",
       "      <td>positif</td>\n",
       "    </tr>\n",
       "    <tr>\n",
       "      <th>4</th>\n",
       "      <td>Pilihan optimis Mantan Kepala Desa: Prabowo-Gi...</td>\n",
       "      <td>pilihan optimis mantan kepala desa prabowogibr...</td>\n",
       "      <td>positif</td>\n",
       "    </tr>\n",
       "  </tbody>\n",
       "</table>\n",
       "</div>"
      ],
      "text/plain": [
       "                                           full_text  \\\n",
       "0  @PartaiSocmed Sumber = tiktok TKN Prabowo Gibr...   \n",
       "1  Solidaritas positif Mantan Kepala Desa: Prabow...   \n",
       "2  Keputusan mantan Kepala Desa: Prabowo-Gibran a...   \n",
       "3  Ahmad dhani kampanye PRABOWO GIBRAN 🫰🫰🫰🫰🫰🫰🫰 ht...   \n",
       "4  Pilihan optimis Mantan Kepala Desa: Prabowo-Gi...   \n",
       "\n",
       "                                          text_clean    Label  \n",
       "0                   sumber tiktok tkn prabowo gibran   netral  \n",
       "1  solidaritas positif mantan kepala desa prabowo...  positif  \n",
       "2  keputusan mantan kepala desa prabowogibran ada...  positif  \n",
       "3                ahmad dhani kampanye prabowo gibran  positif  \n",
       "4  pilihan optimis mantan kepala desa prabowogibr...  positif  "
      ]
     },
     "execution_count": 436,
     "metadata": {},
     "output_type": "execute_result"
    }
   ],
   "source": [
    "df = pd.read_csv('./dataset/data-label.csv')\n",
    "copy_df = df.copy()\n",
    "df.head()"
   ]
  },
  {
   "cell_type": "code",
   "execution_count": 437,
   "metadata": {},
   "outputs": [
    {
     "name": "stdout",
     "output_type": "stream",
     "text": [
      "<class 'pandas.core.frame.DataFrame'>\n",
      "Int64Index: 876 entries, 0 to 891\n",
      "Data columns (total 3 columns):\n",
      " #   Column      Non-Null Count  Dtype \n",
      "---  ------      --------------  ----- \n",
      " 0   full_text   876 non-null    object\n",
      " 1   text_clean  876 non-null    object\n",
      " 2   Label       876 non-null    object\n",
      "dtypes: object(3)\n",
      "memory usage: 27.4+ KB\n"
     ]
    }
   ],
   "source": [
    "df = df.drop_duplicates()\n",
    "df.info()"
   ]
  },
  {
   "cell_type": "markdown",
   "metadata": {},
   "source": [
    "### `Tokenize`"
   ]
  },
  {
   "cell_type": "code",
   "execution_count": 438,
   "metadata": {},
   "outputs": [
    {
     "data": {
      "text/html": [
       "<div>\n",
       "<style scoped>\n",
       "    .dataframe tbody tr th:only-of-type {\n",
       "        vertical-align: middle;\n",
       "    }\n",
       "\n",
       "    .dataframe tbody tr th {\n",
       "        vertical-align: top;\n",
       "    }\n",
       "\n",
       "    .dataframe thead th {\n",
       "        text-align: right;\n",
       "    }\n",
       "</style>\n",
       "<table border=\"1\" class=\"dataframe\">\n",
       "  <thead>\n",
       "    <tr style=\"text-align: right;\">\n",
       "      <th></th>\n",
       "      <th>full_text</th>\n",
       "      <th>text_clean</th>\n",
       "      <th>Label</th>\n",
       "      <th>token</th>\n",
       "    </tr>\n",
       "  </thead>\n",
       "  <tbody>\n",
       "    <tr>\n",
       "      <th>0</th>\n",
       "      <td>@PartaiSocmed Sumber = tiktok TKN Prabowo Gibr...</td>\n",
       "      <td>sumber tiktok tkn prabowo gibran</td>\n",
       "      <td>netral</td>\n",
       "      <td>[sumber, tiktok, tkn, prabowo, gibran]</td>\n",
       "    </tr>\n",
       "    <tr>\n",
       "      <th>1</th>\n",
       "      <td>Solidaritas positif Mantan Kepala Desa: Prabow...</td>\n",
       "      <td>solidaritas positif mantan kepala desa prabowo...</td>\n",
       "      <td>positif</td>\n",
       "      <td>[solidaritas, positif, mantan, kepala, desa, p...</td>\n",
       "    </tr>\n",
       "  </tbody>\n",
       "</table>\n",
       "</div>"
      ],
      "text/plain": [
       "                                           full_text  \\\n",
       "0  @PartaiSocmed Sumber = tiktok TKN Prabowo Gibr...   \n",
       "1  Solidaritas positif Mantan Kepala Desa: Prabow...   \n",
       "\n",
       "                                          text_clean    Label  \\\n",
       "0                   sumber tiktok tkn prabowo gibran   netral   \n",
       "1  solidaritas positif mantan kepala desa prabowo...  positif   \n",
       "\n",
       "                                               token  \n",
       "0             [sumber, tiktok, tkn, prabowo, gibran]  \n",
       "1  [solidaritas, positif, mantan, kepala, desa, p...  "
      ]
     },
     "execution_count": 438,
     "metadata": {},
     "output_type": "execute_result"
    }
   ],
   "source": [
    "df['token'] = df['text_clean'].apply(tokenize)\n",
    "df.head(2)"
   ]
  },
  {
   "cell_type": "markdown",
   "metadata": {},
   "source": [
    "### `Stopwords`"
   ]
  },
  {
   "cell_type": "code",
   "execution_count": 503,
   "metadata": {},
   "outputs": [
    {
     "name": "stdout",
     "output_type": "stream",
     "text": [
      "['ada', 'adalah', 'adanya', 'adapun', 'agak']\n",
      "758\n"
     ]
    }
   ],
   "source": [
    "print(nltk_stopwords[:5])\n",
    "print(len(nltk_stopwords))"
   ]
  },
  {
   "cell_type": "code",
   "execution_count": 504,
   "metadata": {},
   "outputs": [
    {
     "name": "stdout",
     "output_type": "stream",
     "text": [
      "['yang', 'untuk', 'pada', 'ke', 'para']\n",
      "126\n"
     ]
    }
   ],
   "source": [
    "sastrawi_stopwords = sastrawi_factory.get_stop_words()\n",
    "print(sastrawi_stopwords[:5])\n",
    "print(len(sastrawi_stopwords))"
   ]
  },
  {
   "cell_type": "code",
   "execution_count": 441,
   "metadata": {},
   "outputs": [
    {
     "data": {
      "text/html": [
       "<div>\n",
       "<style scoped>\n",
       "    .dataframe tbody tr th:only-of-type {\n",
       "        vertical-align: middle;\n",
       "    }\n",
       "\n",
       "    .dataframe tbody tr th {\n",
       "        vertical-align: top;\n",
       "    }\n",
       "\n",
       "    .dataframe thead th {\n",
       "        text-align: right;\n",
       "    }\n",
       "</style>\n",
       "<table border=\"1\" class=\"dataframe\">\n",
       "  <thead>\n",
       "    <tr style=\"text-align: right;\">\n",
       "      <th></th>\n",
       "      <th>full_text</th>\n",
       "      <th>text_clean</th>\n",
       "      <th>Label</th>\n",
       "      <th>token</th>\n",
       "      <th>stop</th>\n",
       "    </tr>\n",
       "  </thead>\n",
       "  <tbody>\n",
       "    <tr>\n",
       "      <th>0</th>\n",
       "      <td>@PartaiSocmed Sumber = tiktok TKN Prabowo Gibr...</td>\n",
       "      <td>sumber tiktok tkn prabowo gibran</td>\n",
       "      <td>netral</td>\n",
       "      <td>[sumber, tiktok, tkn, prabowo, gibran]</td>\n",
       "      <td>[sumber, tiktok, tkn, prabowo, gibran]</td>\n",
       "    </tr>\n",
       "    <tr>\n",
       "      <th>1</th>\n",
       "      <td>Solidaritas positif Mantan Kepala Desa: Prabow...</td>\n",
       "      <td>solidaritas positif mantan kepala desa prabowo...</td>\n",
       "      <td>positif</td>\n",
       "      <td>[solidaritas, positif, mantan, kepala, desa, p...</td>\n",
       "      <td>[solidaritas, positif, mantan, kepala, desa, p...</td>\n",
       "    </tr>\n",
       "  </tbody>\n",
       "</table>\n",
       "</div>"
      ],
      "text/plain": [
       "                                           full_text  \\\n",
       "0  @PartaiSocmed Sumber = tiktok TKN Prabowo Gibr...   \n",
       "1  Solidaritas positif Mantan Kepala Desa: Prabow...   \n",
       "\n",
       "                                          text_clean    Label  \\\n",
       "0                   sumber tiktok tkn prabowo gibran   netral   \n",
       "1  solidaritas positif mantan kepala desa prabowo...  positif   \n",
       "\n",
       "                                               token  \\\n",
       "0             [sumber, tiktok, tkn, prabowo, gibran]   \n",
       "1  [solidaritas, positif, mantan, kepala, desa, p...   \n",
       "\n",
       "                                                stop  \n",
       "0             [sumber, tiktok, tkn, prabowo, gibran]  \n",
       "1  [solidaritas, positif, mantan, kepala, desa, p...  "
      ]
     },
     "execution_count": 441,
     "metadata": {},
     "output_type": "execute_result"
    }
   ],
   "source": [
    "df['stop'] = df['token'].apply(stopwords_text)\n",
    "df.head(2)"
   ]
  },
  {
   "cell_type": "markdown",
   "metadata": {},
   "source": [
    "### `Stemming`"
   ]
  },
  {
   "cell_type": "code",
   "execution_count": 442,
   "metadata": {},
   "outputs": [
    {
     "data": {
      "text/html": [
       "<div>\n",
       "<style scoped>\n",
       "    .dataframe tbody tr th:only-of-type {\n",
       "        vertical-align: middle;\n",
       "    }\n",
       "\n",
       "    .dataframe tbody tr th {\n",
       "        vertical-align: top;\n",
       "    }\n",
       "\n",
       "    .dataframe thead th {\n",
       "        text-align: right;\n",
       "    }\n",
       "</style>\n",
       "<table border=\"1\" class=\"dataframe\">\n",
       "  <thead>\n",
       "    <tr style=\"text-align: right;\">\n",
       "      <th></th>\n",
       "      <th>full_text</th>\n",
       "      <th>text_clean</th>\n",
       "      <th>Label</th>\n",
       "      <th>token</th>\n",
       "      <th>stop</th>\n",
       "      <th>stemmed</th>\n",
       "    </tr>\n",
       "  </thead>\n",
       "  <tbody>\n",
       "    <tr>\n",
       "      <th>0</th>\n",
       "      <td>@PartaiSocmed Sumber = tiktok TKN Prabowo Gibr...</td>\n",
       "      <td>sumber tiktok tkn prabowo gibran</td>\n",
       "      <td>netral</td>\n",
       "      <td>[sumber, tiktok, tkn, prabowo, gibran]</td>\n",
       "      <td>[sumber, tiktok, tkn, prabowo, gibran]</td>\n",
       "      <td>[sumber, tiktok, tkn, prabowo, gibran]</td>\n",
       "    </tr>\n",
       "    <tr>\n",
       "      <th>1</th>\n",
       "      <td>Solidaritas positif Mantan Kepala Desa: Prabow...</td>\n",
       "      <td>solidaritas positif mantan kepala desa prabowo...</td>\n",
       "      <td>positif</td>\n",
       "      <td>[solidaritas, positif, mantan, kepala, desa, p...</td>\n",
       "      <td>[solidaritas, positif, mantan, kepala, desa, p...</td>\n",
       "      <td>[solidaritas, positif, mantan, kepala, desa, p...</td>\n",
       "    </tr>\n",
       "  </tbody>\n",
       "</table>\n",
       "</div>"
      ],
      "text/plain": [
       "                                           full_text  \\\n",
       "0  @PartaiSocmed Sumber = tiktok TKN Prabowo Gibr...   \n",
       "1  Solidaritas positif Mantan Kepala Desa: Prabow...   \n",
       "\n",
       "                                          text_clean    Label  \\\n",
       "0                   sumber tiktok tkn prabowo gibran   netral   \n",
       "1  solidaritas positif mantan kepala desa prabowo...  positif   \n",
       "\n",
       "                                               token  \\\n",
       "0             [sumber, tiktok, tkn, prabowo, gibran]   \n",
       "1  [solidaritas, positif, mantan, kepala, desa, p...   \n",
       "\n",
       "                                                stop  \\\n",
       "0             [sumber, tiktok, tkn, prabowo, gibran]   \n",
       "1  [solidaritas, positif, mantan, kepala, desa, p...   \n",
       "\n",
       "                                             stemmed  \n",
       "0             [sumber, tiktok, tkn, prabowo, gibran]  \n",
       "1  [solidaritas, positif, mantan, kepala, desa, p...  "
      ]
     },
     "execution_count": 442,
     "metadata": {},
     "output_type": "execute_result"
    }
   ],
   "source": [
    "df['stemmed'] = df['stop'].apply(stem_words)\n",
    "df.head(2)"
   ]
  },
  {
   "cell_type": "code",
   "execution_count": 443,
   "metadata": {},
   "outputs": [
    {
     "data": {
      "text/html": [
       "<div>\n",
       "<style scoped>\n",
       "    .dataframe tbody tr th:only-of-type {\n",
       "        vertical-align: middle;\n",
       "    }\n",
       "\n",
       "    .dataframe tbody tr th {\n",
       "        vertical-align: top;\n",
       "    }\n",
       "\n",
       "    .dataframe thead th {\n",
       "        text-align: right;\n",
       "    }\n",
       "</style>\n",
       "<table border=\"1\" class=\"dataframe\">\n",
       "  <thead>\n",
       "    <tr style=\"text-align: right;\">\n",
       "      <th></th>\n",
       "      <th>full_text</th>\n",
       "      <th>text_clean</th>\n",
       "      <th>token</th>\n",
       "      <th>stop</th>\n",
       "      <th>stemmed</th>\n",
       "      <th>Label</th>\n",
       "    </tr>\n",
       "  </thead>\n",
       "  <tbody>\n",
       "    <tr>\n",
       "      <th>0</th>\n",
       "      <td>@PartaiSocmed Sumber = tiktok TKN Prabowo Gibr...</td>\n",
       "      <td>sumber tiktok tkn prabowo gibran</td>\n",
       "      <td>[sumber, tiktok, tkn, prabowo, gibran]</td>\n",
       "      <td>[sumber, tiktok, tkn, prabowo, gibran]</td>\n",
       "      <td>[sumber, tiktok, tkn, prabowo, gibran]</td>\n",
       "      <td>netral</td>\n",
       "    </tr>\n",
       "    <tr>\n",
       "      <th>1</th>\n",
       "      <td>Solidaritas positif Mantan Kepala Desa: Prabow...</td>\n",
       "      <td>solidaritas positif mantan kepala desa prabowo...</td>\n",
       "      <td>[solidaritas, positif, mantan, kepala, desa, p...</td>\n",
       "      <td>[solidaritas, positif, mantan, kepala, desa, p...</td>\n",
       "      <td>[solidaritas, positif, mantan, kepala, desa, p...</td>\n",
       "      <td>positif</td>\n",
       "    </tr>\n",
       "  </tbody>\n",
       "</table>\n",
       "</div>"
      ],
      "text/plain": [
       "                                           full_text  \\\n",
       "0  @PartaiSocmed Sumber = tiktok TKN Prabowo Gibr...   \n",
       "1  Solidaritas positif Mantan Kepala Desa: Prabow...   \n",
       "\n",
       "                                          text_clean  \\\n",
       "0                   sumber tiktok tkn prabowo gibran   \n",
       "1  solidaritas positif mantan kepala desa prabowo...   \n",
       "\n",
       "                                               token  \\\n",
       "0             [sumber, tiktok, tkn, prabowo, gibran]   \n",
       "1  [solidaritas, positif, mantan, kepala, desa, p...   \n",
       "\n",
       "                                                stop  \\\n",
       "0             [sumber, tiktok, tkn, prabowo, gibran]   \n",
       "1  [solidaritas, positif, mantan, kepala, desa, p...   \n",
       "\n",
       "                                             stemmed    Label  \n",
       "0             [sumber, tiktok, tkn, prabowo, gibran]   netral  \n",
       "1  [solidaritas, positif, mantan, kepala, desa, p...  positif  "
      ]
     },
     "execution_count": 443,
     "metadata": {},
     "output_type": "execute_result"
    }
   ],
   "source": [
    "df = df[['full_text', 'text_clean', 'token', 'stop', 'stemmed', 'Label']]\n",
    "df.head(2)"
   ]
  },
  {
   "cell_type": "markdown",
   "metadata": {},
   "source": [
    "### `Exploratory Data Analysis`"
   ]
  },
  {
   "cell_type": "code",
   "execution_count": 444,
   "metadata": {},
   "outputs": [
    {
     "data": {
      "text/plain": [
       "negatif     499\n",
       "positif     373\n",
       "negatif       3\n",
       "netral        1\n",
       "Name: Label, dtype: int64"
      ]
     },
     "execution_count": 444,
     "metadata": {},
     "output_type": "execute_result"
    }
   ],
   "source": [
    "df['Label'].value_counts()"
   ]
  },
  {
   "cell_type": "code",
   "execution_count": 445,
   "metadata": {},
   "outputs": [
    {
     "name": "stdout",
     "output_type": "stream",
     "text": [
      "negatif    503\n",
      "positif    373\n",
      "Name: Label, dtype: int64\n"
     ]
    }
   ],
   "source": [
    "df = normalize_label(df)\n",
    "print(df['Label'].value_counts())"
   ]
  },
  {
   "cell_type": "code",
   "execution_count": 446,
   "metadata": {},
   "outputs": [
    {
     "data": {
      "image/png": "[encoded data removed]",
      "text/plain": [
       "<Figure size 600x400 with 1 Axes>"
      ]
     },
     "metadata": {},
     "output_type": "display_data"
    }
   ],
   "source": [
    "counts = df['Label'].value_counts()\n",
    "plt.figure(figsize=(6, 4))  # Mengatur ukuran plot\n",
    "\n",
    "sns.barplot(x=counts.index, y=counts.values, palette='viridis')\n",
    "\n",
    "plt.title('Jumlah Label')\n",
    "plt.xlabel('Label')\n",
    "plt.ylabel('Jumlah')\n",
    "\n",
    "plt.show()"
   ]
  },
  {
   "cell_type": "code",
   "execution_count": 447,
   "metadata": {},
   "outputs": [
    {
     "data": {
      "text/plain": [
       "['sumber', 'tiktok', 'tkn', 'prabowo', 'gibran']"
      ]
     },
     "execution_count": 447,
     "metadata": {},
     "output_type": "execute_result"
    }
   ],
   "source": [
    "# Menggabungkan semua list menjadi satu list tunggal\n",
    "merged_stemming = merge_2d_array_to_1d(df['stemmed'])\n",
    "merged_stemming[:5]"
   ]
  },
  {
   "cell_type": "code",
   "execution_count": 448,
   "metadata": {},
   "outputs": [
    {
     "name": "stdout",
     "output_type": "stream",
     "text": [
      "{'sumber': [0, 1], 'tiktok': [1, 0], 'tkn': [1, 0], 'prabowo': [20, 20], 'gibran': [17, 23], 'solidaritas': [1, 1], 'positif': [8, 3], 'mantan': [12, 15], 'kepala': [3, 4], 'desa': [7, 5], 'prabowogibran': [22, 18], 'langkah': [1, 0], 'maju': [1, 0], 'putus': [1, 1], 'jalan': [1, 0], 'ubah': [8, 7], 'ingin': [0, 2], 'ahmad': [0, 1], 'dhani': [1, 0], 'kampanye': [1, 0], 'pilih': [1, 5], 'optimis': [0, 1], 'pimpin': [7, 12], 'iring': [1, 1], 'suara': [2, 5], 'bulat': [0, 2], 'ratus': [4, 3], 'kades': [6, 9], 'bangun': [2, 2], 'nyata': [4, 2], 'cipta': [3, 1], 'harmoni': [0, 1], 'dukung': [7, 14], 'pilpres': [2, 3], 'satu': [1, 4], 'lebih': [5, 2], 'baik': [2, 3], 'sama': [1, 3], 'komitmen': [1, 1], 'percaya': [1, 0], 'narasi': [1, 0], 'penuh': [1, 1], 'solusi': [1, 0], 'semangat': [2, 2], 'segar': [1, 0], 'kotakabupaten': [1, 2], 'cirebon': [7, 5], 'buat': [1, 1], 'atmosfer': [1, 0], 'katalisator': [1, 0], 'mentang': [1, 0], 'jadi': [1, 2], 'caprescawapres': [0, 1], 'terus': [1, 1], 'sering': [1, 2], 'nyebut': [0, 1], 'pagi': [0, 1], 'pasti': [0, 1], 'bijak': [1, 1], 'tetap': [1, 1], 'pihak': [1, 1], 'nilainilai': [0, 1], 'manusia': [0, 2], 'purnakuwu': [9, 9], 'dukungpragibs': [12, 6], 'optimalisasi': [1, 0], 'program': [1, 0], 'jokowi': [1, 0], 'lanjut': [1, 1], 'garda': [0, 1], 'depan': [0, 1], 'juang': [1, 1], 'hak': [0, 1], 'asasi': [1, 0], 'indonesia': [1, 1], 'lupa': [3, 1], 'rakyat': [10, 18], 'jawa': [7, 15], 'tengah': [6, 16], 'punya': [0, 1], 'mata': [0, 3], 'telinga': [0, 1], 'lihat': [0, 2], 'dengar': [0, 2], 'benar': [0, 2], 'jangan': [4, 1], 'tunjuk': [1, 1], 'sulap': [0, 1], 'mana': [0, 3], 'segala': [0, 1], 'alas': [0, 1], 'jelas': [0, 1], 'aniescak': [1, 0], 'imin': [0, 1], 'kritik': [0, 1], 'ikn': [1, 0], 'ganjarmahfud': [0, 1], 'sepakat': [0, 1], 'solid': [1, 0], 'sejahtera': [1, 0], 'kontribusi': [1, 0], 'penting': [1, 0], 'menang': [2, 1], 'tingkat': [0, 1], 'lokal': [1, 2], 'akan': [1, 0], 'harga': [2, 1], 'jujur': [3, 3], 'sekadar': [1, 1], 'janji': [2, 1], 'kosong': [1, 1], 'fokus': [1, 3], 'visi': [1, 0], 'cerita': [1, 1], 'karang': [1, 1], 'ganjar': [4, 7], 'mahfud': [6, 5], 'harap': [1, 3], 'pengaruh': [1, 1], 'drama': [2, 3], 'politik': [4, 7], 'pemuda': [1, 0], 'asal': [0, 1], 'kota': [0, 1], 'malang': [0, 1], 'rilis': [0, 1], 'lagu': [0, 2], 'pasang': [0, 3], 'subianto': [0, 1], 'simak': [1, 0], 'utuh': [1, 1], 'warga': [2, 2], 'wadas': [2, 4], 'terlalu': [1, 0], 'mudah': [0, 4], 'pikat': [0, 1], 'trik': [1, 2], 'biar': [1, 0], 'dongeng': [1, 0], 'rusak': [1, 1], 'citra': [1, 1], 'moral': [1, 0], 'berani': [2, 1], 'hadap': [1, 0], 'tantang': [0, 1], 'inspirasi': [1, 0], 'masyarakat': [1, 0], 'surabaya': [1, 0], 'hidup': [0, 1], 'seharihari': [0, 1], 'bohong': [1, 5], 'kait': [1, 0], 'gambar': [1, 0], 'ketidakjujuran': [0, 1], 'dapat': [1, 0], 'kualitas': [2, 0], 'rendah': [1, 0], 'mau': [1, 0], 'main': [1, 2], 'belimbing': [1, 0], 'sayur': [1, 0], 'jual': [1, 1], 'obat': [1, 0], 'palsu': [2, 1], 'cuma': [1, 0], 'bikin': [0, 1], 'gebrak': [1, 0], 'iklan': [0, 1], 'nol': [0, 1], 'prestasi': [0, 1], 'tak': [1, 4], 'sinar': [0, 1], 'capai': [0, 1], 'jaya': [0, 1], 'tinggi': [0, 1], 'bukan': [1, 4], 'tuju': [0, 1], 'aku': [0, 1], 'jaga': [1, 1], 'aman': [1, 2], 'utama': [0, 4], 'ajar': [0, 3], 'panggung': [0, 2], 'sandiwara': [1, 1], 'tipu': [1, 3], 'pondasi': [0, 1], 'kokoh': [0, 1], 'keliru': [1, 1], 'ira': [1, 1], 'cerdas': [0, 4], 'lampau': [0, 1], 'klaim': [1, 3], 'milik': [1, 1], 'track': [0, 1], 'record': [0, 1], 'kalian': [1, 1], 'tulus': [0, 3], 'cermin': [0, 1], 'butuh': [0, 1], 'ajang': [0, 1], 'kerja': [2, 0], 'alir': [0, 1], 'jamin': [0, 1], 'handal': [0, 1], 'yakin': [1, 1], 'bangkit': [0, 1], 'mantabbb': [1, 0], 'gassss': [1, 0], 'putar': [0, 1], 'manipulasi': [1, 0], 'bawa': [0, 3], 'raih': [0, 1], 'sejati': [0, 1], 'tegas': [3, 0], 'terombangambing': [0, 1], 'tahu': [2, 2], 'ukur': [0, 1], 'berapa': [1, 1], 'muncul': [0, 1], 'media': [0, 1], 'seolaholah': [0, 1], 'catur': [0, 1], 'curang': [0, 1], 'ratu': [0, 1], 'sungguh': [0, 1], 'coba': [0, 1], 'dasar': [0, 2], 'libat': [0, 1], 'deklarasi': [0, 1], 'atas': [1, 0], 'luar': [2, 0], 'biasa': [1, 1], 'bang': [0, 1], 'btw': [0, 1], 'mungkin': [0, 2], 'mahir': [0, 1], 'bongkar': [0, 1], 'rayu': [0, 1], 'tanggung': [0, 1], 'jawab': [0, 1], 'signifikan': [0, 1], 'pancar': [0, 1], 'anggap': [0, 2], 'skenario': [0, 1], 'sah': [0, 1], 'perlu': [0, 1], 'sadar': [0, 1], 'jauh': [1, 0], 'bukti': [1, 1], 'peduli': [0, 2], 'lurah': [2, 2], 'ragu': [1, 0], 'pangkat': [0, 1], 'elemen': [1, 0], 'imbang': [0, 1], 'sempurna': [0, 1], 'letak': [0, 1], 'pesona': [0, 1], 'karisma': [0, 1], 'cari': [1, 0], 'integritas': [0, 1], 'ilusi': [0, 1], 'manfaat': [1, 0], 'nama': [1, 0], 'hati': [2, 1], 'daulat': [1, 0], 'ekonomi': [1, 0], 'landas': [0, 1], 'bagaimana': [1, 0], 'tampak': [0, 1], 'kecoh': [1, 0], 'rekayasa': [1, 1], 'bau': [1, 0], 'resmi': [1, 0], 'kpu': [1, 0], 'nomor': [1, 0], 'urut': [1, 0], 'partai': [0, 1], 'demokrat': [0, 1], 'jember': [1, 0], 'siap': [1, 0], 'all': [0, 1], 'out': [0, 1], 'beri': [0, 1], 'tawar': [1, 0], 'wujud': [1, 0], 'strategi': [1, 0], 'hebat': [1, 0], 'akting': [1, 0], 'siapa': [0, 1], 'pantas': [1, 0]}\n"
     ]
    }
   ],
   "source": [
    "word_freq = word_freq_func(merged_stemming, df['Label'])\n",
    "print(word_freq)"
   ]
  },
  {
   "cell_type": "code",
   "execution_count": 449,
   "metadata": {},
   "outputs": [
    {
     "data": {
      "text/html": [
       "<div>\n",
       "<style scoped>\n",
       "    .dataframe tbody tr th:only-of-type {\n",
       "        vertical-align: middle;\n",
       "    }\n",
       "\n",
       "    .dataframe tbody tr th {\n",
       "        vertical-align: top;\n",
       "    }\n",
       "\n",
       "    .dataframe thead th {\n",
       "        text-align: right;\n",
       "    }\n",
       "</style>\n",
       "<table border=\"1\" class=\"dataframe\">\n",
       "  <thead>\n",
       "    <tr style=\"text-align: right;\">\n",
       "      <th></th>\n",
       "      <th>Kata</th>\n",
       "      <th>Jumlah_Positif</th>\n",
       "      <th>Jumlah_Negatif</th>\n",
       "    </tr>\n",
       "  </thead>\n",
       "  <tbody>\n",
       "    <tr>\n",
       "      <th>0</th>\n",
       "      <td>sumber</td>\n",
       "      <td>0</td>\n",
       "      <td>1</td>\n",
       "    </tr>\n",
       "    <tr>\n",
       "      <th>1</th>\n",
       "      <td>tiktok</td>\n",
       "      <td>1</td>\n",
       "      <td>0</td>\n",
       "    </tr>\n",
       "    <tr>\n",
       "      <th>2</th>\n",
       "      <td>tkn</td>\n",
       "      <td>1</td>\n",
       "      <td>0</td>\n",
       "    </tr>\n",
       "    <tr>\n",
       "      <th>3</th>\n",
       "      <td>prabowo</td>\n",
       "      <td>20</td>\n",
       "      <td>20</td>\n",
       "    </tr>\n",
       "    <tr>\n",
       "      <th>4</th>\n",
       "      <td>gibran</td>\n",
       "      <td>17</td>\n",
       "      <td>23</td>\n",
       "    </tr>\n",
       "  </tbody>\n",
       "</table>\n",
       "</div>"
      ],
      "text/plain": [
       "      Kata  Jumlah_Positif  Jumlah_Negatif\n",
       "0   sumber               0               1\n",
       "1   tiktok               1               0\n",
       "2      tkn               1               0\n",
       "3  prabowo              20              20\n",
       "4   gibran              17              23"
      ]
     },
     "execution_count": 449,
     "metadata": {},
     "output_type": "execute_result"
    }
   ],
   "source": [
    "# Membuat DataFrame dari hasil perhitungan frekuensi kata dan kolom 'Label'\n",
    "df_word_freq = pd.DataFrame(word_freq.items(), columns=['Kata', 'Jumlah'])\n",
    "df_word_freq[['Jumlah_Positif', 'Jumlah_Negatif']] = pd.DataFrame(df_word_freq['Jumlah'].tolist(), index=df_word_freq.index)\n",
    "df_word_freq.drop('Jumlah', axis=1, inplace=True)\n",
    "df_word_freq.head()"
   ]
  },
  {
   "cell_type": "code",
   "execution_count": 450,
   "metadata": {},
   "outputs": [
    {
     "data": {
      "image/png": "[encoded data removed]",
      "text/plain": [
       "<Figure size 1200x500 with 2 Axes>"
      ]
     },
     "metadata": {},
     "output_type": "display_data"
    }
   ],
   "source": [
    "# Mengambil 10 kata teratas untuk masing-masing label\n",
    "top_positif = df_word_freq.nlargest(10, 'Jumlah_Positif')\n",
    "top_negatif = df_word_freq.nlargest(10, 'Jumlah_Negatif')\n",
    "\n",
    "# Plot bar chart untuk 10 kata teratas masing-masing label\n",
    "plt.figure(figsize=(12, 5))\n",
    "\n",
    "plt.subplot(1, 2, 1)\n",
    "plt.bar(top_positif['Kata'], top_positif['Jumlah_Positif'], color='skyblue')\n",
    "plt.title('10 Kata Teratas (Label: Positif)')\n",
    "plt.xticks(rotation=45)\n",
    "plt.xlabel('Kata')\n",
    "plt.ylabel('Jumlah')\n",
    "plt.tight_layout()\n",
    "\n",
    "plt.subplot(1, 2, 2)\n",
    "plt.bar(top_negatif['Kata'], top_negatif['Jumlah_Negatif'], color='salmon')\n",
    "plt.title('10 Kata Teratas (Label: Negatif)')\n",
    "plt.xticks(rotation=45)\n",
    "plt.xlabel('Kata')\n",
    "plt.ylabel('Jumlah')\n",
    "plt.tight_layout()\n",
    "\n",
    "plt.show()"
   ]
  },
  {
   "cell_type": "markdown",
   "metadata": {},
   "source": [
    "### `WORD2VEC MODEL`"
   ]
  },
  {
   "cell_type": "code",
   "execution_count": 451,
   "metadata": {},
   "outputs": [
    {
     "data": {
      "text/html": [
       "<div>\n",
       "<style scoped>\n",
       "    .dataframe tbody tr th:only-of-type {\n",
       "        vertical-align: middle;\n",
       "    }\n",
       "\n",
       "    .dataframe tbody tr th {\n",
       "        vertical-align: top;\n",
       "    }\n",
       "\n",
       "    .dataframe thead th {\n",
       "        text-align: right;\n",
       "    }\n",
       "</style>\n",
       "<table border=\"1\" class=\"dataframe\">\n",
       "  <thead>\n",
       "    <tr style=\"text-align: right;\">\n",
       "      <th></th>\n",
       "      <th>full_text</th>\n",
       "      <th>text_clean</th>\n",
       "      <th>token</th>\n",
       "      <th>stop</th>\n",
       "      <th>stemmed</th>\n",
       "      <th>Label</th>\n",
       "    </tr>\n",
       "  </thead>\n",
       "  <tbody>\n",
       "    <tr>\n",
       "      <th>0</th>\n",
       "      <td>@PartaiSocmed Sumber = tiktok TKN Prabowo Gibr...</td>\n",
       "      <td>sumber tiktok tkn prabowo gibran</td>\n",
       "      <td>[sumber, tiktok, tkn, prabowo, gibran]</td>\n",
       "      <td>[sumber, tiktok, tkn, prabowo, gibran]</td>\n",
       "      <td>[sumber, tiktok, tkn, prabowo, gibran]</td>\n",
       "      <td>negatif</td>\n",
       "    </tr>\n",
       "    <tr>\n",
       "      <th>1</th>\n",
       "      <td>Solidaritas positif Mantan Kepala Desa: Prabow...</td>\n",
       "      <td>solidaritas positif mantan kepala desa prabowo...</td>\n",
       "      <td>[solidaritas, positif, mantan, kepala, desa, p...</td>\n",
       "      <td>[solidaritas, positif, mantan, kepala, desa, p...</td>\n",
       "      <td>[solidaritas, positif, mantan, kepala, desa, p...</td>\n",
       "      <td>positif</td>\n",
       "    </tr>\n",
       "  </tbody>\n",
       "</table>\n",
       "</div>"
      ],
      "text/plain": [
       "                                           full_text  \\\n",
       "0  @PartaiSocmed Sumber = tiktok TKN Prabowo Gibr...   \n",
       "1  Solidaritas positif Mantan Kepala Desa: Prabow...   \n",
       "\n",
       "                                          text_clean  \\\n",
       "0                   sumber tiktok tkn prabowo gibran   \n",
       "1  solidaritas positif mantan kepala desa prabowo...   \n",
       "\n",
       "                                               token  \\\n",
       "0             [sumber, tiktok, tkn, prabowo, gibran]   \n",
       "1  [solidaritas, positif, mantan, kepala, desa, p...   \n",
       "\n",
       "                                                stop  \\\n",
       "0             [sumber, tiktok, tkn, prabowo, gibran]   \n",
       "1  [solidaritas, positif, mantan, kepala, desa, p...   \n",
       "\n",
       "                                             stemmed    Label  \n",
       "0             [sumber, tiktok, tkn, prabowo, gibran]  negatif  \n",
       "1  [solidaritas, positif, mantan, kepala, desa, p...  positif  "
      ]
     },
     "execution_count": 451,
     "metadata": {},
     "output_type": "execute_result"
    }
   ],
   "source": [
    "df.head(2)"
   ]
  },
  {
   "cell_type": "code",
   "execution_count": 452,
   "metadata": {},
   "outputs": [
    {
     "data": {
      "text/html": [
       "<div>\n",
       "<style scoped>\n",
       "    .dataframe tbody tr th:only-of-type {\n",
       "        vertical-align: middle;\n",
       "    }\n",
       "\n",
       "    .dataframe tbody tr th {\n",
       "        vertical-align: top;\n",
       "    }\n",
       "\n",
       "    .dataframe thead th {\n",
       "        text-align: right;\n",
       "    }\n",
       "</style>\n",
       "<table border=\"1\" class=\"dataframe\">\n",
       "  <thead>\n",
       "    <tr style=\"text-align: right;\">\n",
       "      <th></th>\n",
       "      <th>full_text</th>\n",
       "      <th>text_clean</th>\n",
       "      <th>token</th>\n",
       "      <th>stop</th>\n",
       "      <th>stemmed</th>\n",
       "      <th>untokenize_clean</th>\n",
       "      <th>Label</th>\n",
       "    </tr>\n",
       "  </thead>\n",
       "  <tbody>\n",
       "    <tr>\n",
       "      <th>0</th>\n",
       "      <td>@PartaiSocmed Sumber = tiktok TKN Prabowo Gibr...</td>\n",
       "      <td>sumber tiktok tkn prabowo gibran</td>\n",
       "      <td>[sumber, tiktok, tkn, prabowo, gibran]</td>\n",
       "      <td>[sumber, tiktok, tkn, prabowo, gibran]</td>\n",
       "      <td>[sumber, tiktok, tkn, prabowo, gibran]</td>\n",
       "      <td>sumber tiktok tkn prabowo gibran</td>\n",
       "      <td>negatif</td>\n",
       "    </tr>\n",
       "    <tr>\n",
       "      <th>1</th>\n",
       "      <td>Solidaritas positif Mantan Kepala Desa: Prabow...</td>\n",
       "      <td>solidaritas positif mantan kepala desa prabowo...</td>\n",
       "      <td>[solidaritas, positif, mantan, kepala, desa, p...</td>\n",
       "      <td>[solidaritas, positif, mantan, kepala, desa, p...</td>\n",
       "      <td>[solidaritas, positif, mantan, kepala, desa, p...</td>\n",
       "      <td>solidaritas positif mantan kepala desa prabowo...</td>\n",
       "      <td>positif</td>\n",
       "    </tr>\n",
       "  </tbody>\n",
       "</table>\n",
       "</div>"
      ],
      "text/plain": [
       "                                           full_text  \\\n",
       "0  @PartaiSocmed Sumber = tiktok TKN Prabowo Gibr...   \n",
       "1  Solidaritas positif Mantan Kepala Desa: Prabow...   \n",
       "\n",
       "                                          text_clean  \\\n",
       "0                   sumber tiktok tkn prabowo gibran   \n",
       "1  solidaritas positif mantan kepala desa prabowo...   \n",
       "\n",
       "                                               token  \\\n",
       "0             [sumber, tiktok, tkn, prabowo, gibran]   \n",
       "1  [solidaritas, positif, mantan, kepala, desa, p...   \n",
       "\n",
       "                                                stop  \\\n",
       "0             [sumber, tiktok, tkn, prabowo, gibran]   \n",
       "1  [solidaritas, positif, mantan, kepala, desa, p...   \n",
       "\n",
       "                                             stemmed  \\\n",
       "0             [sumber, tiktok, tkn, prabowo, gibran]   \n",
       "1  [solidaritas, positif, mantan, kepala, desa, p...   \n",
       "\n",
       "                                    untokenize_clean    Label  \n",
       "0                   sumber tiktok tkn prabowo gibran  negatif  \n",
       "1  solidaritas positif mantan kepala desa prabowo...  positif  "
      ]
     },
     "execution_count": 452,
     "metadata": {},
     "output_type": "execute_result"
    }
   ],
   "source": [
    "df['untokenize_clean'] = df['stemmed'].apply(untokenize)\n",
    "df = df[['full_text', 'text_clean', 'token', 'stop', 'stemmed','untokenize_clean', 'Label']]\n",
    "df.head(2)"
   ]
  },
  {
   "cell_type": "code",
   "execution_count": 453,
   "metadata": {},
   "outputs": [
    {
     "name": "stdout",
     "output_type": "stream",
     "text": [
      "Train size: 613\n",
      "Test size: 263\n"
     ]
    }
   ],
   "source": [
    "df_train, df_test = train_test_split(df, test_size=0.3, random_state=42)\n",
    "print(\"Train size:\", len(df_train))\n",
    "print(\"Test size:\", len(df_test))"
   ]
  },
  {
   "cell_type": "code",
   "execution_count": 636,
   "metadata": {},
   "outputs": [
    {
     "data": {
      "text/html": [
       "<div>\n",
       "<style scoped>\n",
       "    .dataframe tbody tr th:only-of-type {\n",
       "        vertical-align: middle;\n",
       "    }\n",
       "\n",
       "    .dataframe tbody tr th {\n",
       "        vertical-align: top;\n",
       "    }\n",
       "\n",
       "    .dataframe thead th {\n",
       "        text-align: right;\n",
       "    }\n",
       "</style>\n",
       "<table border=\"1\" class=\"dataframe\">\n",
       "  <thead>\n",
       "    <tr style=\"text-align: right;\">\n",
       "      <th></th>\n",
       "      <th>full_text</th>\n",
       "      <th>text_clean</th>\n",
       "      <th>token</th>\n",
       "      <th>stop</th>\n",
       "      <th>stemmed</th>\n",
       "      <th>untokenize_clean</th>\n",
       "      <th>Label</th>\n",
       "    </tr>\n",
       "  </thead>\n",
       "  <tbody>\n",
       "    <tr>\n",
       "      <th>836</th>\n",
       "      <td>Prabowo-Gibran  pilihan yang diakui oleh ratus...</td>\n",
       "      <td>prabowogibran pilihan yang diakui oleh ratusan...</td>\n",
       "      <td>[prabowogibran, pilihan, yang, diakui, oleh, r...</td>\n",
       "      <td>[prabowogibran, pilihan, diakui, ratusan, mant...</td>\n",
       "      <td>[prabowogibran, pilih, aku, ratus, mantan, kad...</td>\n",
       "      <td>prabowogibran pilih aku ratus mantan kades lur...</td>\n",
       "      <td>positif</td>\n",
       "    </tr>\n",
       "    <tr>\n",
       "      <th>181</th>\n",
       "      <td>Dari Jawa Timur untuk Ganjar-Mahfud: Ngomong d...</td>\n",
       "      <td>dari jawa timur untuk ganjarmahfud ngomong doa...</td>\n",
       "      <td>[dari, jawa, timur, untuk, ganjarmahfud, ngomo...</td>\n",
       "      <td>[jawa, timur, ganjarmahfud, ngomong, doang, ga...</td>\n",
       "      <td>[jawa, timur, ganjarmahfud, ngomong, doang, ga...</td>\n",
       "      <td>jawa timur ganjarmahfud ngomong doang gampang ...</td>\n",
       "      <td>negatif</td>\n",
       "    </tr>\n",
       "  </tbody>\n",
       "</table>\n",
       "</div>"
      ],
      "text/plain": [
       "                                             full_text  \\\n",
       "836  Prabowo-Gibran  pilihan yang diakui oleh ratus...   \n",
       "181  Dari Jawa Timur untuk Ganjar-Mahfud: Ngomong d...   \n",
       "\n",
       "                                            text_clean  \\\n",
       "836  prabowogibran pilihan yang diakui oleh ratusan...   \n",
       "181  dari jawa timur untuk ganjarmahfud ngomong doa...   \n",
       "\n",
       "                                                 token  \\\n",
       "836  [prabowogibran, pilihan, yang, diakui, oleh, r...   \n",
       "181  [dari, jawa, timur, untuk, ganjarmahfud, ngomo...   \n",
       "\n",
       "                                                  stop  \\\n",
       "836  [prabowogibran, pilihan, diakui, ratusan, mant...   \n",
       "181  [jawa, timur, ganjarmahfud, ngomong, doang, ga...   \n",
       "\n",
       "                                               stemmed  \\\n",
       "836  [prabowogibran, pilih, aku, ratus, mantan, kad...   \n",
       "181  [jawa, timur, ganjarmahfud, ngomong, doang, ga...   \n",
       "\n",
       "                                      untokenize_clean    Label  \n",
       "836  prabowogibran pilih aku ratus mantan kades lur...  positif  \n",
       "181  jawa timur ganjarmahfud ngomong doang gampang ...  negatif  "
      ]
     },
     "execution_count": 636,
     "metadata": {},
     "output_type": "execute_result"
    }
   ],
   "source": [
    "df_train.head(2)"
   ]
  },
  {
   "cell_type": "code",
   "execution_count": 653,
   "metadata": {},
   "outputs": [
    {
     "data": {
      "image/png": "[encoded data removed]",
      "text/plain": [
       "<Figure size 1000x500 with 2 Axes>"
      ]
     },
     "metadata": {},
     "output_type": "display_data"
    }
   ],
   "source": [
    "# Menghitung jumlah label untuk setiap nilai unik dalam kolom 'Label' pada df_train dan df_test\n",
    "train_label_counts = df_train.groupby('Label').size()\n",
    "test_label_counts = df_test.groupby('Label').size()\n",
    "\n",
    "# Data train dan test\n",
    "data = [train_label_counts, test_label_counts]\n",
    "titles = ['Jumlah Label pada df_train', 'Jumlah Label pada df_test']\n",
    "colors = ['skyblue', 'salmon']\n",
    "\n",
    "# Menyiapkan subplots dalam satu canvas\n",
    "fig, ax = plt.subplots(nrows=1, ncols=2, figsize=(10, 5))\n",
    "\n",
    "for i, (label, counts) in enumerate(zip(['df_train', 'df_test'], data)):\n",
    "    bars = ax[i].bar(counts.index, counts, color=colors[i])\n",
    "    ax[i].set_xlabel('Label')\n",
    "    ax[i].set_ylabel('Jumlah')\n",
    "    ax[i].set_title(titles[i])\n",
    "    \n",
    "    # Menambahkan label pada setiap bar\n",
    "    for bar in bars:\n",
    "        yval = bar.get_height()\n",
    "        ax[i].text(bar.get_x() + bar.get_width()/2, yval, round(yval, 2), ha='center', va='bottom')\n",
    "\n",
    "plt.tight_layout()\n",
    "plt.show()"
   ]
  },
  {
   "cell_type": "code",
   "execution_count": 456,
   "metadata": {},
   "outputs": [
    {
     "data": {
      "text/html": [
       "<div>\n",
       "<style scoped>\n",
       "    .dataframe tbody tr th:only-of-type {\n",
       "        vertical-align: middle;\n",
       "    }\n",
       "\n",
       "    .dataframe tbody tr th {\n",
       "        vertical-align: top;\n",
       "    }\n",
       "\n",
       "    .dataframe thead th {\n",
       "        text-align: right;\n",
       "    }\n",
       "</style>\n",
       "<table border=\"1\" class=\"dataframe\">\n",
       "  <thead>\n",
       "    <tr style=\"text-align: right;\">\n",
       "      <th></th>\n",
       "      <th>full_text</th>\n",
       "      <th>text_clean</th>\n",
       "      <th>token</th>\n",
       "      <th>stop</th>\n",
       "      <th>stemmed</th>\n",
       "      <th>untokenize_clean</th>\n",
       "      <th>Label</th>\n",
       "    </tr>\n",
       "  </thead>\n",
       "  <tbody>\n",
       "    <tr>\n",
       "      <th>836</th>\n",
       "      <td>Prabowo-Gibran  pilihan yang diakui oleh ratus...</td>\n",
       "      <td>prabowogibran pilihan yang diakui oleh ratusan...</td>\n",
       "      <td>[prabowogibran, pilihan, yang, diakui, oleh, r...</td>\n",
       "      <td>[prabowogibran, pilihan, diakui, ratusan, mant...</td>\n",
       "      <td>[prabowogibran, pilih, aku, ratus, mantan, kad...</td>\n",
       "      <td>prabowogibran pilih aku ratus mantan kades lur...</td>\n",
       "      <td>positif</td>\n",
       "    </tr>\n",
       "    <tr>\n",
       "      <th>181</th>\n",
       "      <td>Dari Jawa Timur untuk Ganjar-Mahfud: Ngomong d...</td>\n",
       "      <td>dari jawa timur untuk ganjarmahfud ngomong doa...</td>\n",
       "      <td>[dari, jawa, timur, untuk, ganjarmahfud, ngomo...</td>\n",
       "      <td>[jawa, timur, ganjarmahfud, ngomong, doang, ga...</td>\n",
       "      <td>[jawa, timur, ganjarmahfud, ngomong, doang, ga...</td>\n",
       "      <td>jawa timur ganjarmahfud ngomong doang gampang ...</td>\n",
       "      <td>negatif</td>\n",
       "    </tr>\n",
       "  </tbody>\n",
       "</table>\n",
       "</div>"
      ],
      "text/plain": [
       "                                             full_text  \\\n",
       "836  Prabowo-Gibran  pilihan yang diakui oleh ratus...   \n",
       "181  Dari Jawa Timur untuk Ganjar-Mahfud: Ngomong d...   \n",
       "\n",
       "                                            text_clean  \\\n",
       "836  prabowogibran pilihan yang diakui oleh ratusan...   \n",
       "181  dari jawa timur untuk ganjarmahfud ngomong doa...   \n",
       "\n",
       "                                                 token  \\\n",
       "836  [prabowogibran, pilihan, yang, diakui, oleh, r...   \n",
       "181  [dari, jawa, timur, untuk, ganjarmahfud, ngomo...   \n",
       "\n",
       "                                                  stop  \\\n",
       "836  [prabowogibran, pilihan, diakui, ratusan, mant...   \n",
       "181  [jawa, timur, ganjarmahfud, ngomong, doang, ga...   \n",
       "\n",
       "                                               stemmed  \\\n",
       "836  [prabowogibran, pilih, aku, ratus, mantan, kad...   \n",
       "181  [jawa, timur, ganjarmahfud, ngomong, doang, ga...   \n",
       "\n",
       "                                      untokenize_clean    Label  \n",
       "836  prabowogibran pilih aku ratus mantan kades lur...  positif  \n",
       "181  jawa timur ganjarmahfud ngomong doang gampang ...  negatif  "
      ]
     },
     "execution_count": 456,
     "metadata": {},
     "output_type": "execute_result"
    }
   ],
   "source": [
    "df_train.head(2)"
   ]
  },
  {
   "cell_type": "code",
   "execution_count": 457,
   "metadata": {},
   "outputs": [
    {
     "name": "stdout",
     "output_type": "stream",
     "text": [
      "613\n"
     ]
    },
    {
     "data": {
      "text/plain": [
       "[['prabowogibran',\n",
       "  'pilih',\n",
       "  'aku',\n",
       "  'ratus',\n",
       "  'mantan',\n",
       "  'kades',\n",
       "  'lurah',\n",
       "  'cirebon',\n",
       "  'purnakuwu',\n",
       "  'dukungpragibs'],\n",
       " ['jawa',\n",
       "  'timur',\n",
       "  'ganjarmahfud',\n",
       "  'ngomong',\n",
       "  'doang',\n",
       "  'gampang',\n",
       "  'bang',\n",
       "  'gibran',\n",
       "  'mending',\n",
       "  'dukung',\n",
       "  'kerja',\n",
       "  'nyata',\n",
       "  'bukan',\n",
       "  'debat',\n",
       "  'kotak',\n",
       "  'amal',\n",
       "  'doang']]"
      ]
     },
     "execution_count": 457,
     "metadata": {},
     "output_type": "execute_result"
    }
   ],
   "source": [
    "documents = tokenize_column(df_train, 'untokenize_clean')\n",
    "print(len(documents))\n",
    "documents[:2]"
   ]
  },
  {
   "cell_type": "code",
   "execution_count": 458,
   "metadata": {},
   "outputs": [],
   "source": [
    "# Inisialisasi model Word2Vec dengan parameter:\n",
    "# - vector_size: Menentukan jumlah dimensi vektor untuk merepresentasikan kata-kata dalam model Word2Vec.\n",
    "# - window: Parameter yang menentukan jendela konteks kata dalam teks yang akan dilihat oleh model saat melatih vektor kata.\n",
    "# - min_count: Menentukan jumlah minimum kemunculan kata yang diperlukan agar kata tersebut diikutsertakan dalam pembangunan vektor kata.\n",
    "# - workers: Menentukan jumlah thread atau pekerja yang akan digunakan saat melatih model.\n",
    "\n",
    "w2v_model = gensim.models.Word2Vec(\n",
    "                                    vector_size=W2V_SIZE, \n",
    "                                    window=W2V_WINDOW, \n",
    "                                    min_count=W2V_MIN_COUNT, \n",
    "                                    workers=8\n",
    "                                   )\n",
    "\n",
    "w2v_model.build_vocab(documents)"
   ]
  },
  {
   "cell_type": "code",
   "execution_count": 459,
   "metadata": {},
   "outputs": [
    {
     "name": "stdout",
     "output_type": "stream",
     "text": [
      "Vocab size: 162\n"
     ]
    }
   ],
   "source": [
    "words = w2v_model.wv.index_to_key  # Mendapatkan daftar kata-kata dari model Word2Vec\n",
    "vocab_size = len(words)  # Menghitung ukuran vocabulary\n",
    "print(\"Vocab size:\", vocab_size)"
   ]
  },
  {
   "cell_type": "code",
   "execution_count": 511,
   "metadata": {},
   "outputs": [
    {
     "name": "stdout",
     "output_type": "stream",
     "text": [
      "['prabowo', 'dukung', 'gibran']\n"
     ]
    }
   ],
   "source": [
    "print(words[:3])"
   ]
  },
  {
   "cell_type": "code",
   "execution_count": 461,
   "metadata": {},
   "outputs": [
    {
     "data": {
      "text/plain": [
       "(85186, 269312)"
      ]
     },
     "execution_count": 461,
     "metadata": {},
     "output_type": "execute_result"
    }
   ],
   "source": [
    "w2v_model.train(documents, total_examples=len(documents), epochs=W2V_EPOCH)"
   ]
  },
  {
   "cell_type": "code",
   "execution_count": 462,
   "metadata": {},
   "outputs": [
    {
     "data": {
      "text/plain": [
       "[('ham', 0.9947798252105713),\n",
       " ('langgar', 0.9917493462562561),\n",
       " ('yg', 0.9911535978317261),\n",
       " ('mau', 0.9906655550003052),\n",
       " ('culik', 0.990477442741394),\n",
       " ('gemoy', 0.9888845682144165),\n",
       " ('orang', 0.986030101776123),\n",
       " ('malah', 0.9842602014541626),\n",
       " ('tanya', 0.983856737613678),\n",
       " ('pernah', 0.9836750030517578)]"
      ]
     },
     "execution_count": 462,
     "metadata": {},
     "output_type": "execute_result"
    }
   ],
   "source": [
    "similar_words = w2v_model.wv.most_similar('prabowo')\n",
    "similar_words"
   ]
  },
  {
   "cell_type": "code",
   "execution_count": 463,
   "metadata": {},
   "outputs": [
    {
     "name": "stdout",
     "output_type": "stream",
     "text": [
      "    Keyword  Similarity\n",
      "0   prabowo     1.00000\n",
      "23      ham     0.99478\n",
      "     Keyword  Similarity\n",
      "8  purnakuwu    0.109508\n",
      "6     mantan    0.103224\n"
     ]
    }
   ],
   "source": [
    "# Contoh penggunaan fungsi\n",
    "keyword = 'prabowo'  # Ganti dengan kata kunci Anda\n",
    "# Ganti 'w2v_model' dengan model Word2Vec yang Anda miliki\n",
    "result_df = calculate_similarity(keyword, w2v_model)\n",
    "print(result_df.head(2))\n",
    "print(result_df.tail(2))"
   ]
  },
  {
   "cell_type": "markdown",
   "metadata": {},
   "source": [
    "### `Model Preparation`"
   ]
  },
  {
   "cell_type": "code",
   "execution_count": 464,
   "metadata": {},
   "outputs": [
    {
     "data": {
      "text/html": [
       "<div>\n",
       "<style scoped>\n",
       "    .dataframe tbody tr th:only-of-type {\n",
       "        vertical-align: middle;\n",
       "    }\n",
       "\n",
       "    .dataframe tbody tr th {\n",
       "        vertical-align: top;\n",
       "    }\n",
       "\n",
       "    .dataframe thead th {\n",
       "        text-align: right;\n",
       "    }\n",
       "</style>\n",
       "<table border=\"1\" class=\"dataframe\">\n",
       "  <thead>\n",
       "    <tr style=\"text-align: right;\">\n",
       "      <th></th>\n",
       "      <th>full_text</th>\n",
       "      <th>text_clean</th>\n",
       "      <th>token</th>\n",
       "      <th>stop</th>\n",
       "      <th>stemmed</th>\n",
       "      <th>untokenize_clean</th>\n",
       "      <th>Label</th>\n",
       "    </tr>\n",
       "  </thead>\n",
       "  <tbody>\n",
       "    <tr>\n",
       "      <th>836</th>\n",
       "      <td>Prabowo-Gibran  pilihan yang diakui oleh ratus...</td>\n",
       "      <td>prabowogibran pilihan yang diakui oleh ratusan...</td>\n",
       "      <td>[prabowogibran, pilihan, yang, diakui, oleh, r...</td>\n",
       "      <td>[prabowogibran, pilihan, diakui, ratusan, mant...</td>\n",
       "      <td>[prabowogibran, pilih, aku, ratus, mantan, kad...</td>\n",
       "      <td>prabowogibran pilih aku ratus mantan kades lur...</td>\n",
       "      <td>positif</td>\n",
       "    </tr>\n",
       "    <tr>\n",
       "      <th>181</th>\n",
       "      <td>Dari Jawa Timur untuk Ganjar-Mahfud: Ngomong d...</td>\n",
       "      <td>dari jawa timur untuk ganjarmahfud ngomong doa...</td>\n",
       "      <td>[dari, jawa, timur, untuk, ganjarmahfud, ngomo...</td>\n",
       "      <td>[jawa, timur, ganjarmahfud, ngomong, doang, ga...</td>\n",
       "      <td>[jawa, timur, ganjarmahfud, ngomong, doang, ga...</td>\n",
       "      <td>jawa timur ganjarmahfud ngomong doang gampang ...</td>\n",
       "      <td>negatif</td>\n",
       "    </tr>\n",
       "  </tbody>\n",
       "</table>\n",
       "</div>"
      ],
      "text/plain": [
       "                                             full_text  \\\n",
       "836  Prabowo-Gibran  pilihan yang diakui oleh ratus...   \n",
       "181  Dari Jawa Timur untuk Ganjar-Mahfud: Ngomong d...   \n",
       "\n",
       "                                            text_clean  \\\n",
       "836  prabowogibran pilihan yang diakui oleh ratusan...   \n",
       "181  dari jawa timur untuk ganjarmahfud ngomong doa...   \n",
       "\n",
       "                                                 token  \\\n",
       "836  [prabowogibran, pilihan, yang, diakui, oleh, r...   \n",
       "181  [dari, jawa, timur, untuk, ganjarmahfud, ngomo...   \n",
       "\n",
       "                                                  stop  \\\n",
       "836  [prabowogibran, pilihan, diakui, ratusan, mant...   \n",
       "181  [jawa, timur, ganjarmahfud, ngomong, doang, ga...   \n",
       "\n",
       "                                               stemmed  \\\n",
       "836  [prabowogibran, pilih, aku, ratus, mantan, kad...   \n",
       "181  [jawa, timur, ganjarmahfud, ngomong, doang, ga...   \n",
       "\n",
       "                                      untokenize_clean    Label  \n",
       "836  prabowogibran pilih aku ratus mantan kades lur...  positif  \n",
       "181  jawa timur ganjarmahfud ngomong doang gampang ...  negatif  "
      ]
     },
     "execution_count": 464,
     "metadata": {},
     "output_type": "execute_result"
    }
   ],
   "source": [
    "df_train.head(2)"
   ]
  },
  {
   "cell_type": "code",
   "execution_count": 465,
   "metadata": {},
   "outputs": [
    {
     "name": "stdout",
     "output_type": "stream",
     "text": [
      "{'prabowo': 1, 'gibran': 2, 'dukung': 3, 'prabowogibran': 4, 'ganjar': 5}\n"
     ]
    }
   ],
   "source": [
    "tokenizer.fit_on_texts(df_train['untokenize_clean'])\n",
    "print(get_top_n_items(tokenizer.word_index, 5, False))"
   ]
  },
  {
   "cell_type": "code",
   "execution_count": 466,
   "metadata": {},
   "outputs": [
    {
     "name": "stdout",
     "output_type": "stream",
     "text": [
      "Total words 1721\n"
     ]
    }
   ],
   "source": [
    "vocab_size = len(tokenizer.word_index) + 1\n",
    "print(\"Total words\", vocab_size)"
   ]
  },
  {
   "cell_type": "code",
   "execution_count": 467,
   "metadata": {},
   "outputs": [
    {
     "name": "stdout",
     "output_type": "stream",
     "text": [
      "Wall time: 21 ms\n"
     ]
    }
   ],
   "source": [
    "%%time\n",
    "x_train = pad_sequences(tokenizer.texts_to_sequences(df_train.untokenize_clean), maxlen=SEQUENCE_LENGTH)\n",
    "x_test = pad_sequences(tokenizer.texts_to_sequences(df_test.untokenize_clean), maxlen=SEQUENCE_LENGTH)"
   ]
  },
  {
   "cell_type": "code",
   "execution_count": 468,
   "metadata": {},
   "outputs": [
    {
     "data": {
      "text/plain": [
       "array([[  0,   0,   0,   0,   0,   0,   0,   0,   0,   0,   0,   0,   0,\n",
       "          0,   0,   0,   0,   0,   0,   0,   0,   0,   0,   0,   0,   0,\n",
       "          0,   0,   0,   0,   0,   0,   0,   0,   0,   0,   0,   0,   0,\n",
       "          0,   0,   0,   0,   0,   0,   0,   0,   0,   0,   0,   0,   0,\n",
       "          0,   0,   0,   0,   0,   0,   0,   0,   0,   0,   0,   0,   0,\n",
       "          0,   0,   0,   0,   0,   0,   0,   0,   0,   0,   0,   0,   0,\n",
       "          0,   0,   0,   0,   0,   0,   0,   0,   0,   0,   0,   0,   4,\n",
       "         20, 109,  43,   7,  11,  63,  12,   8,   9],\n",
       "       [  0,   0,   0,   0,   0,   0,   0,   0,   0,   0,   0,   0,   0,\n",
       "          0,   0,   0,   0,   0,   0,   0,   0,   0,   0,   0,   0,   0,\n",
       "          0,   0,   0,   0,   0,   0,   0,   0,   0,   0,   0,   0,   0,\n",
       "          0,   0,   0,   0,   0,   0,   0,   0,   0,   0,   0,   0,   0,\n",
       "          0,   0,   0,   0,   0,   0,   0,   0,   0,   0,   0,   0,   0,\n",
       "          0,   0,   0,   0,   0,   0,   0,   0,   0,   0,   0,   0,   0,\n",
       "          0,   0,   0,   0,   0,  51, 542, 130, 312, 395, 396, 397,   2,\n",
       "        313,   3,  64,  48,  21,  35, 818, 819, 395]])"
      ]
     },
     "execution_count": 468,
     "metadata": {},
     "output_type": "execute_result"
    }
   ],
   "source": [
    "x_train[:2]"
   ]
  },
  {
   "cell_type": "code",
   "execution_count": 469,
   "metadata": {},
   "outputs": [
    {
     "data": {
      "text/plain": [
       "array([[   0,    0,    0,    0,    0,    0,    0,    0,    0,    0,    0,\n",
       "           0,    0,    0,    0,    0,    0,    0,    0,    0,    0,    0,\n",
       "           0,    0,    0,    0,    0,    0,    0,    0,    0,    0,    0,\n",
       "           0,    0,    0,    0,    0,    0,    0,    0,    0,    0,    0,\n",
       "           0,    0,    0,    0,    0,    0,    0,    0,    0,    0,    0,\n",
       "           0,    0,    0,    0,    0,    0,    0,    0,    0,    0,    0,\n",
       "           0,    0,    0,    0,    0,    0,    0,    0,    0,    0,    0,\n",
       "           0,    0,    0,    0,    0,    0,    0,   13,   16,   41,    5,\n",
       "          14,   84,    6,  134,  119,  194,  136,    2,   56,   59,   42,\n",
       "          10],\n",
       "       [   0,    0,    0,    0,    0,    0,    0,    0,    0,    0,    0,\n",
       "           0,    0,    0,    0,    0,    0,    0,    0,    0,    0,    0,\n",
       "           0,    0,    0,    0,    0,    0,    0,    0,    0,    0,    0,\n",
       "           0,    0,    0,    0,    0,    0,    0,    0,    0,    0,    0,\n",
       "           0,    0,    0,    0,    0,    0,    0,    0,    0,    0,    0,\n",
       "           0,    0,    0,    0,    0,    0,    0,    0,    0,    0,    0,\n",
       "           0,    0,    0,    0,    0,    0,    0,    0,    0,    0,    0,\n",
       "           0,    0,    0,    0,    0,    0,    0,    0,    0,    0,  161,\n",
       "          86,  723, 1619,    2,  258,   79,   10,   68,  123, 1661,  593,\n",
       "        1292]])"
      ]
     },
     "execution_count": 469,
     "metadata": {},
     "output_type": "execute_result"
    }
   ],
   "source": [
    "x_test[:2]"
   ]
  },
  {
   "cell_type": "markdown",
   "metadata": {},
   "source": [
    "### `Encoding`"
   ]
  },
  {
   "cell_type": "code",
   "execution_count": 470,
   "metadata": {},
   "outputs": [
    {
     "data": {
      "text/plain": [
       "['positif', 'negatif', 'positif']"
      ]
     },
     "execution_count": 470,
     "metadata": {},
     "output_type": "execute_result"
    }
   ],
   "source": [
    "# Data target dari dataframe\n",
    "target_train = df_train['Label'].tolist()\n",
    "target_test = df_test['Label'].tolist()\n",
    "target_train[:3]\n"
   ]
  },
  {
   "cell_type": "code",
   "execution_count": 471,
   "metadata": {},
   "outputs": [
    {
     "data": {
      "text/plain": [
       "[0, 1, 0]"
      ]
     },
     "execution_count": 471,
     "metadata": {},
     "output_type": "execute_result"
    }
   ],
   "source": [
    "# Encoding label secara manual\n",
    "y_train_encoded, label_index = manual_label_encoder(target_train)\n",
    "y_test_encoded = [label_index[label] for label in target_test]  # Menggunakan mapping yang sama untuk data test\n",
    "y_train_encoded[:3]"
   ]
  },
  {
   "cell_type": "code",
   "execution_count": 599,
   "metadata": {},
   "outputs": [
    {
     "name": "stdout",
     "output_type": "stream",
     "text": [
      "[[0], [1], [0]]\n",
      "[[1], [1], [0]]\n"
     ]
    }
   ],
   "source": [
    "# Reshape array hasil encoding\n",
    "y_train = reshape_labels(y_train_encoded)\n",
    "y_test = reshape_labels(y_test_encoded)\n",
    "print(y_train[:3])\n",
    "print(y_test[:3])"
   ]
  },
  {
   "cell_type": "code",
   "execution_count": 473,
   "metadata": {},
   "outputs": [
    {
     "data": {
      "text/plain": [
       "array([0, 1])"
      ]
     },
     "execution_count": 473,
     "metadata": {},
     "output_type": "execute_result"
    }
   ],
   "source": [
    "np.unique(y_train)"
   ]
  },
  {
   "cell_type": "markdown",
   "metadata": {},
   "source": [
    "### `Embedding Layer`"
   ]
  },
  {
   "cell_type": "code",
   "execution_count": 521,
   "metadata": {},
   "outputs": [
    {
     "data": {
      "text/plain": [
       "array([[ 0.        ,  0.        ,  0.        , ...,  0.        ,\n",
       "         0.        ,  0.        ],\n",
       "       [ 0.09629598,  0.18890738, -0.0112006 , ..., -0.13138133,\n",
       "         0.13306515,  0.07319795],\n",
       "       [ 0.0610792 ,  0.30105078, -0.06177893, ..., -0.18441232,\n",
       "        -0.0339874 ,  0.00277997],\n",
       "       ...,\n",
       "       [ 0.        ,  0.        ,  0.        , ...,  0.        ,\n",
       "         0.        ,  0.        ],\n",
       "       [ 0.        ,  0.        ,  0.        , ...,  0.        ,\n",
       "         0.        ,  0.        ],\n",
       "       [ 0.        ,  0.        ,  0.        , ...,  0.        ,\n",
       "         0.        ,  0.        ]])"
      ]
     },
     "execution_count": 521,
     "metadata": {},
     "output_type": "execute_result"
    }
   ],
   "source": [
    "embedding_matrix = create_embedding_matrix(vocab_size, tokenizer, w2v_model)\n",
    "embedding_matrix"
   ]
  },
  {
   "cell_type": "markdown",
   "metadata": {},
   "source": [
    "### `Build Model`"
   ]
  },
  {
   "cell_type": "code",
   "execution_count": 570,
   "metadata": {},
   "outputs": [],
   "source": [
    "# Membersihkan session Keras sebelum membuat model baru\n",
    "clear_session()"
   ]
  },
  {
   "cell_type": "code",
   "execution_count": 572,
   "metadata": {},
   "outputs": [],
   "source": [
    "embedding_layer = Embedding(vocab_size, W2V_SIZE, weights=[embedding_matrix], input_length=SEQUENCE_LENGTH, trainable=False)"
   ]
  },
  {
   "cell_type": "code",
   "execution_count": 574,
   "metadata": {},
   "outputs": [
    {
     "name": "stdout",
     "output_type": "stream",
     "text": [
      "Model: \"sequential_1\"\n",
      "_________________________________________________________________\n",
      " Layer (type)                Output Shape              Param #   \n",
      "=================================================================\n",
      " embedding_1 (Embedding)     (None, 100, 300)          516300    \n",
      "                                                                 \n",
      " dropout_1 (Dropout)         (None, 100, 300)          0         \n",
      "                                                                 \n",
      " lstm_1 (LSTM)               (None, 100)               160400    \n",
      "                                                                 \n",
      " dense_1 (Dense)             (None, 1)                 101       \n",
      "                                                                 \n",
      "=================================================================\n",
      "Total params: 676,801\n",
      "Trainable params: 160,501\n",
      "Non-trainable params: 516,300\n",
      "_________________________________________________________________\n"
     ]
    }
   ],
   "source": [
    "lstm_model = Sequential()\n",
    "lstm_model.add(embedding_layer)\n",
    "lstm_model.add(Dropout(0.5))\n",
    "lstm_model.add(LSTM(100, dropout=0.2, recurrent_dropout=0.2))\n",
    "lstm_model.add(Dense(1, activation='sigmoid'))\n",
    "\n",
    "lstm_model.summary()"
   ]
  },
  {
   "cell_type": "code",
   "execution_count": 575,
   "metadata": {},
   "outputs": [],
   "source": [
    "lstm_model.compile(loss='binary_crossentropy',\n",
    "              optimizer=\"adam\",\n",
    "              metrics=['accuracy'])"
   ]
  },
  {
   "cell_type": "code",
   "execution_count": 478,
   "metadata": {},
   "outputs": [
    {
     "ename": "ValueError",
     "evalue": "Exception encountered when calling layer \"custom_lstm_5\" (type CustomLSTM).\n\nin user code:\n\n    File \"C:\\Users\\whisn\\AppData\\Local\\Temp\\ipykernel_40436\\1237685356.py\", line 37, in call  *\n        concat_inputs = tensorflow.concat([inputs, h_tm1], axis=-1)\n\n    ValueError: Shape must be rank 3 but is rank 2 for '{{node custom_lstm_5/concat}} = ConcatV2[N=2, T=DT_FLOAT, Tidx=DT_INT32](custom_lstm_5/dropout/Identity, custom_lstm_5/zeros, custom_lstm_5/concat/axis)' with input shapes: [?,100,300], [?,100], [].\n\n\nCall arguments received by layer \"custom_lstm_5\" (type CustomLSTM):\n  • inputs=tf.Tensor(shape=(None, 100, 300), dtype=float32)\n  • states=None\n  • training=None",
     "output_type": "error",
     "traceback": [
      "\u001b[1;31m---------------------------------------------------------------------------\u001b[0m",
      "\u001b[1;31mValueError\u001b[0m                                Traceback (most recent call last)",
      "\u001b[1;32m~\\AppData\\Local\\Temp\\ipykernel_40436\\981928960.py\u001b[0m in \u001b[0;36m<module>\u001b[1;34m\u001b[0m\n\u001b[0;32m      2\u001b[0m \u001b[0mlstm_custom_model\u001b[0m\u001b[1;33m.\u001b[0m\u001b[0madd\u001b[0m\u001b[1;33m(\u001b[0m\u001b[0membedding_layer\u001b[0m\u001b[1;33m)\u001b[0m\u001b[1;33m\u001b[0m\u001b[1;33m\u001b[0m\u001b[0m\n\u001b[0;32m      3\u001b[0m \u001b[0mlstm_custom_model\u001b[0m\u001b[1;33m.\u001b[0m\u001b[0madd\u001b[0m\u001b[1;33m(\u001b[0m\u001b[0mDropout\u001b[0m\u001b[1;33m(\u001b[0m\u001b[1;36m0.5\u001b[0m\u001b[1;33m)\u001b[0m\u001b[1;33m)\u001b[0m\u001b[1;33m\u001b[0m\u001b[1;33m\u001b[0m\u001b[0m\n\u001b[1;32m----> 4\u001b[1;33m \u001b[0mlstm_custom_model\u001b[0m\u001b[1;33m.\u001b[0m\u001b[0madd\u001b[0m\u001b[1;33m(\u001b[0m\u001b[0mCustomLSTM\u001b[0m\u001b[1;33m(\u001b[0m\u001b[0munits\u001b[0m\u001b[1;33m=\u001b[0m\u001b[1;36m100\u001b[0m\u001b[1;33m,\u001b[0m \u001b[0mdropout\u001b[0m\u001b[1;33m=\u001b[0m\u001b[1;36m0.2\u001b[0m\u001b[1;33m,\u001b[0m \u001b[0mrecurrent_dropout\u001b[0m\u001b[1;33m=\u001b[0m\u001b[1;36m0.2\u001b[0m\u001b[1;33m)\u001b[0m\u001b[1;33m)\u001b[0m\u001b[1;33m\u001b[0m\u001b[1;33m\u001b[0m\u001b[0m\n\u001b[0m\u001b[0;32m      5\u001b[0m \u001b[0mlstm_custom_model\u001b[0m\u001b[1;33m.\u001b[0m\u001b[0madd\u001b[0m\u001b[1;33m(\u001b[0m\u001b[0mDense\u001b[0m\u001b[1;33m(\u001b[0m\u001b[1;36m1\u001b[0m\u001b[1;33m,\u001b[0m \u001b[0mactivation\u001b[0m\u001b[1;33m=\u001b[0m\u001b[1;34m'sigmoid'\u001b[0m\u001b[1;33m)\u001b[0m\u001b[1;33m)\u001b[0m\u001b[1;33m\u001b[0m\u001b[1;33m\u001b[0m\u001b[0m\n\u001b[0;32m      6\u001b[0m \u001b[1;33m\u001b[0m\u001b[0m\n",
      "\u001b[1;32mc:\\Users\\whisn\\.conda\\envs\\stki\\lib\\site-packages\\tensorflow\\python\\trackable\\base.py\u001b[0m in \u001b[0;36m_method_wrapper\u001b[1;34m(self, *args, **kwargs)\u001b[0m\n\u001b[0;32m    203\u001b[0m     \u001b[0mself\u001b[0m\u001b[1;33m.\u001b[0m\u001b[0m_self_setattr_tracking\u001b[0m \u001b[1;33m=\u001b[0m \u001b[1;32mFalse\u001b[0m  \u001b[1;31m# pylint: disable=protected-access\u001b[0m\u001b[1;33m\u001b[0m\u001b[1;33m\u001b[0m\u001b[0m\n\u001b[0;32m    204\u001b[0m     \u001b[1;32mtry\u001b[0m\u001b[1;33m:\u001b[0m\u001b[1;33m\u001b[0m\u001b[1;33m\u001b[0m\u001b[0m\n\u001b[1;32m--> 205\u001b[1;33m       \u001b[0mresult\u001b[0m \u001b[1;33m=\u001b[0m \u001b[0mmethod\u001b[0m\u001b[1;33m(\u001b[0m\u001b[0mself\u001b[0m\u001b[1;33m,\u001b[0m \u001b[1;33m*\u001b[0m\u001b[0margs\u001b[0m\u001b[1;33m,\u001b[0m \u001b[1;33m**\u001b[0m\u001b[0mkwargs\u001b[0m\u001b[1;33m)\u001b[0m\u001b[1;33m\u001b[0m\u001b[1;33m\u001b[0m\u001b[0m\n\u001b[0m\u001b[0;32m    206\u001b[0m     \u001b[1;32mfinally\u001b[0m\u001b[1;33m:\u001b[0m\u001b[1;33m\u001b[0m\u001b[1;33m\u001b[0m\u001b[0m\n\u001b[0;32m    207\u001b[0m       \u001b[0mself\u001b[0m\u001b[1;33m.\u001b[0m\u001b[0m_self_setattr_tracking\u001b[0m \u001b[1;33m=\u001b[0m \u001b[0mprevious_value\u001b[0m  \u001b[1;31m# pylint: disable=protected-access\u001b[0m\u001b[1;33m\u001b[0m\u001b[1;33m\u001b[0m\u001b[0m\n",
      "\u001b[1;32mc:\\Users\\whisn\\.conda\\envs\\stki\\lib\\site-packages\\keras\\utils\\traceback_utils.py\u001b[0m in \u001b[0;36merror_handler\u001b[1;34m(*args, **kwargs)\u001b[0m\n\u001b[0;32m     68\u001b[0m             \u001b[1;31m# To get the full stack trace, call:\u001b[0m\u001b[1;33m\u001b[0m\u001b[1;33m\u001b[0m\u001b[1;33m\u001b[0m\u001b[0m\n\u001b[0;32m     69\u001b[0m             \u001b[1;31m# `tf.debugging.disable_traceback_filtering()`\u001b[0m\u001b[1;33m\u001b[0m\u001b[1;33m\u001b[0m\u001b[1;33m\u001b[0m\u001b[0m\n\u001b[1;32m---> 70\u001b[1;33m             \u001b[1;32mraise\u001b[0m \u001b[0me\u001b[0m\u001b[1;33m.\u001b[0m\u001b[0mwith_traceback\u001b[0m\u001b[1;33m(\u001b[0m\u001b[0mfiltered_tb\u001b[0m\u001b[1;33m)\u001b[0m \u001b[1;32mfrom\u001b[0m \u001b[1;32mNone\u001b[0m\u001b[1;33m\u001b[0m\u001b[1;33m\u001b[0m\u001b[0m\n\u001b[0m\u001b[0;32m     71\u001b[0m         \u001b[1;32mfinally\u001b[0m\u001b[1;33m:\u001b[0m\u001b[1;33m\u001b[0m\u001b[1;33m\u001b[0m\u001b[0m\n\u001b[0;32m     72\u001b[0m             \u001b[1;32mdel\u001b[0m \u001b[0mfiltered_tb\u001b[0m\u001b[1;33m\u001b[0m\u001b[1;33m\u001b[0m\u001b[0m\n",
      "\u001b[1;32m~\\AppData\\Local\\Temp\\__autograph_generated_filepyosg31g.py\u001b[0m in \u001b[0;36mtf__call\u001b[1;34m(self, inputs, states, training)\u001b[0m\n\u001b[0;32m     42\u001b[0m                     \u001b[1;32mpass\u001b[0m\u001b[1;33m\u001b[0m\u001b[1;33m\u001b[0m\u001b[0m\n\u001b[0;32m     43\u001b[0m                 \u001b[0mag__\u001b[0m\u001b[1;33m.\u001b[0m\u001b[0mif_stmt\u001b[0m\u001b[1;33m(\u001b[0m\u001b[0mag__\u001b[0m\u001b[1;33m.\u001b[0m\u001b[0mand_\u001b[0m\u001b[1;33m(\u001b[0m\u001b[1;33m(\u001b[0m\u001b[1;32mlambda\u001b[0m \u001b[1;33m:\u001b[0m \u001b[0mag__\u001b[0m\u001b[1;33m.\u001b[0m\u001b[0mand_\u001b[0m\u001b[1;33m(\u001b[0m\u001b[1;33m(\u001b[0m\u001b[1;32mlambda\u001b[0m \u001b[1;33m:\u001b[0m \u001b[1;33m(\u001b[0m\u001b[1;36m0\u001b[0m \u001b[1;33m<\u001b[0m \u001b[0mag__\u001b[0m\u001b[1;33m.\u001b[0m\u001b[0mld\u001b[0m\u001b[1;33m(\u001b[0m\u001b[0mself\u001b[0m\u001b[1;33m)\u001b[0m\u001b[1;33m.\u001b[0m\u001b[0mdropout\u001b[0m\u001b[1;33m)\u001b[0m\u001b[1;33m)\u001b[0m\u001b[1;33m,\u001b[0m \u001b[1;33m(\u001b[0m\u001b[1;32mlambda\u001b[0m \u001b[1;33m:\u001b[0m \u001b[1;33m(\u001b[0m\u001b[0mag__\u001b[0m\u001b[1;33m.\u001b[0m\u001b[0mld\u001b[0m\u001b[1;33m(\u001b[0m\u001b[0mself\u001b[0m\u001b[1;33m)\u001b[0m\u001b[1;33m.\u001b[0m\u001b[0mdropout\u001b[0m \u001b[1;33m<\u001b[0m \u001b[1;36m1\u001b[0m\u001b[1;33m)\u001b[0m\u001b[1;33m)\u001b[0m\u001b[1;33m)\u001b[0m\u001b[1;33m)\u001b[0m\u001b[1;33m,\u001b[0m \u001b[1;33m(\u001b[0m\u001b[1;32mlambda\u001b[0m \u001b[1;33m:\u001b[0m \u001b[1;33m(\u001b[0m\u001b[0mag__\u001b[0m\u001b[1;33m.\u001b[0m\u001b[0mld\u001b[0m\u001b[1;33m(\u001b[0m\u001b[0mself\u001b[0m\u001b[1;33m)\u001b[0m\u001b[1;33m.\u001b[0m\u001b[0mdropout\u001b[0m \u001b[1;32mis\u001b[0m \u001b[1;32mnot\u001b[0m \u001b[1;32mNone\u001b[0m\u001b[1;33m)\u001b[0m\u001b[1;33m)\u001b[0m\u001b[1;33m)\u001b[0m\u001b[1;33m,\u001b[0m \u001b[0mif_body_1\u001b[0m\u001b[1;33m,\u001b[0m \u001b[0melse_body_1\u001b[0m\u001b[1;33m,\u001b[0m \u001b[0mget_state_1\u001b[0m\u001b[1;33m,\u001b[0m \u001b[0mset_state_1\u001b[0m\u001b[1;33m,\u001b[0m \u001b[1;33m(\u001b[0m\u001b[1;34m'inputs'\u001b[0m\u001b[1;33m,\u001b[0m\u001b[1;33m)\u001b[0m\u001b[1;33m,\u001b[0m \u001b[1;36m1\u001b[0m\u001b[1;33m)\u001b[0m\u001b[1;33m\u001b[0m\u001b[1;33m\u001b[0m\u001b[0m\n\u001b[1;32m---> 44\u001b[1;33m                 \u001b[0mconcat_inputs\u001b[0m \u001b[1;33m=\u001b[0m \u001b[0mag__\u001b[0m\u001b[1;33m.\u001b[0m\u001b[0mconverted_call\u001b[0m\u001b[1;33m(\u001b[0m\u001b[0mag__\u001b[0m\u001b[1;33m.\u001b[0m\u001b[0mld\u001b[0m\u001b[1;33m(\u001b[0m\u001b[0mtensorflow\u001b[0m\u001b[1;33m)\u001b[0m\u001b[1;33m.\u001b[0m\u001b[0mconcat\u001b[0m\u001b[1;33m,\u001b[0m \u001b[1;33m(\u001b[0m\u001b[1;33m[\u001b[0m\u001b[0mag__\u001b[0m\u001b[1;33m.\u001b[0m\u001b[0mld\u001b[0m\u001b[1;33m(\u001b[0m\u001b[0minputs\u001b[0m\u001b[1;33m)\u001b[0m\u001b[1;33m,\u001b[0m \u001b[0mag__\u001b[0m\u001b[1;33m.\u001b[0m\u001b[0mld\u001b[0m\u001b[1;33m(\u001b[0m\u001b[0mh_tm1\u001b[0m\u001b[1;33m)\u001b[0m\u001b[1;33m]\u001b[0m\u001b[1;33m,\u001b[0m\u001b[1;33m)\u001b[0m\u001b[1;33m,\u001b[0m \u001b[0mdict\u001b[0m\u001b[1;33m(\u001b[0m\u001b[0maxis\u001b[0m\u001b[1;33m=\u001b[0m\u001b[1;33m(\u001b[0m\u001b[1;33m-\u001b[0m \u001b[1;36m1\u001b[0m\u001b[1;33m)\u001b[0m\u001b[1;33m)\u001b[0m\u001b[1;33m,\u001b[0m \u001b[0mfscope\u001b[0m\u001b[1;33m)\u001b[0m\u001b[1;33m\u001b[0m\u001b[1;33m\u001b[0m\u001b[0m\n\u001b[0m\u001b[0;32m     45\u001b[0m                 \u001b[0mgate_inputs\u001b[0m \u001b[1;33m=\u001b[0m \u001b[1;33m(\u001b[0m\u001b[0mag__\u001b[0m\u001b[1;33m.\u001b[0m\u001b[0mconverted_call\u001b[0m\u001b[1;33m(\u001b[0m\u001b[0mag__\u001b[0m\u001b[1;33m.\u001b[0m\u001b[0mld\u001b[0m\u001b[1;33m(\u001b[0m\u001b[0mtensorflow\u001b[0m\u001b[1;33m)\u001b[0m\u001b[1;33m.\u001b[0m\u001b[0mmatmul\u001b[0m\u001b[1;33m,\u001b[0m \u001b[1;33m(\u001b[0m\u001b[0mag__\u001b[0m\u001b[1;33m.\u001b[0m\u001b[0mld\u001b[0m\u001b[1;33m(\u001b[0m\u001b[0mconcat_inputs\u001b[0m\u001b[1;33m)\u001b[0m\u001b[1;33m,\u001b[0m \u001b[0mag__\u001b[0m\u001b[1;33m.\u001b[0m\u001b[0mld\u001b[0m\u001b[1;33m(\u001b[0m\u001b[0mself\u001b[0m\u001b[1;33m)\u001b[0m\u001b[1;33m.\u001b[0m\u001b[0mkernel\u001b[0m\u001b[1;33m)\u001b[0m\u001b[1;33m,\u001b[0m \u001b[1;32mNone\u001b[0m\u001b[1;33m,\u001b[0m \u001b[0mfscope\u001b[0m\u001b[1;33m)\u001b[0m \u001b[1;33m+\u001b[0m \u001b[0mag__\u001b[0m\u001b[1;33m.\u001b[0m\u001b[0mld\u001b[0m\u001b[1;33m(\u001b[0m\u001b[0mself\u001b[0m\u001b[1;33m)\u001b[0m\u001b[1;33m.\u001b[0m\u001b[0mbias\u001b[0m\u001b[1;33m)\u001b[0m\u001b[1;33m\u001b[0m\u001b[1;33m\u001b[0m\u001b[0m\n\u001b[0;32m     46\u001b[0m                 \u001b[1;33m(\u001b[0m\u001b[0mi\u001b[0m\u001b[1;33m,\u001b[0m \u001b[0mf\u001b[0m\u001b[1;33m,\u001b[0m \u001b[0mg\u001b[0m\u001b[1;33m,\u001b[0m \u001b[0mo\u001b[0m\u001b[1;33m)\u001b[0m \u001b[1;33m=\u001b[0m \u001b[0mag__\u001b[0m\u001b[1;33m.\u001b[0m\u001b[0mconverted_call\u001b[0m\u001b[1;33m(\u001b[0m\u001b[0mag__\u001b[0m\u001b[1;33m.\u001b[0m\u001b[0mld\u001b[0m\u001b[1;33m(\u001b[0m\u001b[0mtensorflow\u001b[0m\u001b[1;33m)\u001b[0m\u001b[1;33m.\u001b[0m\u001b[0msplit\u001b[0m\u001b[1;33m,\u001b[0m \u001b[1;33m(\u001b[0m\u001b[0mag__\u001b[0m\u001b[1;33m.\u001b[0m\u001b[0mld\u001b[0m\u001b[1;33m(\u001b[0m\u001b[0mgate_inputs\u001b[0m\u001b[1;33m)\u001b[0m\u001b[1;33m,\u001b[0m \u001b[1;36m4\u001b[0m\u001b[1;33m)\u001b[0m\u001b[1;33m,\u001b[0m \u001b[0mdict\u001b[0m\u001b[1;33m(\u001b[0m\u001b[0maxis\u001b[0m\u001b[1;33m=\u001b[0m\u001b[1;33m(\u001b[0m\u001b[1;33m-\u001b[0m \u001b[1;36m1\u001b[0m\u001b[1;33m)\u001b[0m\u001b[1;33m)\u001b[0m\u001b[1;33m,\u001b[0m \u001b[0mfscope\u001b[0m\u001b[1;33m)\u001b[0m\u001b[1;33m\u001b[0m\u001b[1;33m\u001b[0m\u001b[0m\n",
      "\u001b[1;31mValueError\u001b[0m: Exception encountered when calling layer \"custom_lstm_5\" (type CustomLSTM).\n\nin user code:\n\n    File \"C:\\Users\\whisn\\AppData\\Local\\Temp\\ipykernel_40436\\1237685356.py\", line 37, in call  *\n        concat_inputs = tensorflow.concat([inputs, h_tm1], axis=-1)\n\n    ValueError: Shape must be rank 3 but is rank 2 for '{{node custom_lstm_5/concat}} = ConcatV2[N=2, T=DT_FLOAT, Tidx=DT_INT32](custom_lstm_5/dropout/Identity, custom_lstm_5/zeros, custom_lstm_5/concat/axis)' with input shapes: [?,100,300], [?,100], [].\n\n\nCall arguments received by layer \"custom_lstm_5\" (type CustomLSTM):\n  • inputs=tf.Tensor(shape=(None, 100, 300), dtype=float32)\n  • states=None\n  • training=None"
     ]
    }
   ],
   "source": [
    "lstm_custom_model = Sequential()\n",
    "lstm_custom_model.add(embedding_layer)\n",
    "lstm_custom_model.add(Dropout(0.5))\n",
    "lstm_custom_model.add(CustomLSTM(units=100, dropout=0.2, recurrent_dropout=0.2))\n",
    "lstm_custom_model.add(Dense(1, activation='sigmoid'))\n",
    "\n",
    "lstm_custom_model.summary()"
   ]
  },
  {
   "cell_type": "code",
   "execution_count": 576,
   "metadata": {},
   "outputs": [
    {
     "name": "stdout",
     "output_type": "stream",
     "text": [
      "Model: \"sequential_2\"\n",
      "_________________________________________________________________\n",
      " Layer (type)                Output Shape              Param #   \n",
      "=================================================================\n",
      " embedding_1 (Embedding)     (None, 100, 300)          516300    \n",
      "                                                                 \n",
      " dropout_2 (Dropout)         (None, 100, 300)          0         \n",
      "                                                                 \n",
      " gru (GRU)                   (None, 100)               120600    \n",
      "                                                                 \n",
      " dense_2 (Dense)             (None, 1)                 101       \n",
      "                                                                 \n",
      "=================================================================\n",
      "Total params: 637,001\n",
      "Trainable params: 120,701\n",
      "Non-trainable params: 516,300\n",
      "_________________________________________________________________\n"
     ]
    }
   ],
   "source": [
    "gru_model = Sequential()\n",
    "gru_model.add(embedding_layer)\n",
    "gru_model.add(Dropout(0.5))\n",
    "gru_model.add(GRU(units=100, dropout=0.2, recurrent_dropout=0.2))\n",
    "gru_model.add(Dense(1, activation='sigmoid'))\n",
    "\n",
    "gru_model.summary()"
   ]
  },
  {
   "cell_type": "code",
   "execution_count": 577,
   "metadata": {},
   "outputs": [],
   "source": [
    "gru_model.compile(loss='binary_crossentropy',\n",
    "              optimizer=\"adam\",\n",
    "              metrics=['accuracy'])"
   ]
  },
  {
   "cell_type": "code",
   "execution_count": 578,
   "metadata": {},
   "outputs": [],
   "source": [
    "models = []\n",
    "model_names = ['LSTM', 'GRU']\n",
    "models.append(lstm_model)\n",
    "models.append(gru_model)"
   ]
  },
  {
   "cell_type": "markdown",
   "metadata": {},
   "source": [
    "### `Train`"
   ]
  },
  {
   "cell_type": "code",
   "execution_count": 579,
   "metadata": {},
   "outputs": [
    {
     "data": {
      "text/plain": [
       "array([[  0,   0,   0,   0,   0,   0,   0,   0,   0,   0,   0,   0,   0,\n",
       "          0,   0,   0,   0,   0,   0,   0,   0,   0,   0,   0,   0,   0,\n",
       "          0,   0,   0,   0,   0,   0,   0,   0,   0,   0,   0,   0,   0,\n",
       "          0,   0,   0,   0,   0,   0,   0,   0,   0,   0,   0,   0,   0,\n",
       "          0,   0,   0,   0,   0,   0,   0,   0,   0,   0,   0,   0,   0,\n",
       "          0,   0,   0,   0,   0,   0,   0,   0,   0,   0,   0,   0,   0,\n",
       "          0,   0,   0,   0,   0,   0,   0,   0,   0,   0,   0,   0,   4,\n",
       "         20, 109,  43,   7,  11,  63,  12,   8,   9]])"
      ]
     },
     "execution_count": 579,
     "metadata": {},
     "output_type": "execute_result"
    }
   ],
   "source": [
    "x_train[:1]"
   ]
  },
  {
   "cell_type": "code",
   "execution_count": 600,
   "metadata": {},
   "outputs": [],
   "source": [
    "# Ubah x_train dan y_train menjadi tensor\n",
    "x_train_tensor = tensorflow.convert_to_tensor(x_train)\n",
    "y_train_tensor = tensorflow.convert_to_tensor(y_train)\n",
    "x_test_tensor = tensorflow.convert_to_tensor(x_test)\n",
    "y_test_tensor = tensorflow.convert_to_tensor(y_test)"
   ]
  },
  {
   "cell_type": "code",
   "execution_count": 582,
   "metadata": {},
   "outputs": [
    {
     "data": {
      "text/plain": [
       "<tf.Tensor: shape=(1, 100), dtype=int32, numpy=\n",
       "array([[  0,   0,   0,   0,   0,   0,   0,   0,   0,   0,   0,   0,   0,\n",
       "          0,   0,   0,   0,   0,   0,   0,   0,   0,   0,   0,   0,   0,\n",
       "          0,   0,   0,   0,   0,   0,   0,   0,   0,   0,   0,   0,   0,\n",
       "          0,   0,   0,   0,   0,   0,   0,   0,   0,   0,   0,   0,   0,\n",
       "          0,   0,   0,   0,   0,   0,   0,   0,   0,   0,   0,   0,   0,\n",
       "          0,   0,   0,   0,   0,   0,   0,   0,   0,   0,   0,   0,   0,\n",
       "          0,   0,   0,   0,   0,   0,   0,   0,   0,   0,   0,   0,   4,\n",
       "         20, 109,  43,   7,  11,  63,  12,   8,   9]])>"
      ]
     },
     "execution_count": 582,
     "metadata": {},
     "output_type": "execute_result"
    }
   ],
   "source": [
    "x_train_tensor[:1]"
   ]
  },
  {
   "cell_type": "code",
   "execution_count": 583,
   "metadata": {},
   "outputs": [],
   "source": [
    "callbacks = [ ReduceLROnPlateau(monitor='val_loss', patience=5, cooldown=0),\n",
    "              EarlyStopping(monitor='val_accuracy', min_delta=1e-4, patience=5)]"
   ]
  },
  {
   "cell_type": "code",
   "execution_count": 584,
   "metadata": {},
   "outputs": [
    {
     "name": "stdout",
     "output_type": "stream",
     "text": [
      "Epoch 1/50\n"
     ]
    },
    {
     "name": "stdout",
     "output_type": "stream",
     "text": [
      "1/1 [==============================] - 9s 9s/step - loss: 0.6841 - accuracy: 0.5953 - val_loss: 0.6178 - val_accuracy: 0.8710 - lr: 0.0010\n",
      "Epoch 2/50\n",
      "1/1 [==============================] - 3s 3s/step - loss: 0.6215 - accuracy: 0.8348 - val_loss: 0.5578 - val_accuracy: 0.8710 - lr: 0.0010\n",
      "Epoch 3/50\n",
      "1/1 [==============================] - 4s 4s/step - loss: 0.5658 - accuracy: 0.8457 - val_loss: 0.5038 - val_accuracy: 0.8710 - lr: 0.0010\n",
      "Epoch 4/50\n",
      "1/1 [==============================] - 3s 3s/step - loss: 0.5154 - accuracy: 0.8530 - val_loss: 0.4547 - val_accuracy: 0.8710 - lr: 0.0010\n",
      "Epoch 5/50\n",
      "1/1 [==============================] - 4s 4s/step - loss: 0.4683 - accuracy: 0.8494 - val_loss: 0.4103 - val_accuracy: 0.8710 - lr: 0.0010\n",
      "Epoch 6/50\n",
      "1/1 [==============================] - 4s 4s/step - loss: 0.4263 - accuracy: 0.8548 - val_loss: 0.3712 - val_accuracy: 0.8710 - lr: 0.0010\n",
      "Epoch 1/50\n",
      "1/1 [==============================] - 8s 8s/step - loss: 0.7332 - accuracy: 0.3448 - val_loss: 0.6520 - val_accuracy: 0.8710 - lr: 0.0010\n",
      "Epoch 2/50\n",
      "1/1 [==============================] - 3s 3s/step - loss: 0.6583 - accuracy: 0.7187 - val_loss: 0.5875 - val_accuracy: 0.8710 - lr: 0.0010\n",
      "Epoch 3/50\n",
      "1/1 [==============================] - 3s 3s/step - loss: 0.6009 - accuracy: 0.8221 - val_loss: 0.5352 - val_accuracy: 0.8710 - lr: 0.0010\n",
      "Epoch 4/50\n",
      "1/1 [==============================] - 3s 3s/step - loss: 0.5512 - accuracy: 0.8276 - val_loss: 0.4925 - val_accuracy: 0.8710 - lr: 0.0010\n",
      "Epoch 5/50\n",
      "1/1 [==============================] - 2s 2s/step - loss: 0.5091 - accuracy: 0.8294 - val_loss: 0.4573 - val_accuracy: 0.8710 - lr: 0.0010\n",
      "Epoch 6/50\n",
      "1/1 [==============================] - 2s 2s/step - loss: 0.4703 - accuracy: 0.8385 - val_loss: 0.4279 - val_accuracy: 0.8710 - lr: 0.0010\n"
     ]
    }
   ],
   "source": [
    "histories = []  # Untuk menyimpan riwayat pelatihan setiap model\n",
    "\n",
    "for model in models:\n",
    "    history = model.fit(x_train_tensor, y_train_tensor,\n",
    "                        batch_size=BATCH_SIZE,\n",
    "                        epochs=EPOCHS,\n",
    "                        validation_split=0.1,\n",
    "                        verbose=1,\n",
    "                        callbacks=callbacks)\n",
    "    histories.append(history)\n"
   ]
  },
  {
   "cell_type": "code",
   "execution_count": 585,
   "metadata": {},
   "outputs": [
    {
     "name": "stdout",
     "output_type": "stream",
     "text": [
      "model LSTM: 0.8548094630241394\n",
      "model GRU: 0.8384755253791809\n"
     ]
    }
   ],
   "source": [
    "# Menampilkan akurasi terakhir dari setiap model\n",
    "for idx, history in enumerate(histories):\n",
    "    last_accuracy = history.history['accuracy'][-1]  # Untuk mendapatkan akurasi terakhir\n",
    "    print(f\"model {model_names[idx]}: {last_accuracy}\")"
   ]
  },
  {
   "cell_type": "code",
   "execution_count": 586,
   "metadata": {},
   "outputs": [],
   "source": [
    "lstm_model.save('lstm.h5')\n",
    "gru_model.save('gru.h5')"
   ]
  },
  {
   "cell_type": "markdown",
   "metadata": {},
   "source": [
    "### `Evaluate`"
   ]
  },
  {
   "cell_type": "code",
   "execution_count": 605,
   "metadata": {},
   "outputs": [
    {
     "name": "stdout",
     "output_type": "stream",
     "text": [
      "9/9 [==============================] - 1s 134ms/step\n",
      "Model LSTM - Accuracy: 0.8441064357757568\n",
      "9/9 [==============================] - 1s 99ms/step\n",
      "Model GRU - Accuracy: 0.8212927579879761\n"
     ]
    }
   ],
   "source": [
    "for i, model in enumerate(models): \n",
    "    # print(i)\n",
    "    accuracy = manual_evaluate(model, x_test_tensor, y_test_tensor)\n",
    "    print(f\"Model {model_names[i]} - Accuracy: {accuracy}\")"
   ]
  },
  {
   "cell_type": "code",
   "execution_count": 604,
   "metadata": {},
   "outputs": [
    {
     "data": {
      "text/plain": [
       "<tf.Tensor: shape=(263, 1), dtype=int32, numpy=\n",
       "array([[1],\n",
       "       [1],\n",
       "       [0],\n",
       "       [1],\n",
       "       [0],\n",
       "       [1],\n",
       "       [1],\n",
       "       [0],\n",
       "       [0],\n",
       "       [1],\n",
       "       [1],\n",
       "       [0],\n",
       "       [0],\n",
       "       [0],\n",
       "       [1],\n",
       "       [0],\n",
       "       [0],\n",
       "       [0],\n",
       "       [0],\n",
       "       [1],\n",
       "       [1],\n",
       "       [0],\n",
       "       [1],\n",
       "       [1],\n",
       "       [0],\n",
       "       [0],\n",
       "       [0],\n",
       "       [0],\n",
       "       [0],\n",
       "       [0],\n",
       "       [1],\n",
       "       [1],\n",
       "       [1],\n",
       "       [0],\n",
       "       [0],\n",
       "       [1],\n",
       "       [1],\n",
       "       [1],\n",
       "       [1],\n",
       "       [1],\n",
       "       [0],\n",
       "       [1],\n",
       "       [1],\n",
       "       [1],\n",
       "       [0],\n",
       "       [1],\n",
       "       [1],\n",
       "       [0],\n",
       "       [1],\n",
       "       [1],\n",
       "       [0],\n",
       "       [1],\n",
       "       [0],\n",
       "       [1],\n",
       "       [1],\n",
       "       [1],\n",
       "       [1],\n",
       "       [1],\n",
       "       [1],\n",
       "       [1],\n",
       "       [0],\n",
       "       [0],\n",
       "       [1],\n",
       "       [1],\n",
       "       [0],\n",
       "       [0],\n",
       "       [0],\n",
       "       [1],\n",
       "       [1],\n",
       "       [0],\n",
       "       [0],\n",
       "       [1],\n",
       "       [0],\n",
       "       [1],\n",
       "       [0],\n",
       "       [1],\n",
       "       [1],\n",
       "       [0],\n",
       "       [0],\n",
       "       [1],\n",
       "       [1],\n",
       "       [1],\n",
       "       [1],\n",
       "       [1],\n",
       "       [0],\n",
       "       [1],\n",
       "       [1],\n",
       "       [1],\n",
       "       [0],\n",
       "       [1],\n",
       "       [0],\n",
       "       [1],\n",
       "       [0],\n",
       "       [1],\n",
       "       [1],\n",
       "       [1],\n",
       "       [1],\n",
       "       [0],\n",
       "       [1],\n",
       "       [1],\n",
       "       [1],\n",
       "       [1],\n",
       "       [1],\n",
       "       [1],\n",
       "       [1],\n",
       "       [1],\n",
       "       [0],\n",
       "       [0],\n",
       "       [0],\n",
       "       [0],\n",
       "       [0],\n",
       "       [1],\n",
       "       [0],\n",
       "       [1],\n",
       "       [1],\n",
       "       [1],\n",
       "       [0],\n",
       "       [0],\n",
       "       [0],\n",
       "       [0],\n",
       "       [0],\n",
       "       [0],\n",
       "       [1],\n",
       "       [0],\n",
       "       [0],\n",
       "       [1],\n",
       "       [1],\n",
       "       [1],\n",
       "       [1],\n",
       "       [1],\n",
       "       [1],\n",
       "       [1],\n",
       "       [0],\n",
       "       [0],\n",
       "       [1],\n",
       "       [1],\n",
       "       [0],\n",
       "       [0],\n",
       "       [0],\n",
       "       [0],\n",
       "       [1],\n",
       "       [1],\n",
       "       [1],\n",
       "       [1],\n",
       "       [0],\n",
       "       [0],\n",
       "       [1],\n",
       "       [0],\n",
       "       [1],\n",
       "       [1],\n",
       "       [1],\n",
       "       [0],\n",
       "       [1],\n",
       "       [0],\n",
       "       [0],\n",
       "       [0],\n",
       "       [0],\n",
       "       [0],\n",
       "       [1],\n",
       "       [0],\n",
       "       [0],\n",
       "       [0],\n",
       "       [1],\n",
       "       [1],\n",
       "       [1],\n",
       "       [0],\n",
       "       [0],\n",
       "       [1],\n",
       "       [1],\n",
       "       [1],\n",
       "       [1],\n",
       "       [1],\n",
       "       [1],\n",
       "       [0],\n",
       "       [0],\n",
       "       [0],\n",
       "       [1],\n",
       "       [1],\n",
       "       [0],\n",
       "       [0],\n",
       "       [0],\n",
       "       [1],\n",
       "       [1],\n",
       "       [1],\n",
       "       [0],\n",
       "       [1],\n",
       "       [0],\n",
       "       [0],\n",
       "       [0],\n",
       "       [1],\n",
       "       [1],\n",
       "       [0],\n",
       "       [0],\n",
       "       [1],\n",
       "       [0],\n",
       "       [1],\n",
       "       [0],\n",
       "       [1],\n",
       "       [0],\n",
       "       [1],\n",
       "       [0],\n",
       "       [1],\n",
       "       [1],\n",
       "       [0],\n",
       "       [1],\n",
       "       [0],\n",
       "       [0],\n",
       "       [1],\n",
       "       [1],\n",
       "       [0],\n",
       "       [0],\n",
       "       [1],\n",
       "       [1],\n",
       "       [1],\n",
       "       [0],\n",
       "       [1],\n",
       "       [1],\n",
       "       [1],\n",
       "       [1],\n",
       "       [1],\n",
       "       [1],\n",
       "       [0],\n",
       "       [1],\n",
       "       [1],\n",
       "       [0],\n",
       "       [1],\n",
       "       [0],\n",
       "       [0],\n",
       "       [1],\n",
       "       [1],\n",
       "       [1],\n",
       "       [1],\n",
       "       [0],\n",
       "       [1],\n",
       "       [1],\n",
       "       [0],\n",
       "       [1],\n",
       "       [1],\n",
       "       [1],\n",
       "       [1],\n",
       "       [1],\n",
       "       [1],\n",
       "       [1],\n",
       "       [0],\n",
       "       [1],\n",
       "       [1],\n",
       "       [1],\n",
       "       [1],\n",
       "       [1],\n",
       "       [1],\n",
       "       [0],\n",
       "       [1],\n",
       "       [0],\n",
       "       [1],\n",
       "       [1],\n",
       "       [1],\n",
       "       [1],\n",
       "       [0],\n",
       "       [1],\n",
       "       [1],\n",
       "       [1],\n",
       "       [0],\n",
       "       [1]])>"
      ]
     },
     "execution_count": 604,
     "metadata": {},
     "output_type": "execute_result"
    }
   ],
   "source": [
    "y_test_tensor"
   ]
  },
  {
   "cell_type": "code",
   "execution_count": 607,
   "metadata": {},
   "outputs": [
    {
     "data": {
      "image/png": "[encoded data removed]",
      "text/plain": [
       "<Figure size 1200x800 with 4 Axes>"
      ]
     },
     "metadata": {},
     "output_type": "display_data"
    }
   ],
   "source": [
    "num_models = len(models)\n",
    "\n",
    "plt.figure(figsize=(12, 4*num_models))\n",
    "\n",
    "for i, history in enumerate(histories):\n",
    "    plt.subplot(num_models, 2, 2*i+1)\n",
    "    plt.plot(history.history['accuracy'], 'b', label='Training accuracy')\n",
    "    plt.plot(history.history['val_accuracy'], 'r', label='Validation accuracy')\n",
    "    plt.title(f'Model {model_names[i]} Training and validation accuracy')\n",
    "    plt.xlabel('Epochs')\n",
    "    plt.ylabel('Accuracy')\n",
    "    plt.legend()\n",
    "\n",
    "    plt.subplot(num_models, 2, 2*i+2)\n",
    "    plt.plot(history.history['loss'], 'b', label='Training loss')\n",
    "    plt.plot(history.history['val_loss'], 'r', label='Validation loss')\n",
    "    plt.title(f'Model {model_names[i]} Training and validation loss')\n",
    "    plt.xlabel('Epochs')\n",
    "    plt.ylabel('Loss')\n",
    "    plt.legend()\n",
    "\n",
    "plt.tight_layout()\n",
    "plt.show()\n"
   ]
  },
  {
   "cell_type": "markdown",
   "metadata": {},
   "source": [
    "### `Assign old Models`"
   ]
  },
  {
   "cell_type": "code",
   "execution_count": 608,
   "metadata": {},
   "outputs": [],
   "source": [
    "old_model = load_model('model.h5')\n",
    "models.append(old_model)\n",
    "model_names.append('Old Model')"
   ]
  },
  {
   "cell_type": "markdown",
   "metadata": {},
   "source": [
    "### `Predict`"
   ]
  },
  {
   "cell_type": "code",
   "execution_count": 609,
   "metadata": {},
   "outputs": [],
   "source": [
    "# SENTIMENT\n",
    "POSITIVE = \"Positif\"\n",
    "NEGATIVE = \"Negatif\""
   ]
  },
  {
   "cell_type": "code",
   "execution_count": 610,
   "metadata": {},
   "outputs": [],
   "source": [
    "def decode_sentiment(score):\n",
    "    return NEGATIVE if score <= 0.4 else POSITIVE\n",
    "\n",
    "def predict(text):\n",
    "    for i, model in enumerate(models):\n",
    "        x_test = pad_sequences(tokenizer.texts_to_sequences([text]), maxlen=SEQUENCE_LENGTH)\n",
    "        score = model.predict([x_test])[0][0]\n",
    "        label = decode_sentiment(score)\n",
    "    \n",
    "        print(f\"{model_names[i]}\\nSentiment: {label}\\nScore: {score}\")"
   ]
  },
  {
   "cell_type": "code",
   "execution_count": 611,
   "metadata": {},
   "outputs": [],
   "source": [
    "predicts_pos = ['Dukung Pragibs', 'Dukung Prabowo']\n",
    "predicts_neg = ['Prabowo tidak seperti Ganjar', 'Prabowo Blunder']"
   ]
  },
  {
   "cell_type": "code",
   "execution_count": 612,
   "metadata": {},
   "outputs": [
    {
     "name": "stdout",
     "output_type": "stream",
     "text": [
      "==> Text: Dukung Pragibs\n",
      "1/1 [==============================] - 0s 410ms/step\n"
     ]
    },
    {
     "name": "stdout",
     "output_type": "stream",
     "text": [
      "LSTM\n",
      "Sentiment: Positif\n",
      "Score: 0.42587414383888245\n",
      "1/1 [==============================] - 0s 456ms/step\n",
      "GRU\n",
      "Sentiment: Negatif\n",
      "Score: 0.35779765248298645\n",
      "1/1 [==============================] - 0s 370ms/step\n",
      "Old Model\n",
      "Sentiment: Positif\n",
      "Score: 0.5893702507019043\n",
      "\n",
      "==> Text: Dukung Prabowo\n",
      "1/1 [==============================] - 0s 54ms/step\n",
      "LSTM\n",
      "Sentiment: Positif\n",
      "Score: 0.529310405254364\n",
      "1/1 [==============================] - 0s 40ms/step\n",
      "GRU\n",
      "Sentiment: Positif\n",
      "Score: 0.5728911757469177\n",
      "1/1 [==============================] - 0s 49ms/step\n",
      "Old Model\n",
      "Sentiment: Positif\n",
      "Score: 0.4449637830257416\n",
      "\n"
     ]
    }
   ],
   "source": [
    "for i in predicts_pos:\n",
    "    print(f\"==> Text: {i}\")\n",
    "    predict(i)\n",
    "    print(\"\")"
   ]
  },
  {
   "cell_type": "code",
   "execution_count": 613,
   "metadata": {},
   "outputs": [
    {
     "name": "stdout",
     "output_type": "stream",
     "text": [
      "==> Text: Prabowo tidak seperti Ganjar\n",
      "1/1 [==============================] - 0s 55ms/step\n"
     ]
    },
    {
     "name": "stdout",
     "output_type": "stream",
     "text": [
      "LSTM\n",
      "Sentiment: Positif\n",
      "Score: 0.6983759999275208\n",
      "1/1 [==============================] - 0s 51ms/step\n",
      "GRU\n",
      "Sentiment: Positif\n",
      "Score: 0.7428502440452576\n",
      "1/1 [==============================] - 0s 56ms/step\n",
      "Old Model\n",
      "Sentiment: Negatif\n",
      "Score: 0.23513580858707428\n",
      "\n",
      "==> Text: Prabowo Blunder\n",
      "1/1 [==============================] - 0s 59ms/step\n",
      "LSTM\n",
      "Sentiment: Positif\n",
      "Score: 0.7081611752510071\n",
      "1/1 [==============================] - 0s 47ms/step\n",
      "GRU\n",
      "Sentiment: Positif\n",
      "Score: 0.7737290859222412\n",
      "1/1 [==============================] - 0s 42ms/step\n",
      "Old Model\n",
      "Sentiment: Negatif\n",
      "Score: 0.22462134063243866\n",
      "\n"
     ]
    }
   ],
   "source": [
    "for i in predicts_neg:\n",
    "    print(f\"==> Text: {i}\")\n",
    "    predict(i)\n",
    "    print(\"\")"
   ]
  },
  {
   "cell_type": "markdown",
   "metadata": {},
   "source": [
    "### `Confusion Matrix`"
   ]
  },
  {
   "cell_type": "code",
   "execution_count": 614,
   "metadata": {},
   "outputs": [
    {
     "data": {
      "text/plain": [
       "<tf.Tensor: shape=(263, 100), dtype=int32, numpy=\n",
       "array([[   0,    0,    0, ...,   59,   42,   10],\n",
       "       [   0,    0,    0, ..., 1661,  593, 1292],\n",
       "       [   0,    0,    0, ...,   12,    3,    4],\n",
       "       ...,\n",
       "       [   0,    0,    0, ...,   37,  125,  175],\n",
       "       [   0,    0,    0, ...,   26,   70,  110],\n",
       "       [   0,    0,    0, ...,  703,   20,   32]])>"
      ]
     },
     "execution_count": 614,
     "metadata": {},
     "output_type": "execute_result"
    }
   ],
   "source": [
    "x_test_tensor"
   ]
  },
  {
   "cell_type": "code",
   "execution_count": 615,
   "metadata": {},
   "outputs": [
    {
     "name": "stdout",
     "output_type": "stream",
     "text": [
      "2/9 [=====>........................] - ETA: 0s"
     ]
    },
    {
     "name": "stdout",
     "output_type": "stream",
     "text": [
      "9/9 [==============================] - 1s 138ms/step\n",
      "263\n",
      "9/9 [==============================] - 1s 82ms/step\n",
      "263\n",
      "9/9 [==============================] - 1s 120ms/step\n",
      "263\n"
     ]
    }
   ],
   "source": [
    "y_preds = []\n",
    "for i in models:\n",
    "    y_pred = i.predict(x_test_tensor)\n",
    "    binary_predictions = [\"positif\" if prob > 0.4 else \"negatif\" for prob in y_pred]\n",
    "    y_preds.append(binary_predictions)\n",
    "    print(len(y_pred))"
   ]
  },
  {
   "cell_type": "code",
   "execution_count": 616,
   "metadata": {},
   "outputs": [
    {
     "data": {
      "text/plain": [
       "['negatif', 'negatif', 'positif']"
      ]
     },
     "execution_count": 616,
     "metadata": {},
     "output_type": "execute_result"
    }
   ],
   "source": [
    "y_test = list(df_test.Label)\n",
    "y_test[:3]"
   ]
  },
  {
   "cell_type": "code",
   "execution_count": 617,
   "metadata": {},
   "outputs": [
    {
     "data": {
      "image/png": "[encoded data removed]",
      "text/plain": [
       "<Figure size 1200x800 with 6 Axes>"
      ]
     },
     "metadata": {},
     "output_type": "display_data"
    }
   ],
   "source": [
    "display_confusion_heatmap(y_test, y_preds, model_names)"
   ]
  },
  {
   "cell_type": "markdown",
   "metadata": {},
   "source": [
    "### `Test Accuracy`"
   ]
  },
  {
   "cell_type": "code",
   "execution_count": 618,
   "metadata": {},
   "outputs": [
    {
     "name": "stdout",
     "output_type": "stream",
     "text": [
      "Model: LSTM - Test accuracy: 0.155893536121673\n",
      "Model: GRU - Test accuracy: 0.18631178707224336\n",
      "Model: Old Model - Test accuracy: 0.8479087452471483\n"
     ]
    }
   ],
   "source": [
    "for i, y_pred in enumerate(y_preds):\n",
    "    acc = check_test_accuracy(y_pred, y_test)\n",
    "    print(f\"Model: {model_names[i]} - Test accuracy: {acc}\")"
   ]
  },
  {
   "cell_type": "markdown",
   "metadata": {},
   "source": [
    "### `Save Model`"
   ]
  },
  {
   "cell_type": "code",
   "execution_count": 619,
   "metadata": {},
   "outputs": [],
   "source": [
    "# # EXPORT\n",
    "# KERAS_MODEL = \"model.h5\"\n",
    "# WORD2VEC_MODEL = \"model.w2v\"\n",
    "# TOKENIZER_MODEL = \"tokenizer.pkl\"\n",
    "# ENCODER_MODEL = \"encoder.pkl\""
   ]
  },
  {
   "cell_type": "code",
   "execution_count": 620,
   "metadata": {},
   "outputs": [],
   "source": [
    "# import pickle"
   ]
  },
  {
   "cell_type": "code",
   "execution_count": 621,
   "metadata": {},
   "outputs": [],
   "source": [
    "# model.save(KERAS_MODEL)\n",
    "# w2v_model.save(WORD2VEC_MODEL)\n",
    "# pickle.dump(tokenizer, open(TOKENIZER_MODEL, \"wb\"), protocol=0)"
   ]
  }
 ],
 "metadata": {
  "kernelspec": {
   "display_name": "stki",
   "language": "python",
   "name": "python3"
  },
  "language_info": {
   "codemirror_mode": {
    "name": "ipython",
    "version": 3
   },
   "file_extension": ".py",
   "mimetype": "text/x-python",
   "name": "python",
   "nbconvert_exporter": "python",
   "pygments_lexer": "ipython3",
   "version": "3.7.16"
  }
 },
 "nbformat": 4,
 "nbformat_minor": 2
}
